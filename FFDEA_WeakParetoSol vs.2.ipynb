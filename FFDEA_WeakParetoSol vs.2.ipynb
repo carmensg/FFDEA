{
 "cells": [
  {
   "cell_type": "markdown",
   "metadata": {},
   "source": [
    "$\\begin{array}{lcl}\n",
    "\\mbox{(FFLP)}\\, &\\mbox{Min} & \\tilde{z}=(\\color{red}{-1},0,\\color{blue}{2})\\tilde{x}_1+(\\color{red}{1},2,\\color{blue}{3})\\tilde{x}_2 \\in\\mathcal{F}_C \\\\\n",
    "&\\mbox{s.t.} & (\\color{red}{2},5,\\color{blue}{8})\\tilde{x}_1+(\\color{red}{3},4,\\color{blue}{10})\\tilde{x}_2 <\\simeq (\\color{red}{1},3,\\color{blue}{6})\\\\\n",
    "&& (\\color{red}{4},5,\\color{blue}{7})\\tilde{x}_1+(\\color{red}{0},5,\\color{blue}{15})\\tilde{x}_2<\\simeq (\\color{red}{2},3,\\color{blue}{6})\\\\\n",
    "&& \\tilde{x}_1, \\tilde{x}_2 >\\simeq 0\n",
    "\\end{array}\n",
    "$\n",
    "\n",
    "There are two fuzzy variables, and two constraints with triangular fuzzy numbers,  this is a  $1-$polygonal case.\n"
   ]
  },
  {
   "cell_type": "markdown",
   "metadata": {},
   "source": [
    "Following the multiobjective linear problem (MOLP) associated is formulated, where the multiobjective function $f=(f_1,f_2,f_3):\\mathbb{R}^6\\rightarrow \\mathbb{R}^3$ is a  vector-valued function, evaluated on \n",
    "$x=(\\color{red}{x^-_1},\\hat{x}^{}_1,\\color{blue}{x^+_1}, \\color{red}{x^-_2},\\hat{x}^{}_2,\\color{blue}{x^+_2})\\in \\mathbb{R}^6$,\n",
    "\n",
    "$\\begin{array}{rcl}\n",
    "\\mbox{(MOLP)}\\ \\ \\mbox{Min } \\ \\ f(x) & = & (-x^+_1+x^-_2, 2\\hat{x}^{}_2, 2x^+_1+3x^+_2)\\in \\mathbb{R}^3 \\\\\n",
    "&s.t.& \\\\\n",
    "&& \\begin{array}{rcl}\n",
    "\\color{red}{2x^-_1+3x^-_2} &\\leq& \\color{red}{1},\\\\%[1ex]\n",
    " 5\\hat{x}^{}_1+4\\hat{x}^{}_2 &\\leq& 3,\\\\%[1ex]\n",
    " \\color{blue}{8x^+_1+10x^+_2} &\\leq& \\color{blue}{6},\\\\%[1ex]\n",
    "\\color{red}{4x^-_1} &\\leq& \\color{red}{2},\\\\%[1ex]\n",
    "5\\hat{x}^{}_1 +5\\hat{x}^{}_2&\\leq& 3,\\\\%[1ex]\n",
    "\\color{blue}{7x^+_1+15x^+_2} &\\leq& \\color{blue}{6},\\\\%[1ex]\n",
    "x^-_1-\\hat{x}^{}_1 &\\leq& 0, \\\\%[1ex]\n",
    "\\hat{x}^{}_1-x^+_1 &\\leq& 0, \\\\%[1ex]\n",
    "x^-_2-\\hat{x}^{}_2 &\\leq& 0, \\\\%[1ex]\n",
    "\\hat{x}^{}_2-x^+_2 &\\leq& 0, \\\\%[1ex]\n",
    "x^-_n,\\hat{x}^{}_n ,x^+_n &\\geq& 0,  \\quad n=1,2\n",
    "\\end{array}\n",
    "\\end{array}\n",
    "$\n",
    "\n",
    "There are $M_2=3M + 3N = 10$ constraints, and $N_2=3N=6$ variables. "
   ]
  },
  {
   "cell_type": "code",
   "execution_count": 3,
   "metadata": {},
   "outputs": [],
   "source": [
    "M=2\n",
    "N=2\n",
    "K=3\n",
    "# MOLP associated\n",
    "M2 = M*K+N*(K-1) # total no. of constraints\n",
    "N2 = N*K # total no. of vars"
   ]
  },
  {
   "cell_type": "markdown",
   "metadata": {},
   "source": [
    "Equivalently, the above problem in matrix notation results as \n",
    "\n",
    "\\begin{eqnarray*}\n",
    "\\mbox{(MOLP)}\\ \\ &\\mbox{Min } & Cx \\in \\mathbb{R}^{3} \\\\\n",
    "&s.t.& Ax \\leq b,  \\\\\n",
    "&& x\\geq 0\n",
    "\\end{eqnarray*}\n",
    "\n",
    "where, \n",
    "\n",
    "$\n",
    "C = \\left( \\begin{array}{cccccc}\n",
    "%1    &0    &0  &  1  &  0   & 0  \\\\\n",
    "0    &0    &-1  &  1  &  0   & 0  \\\\\n",
    " 0   &0  &  0 &   0  &  2 &   0 \\\\\n",
    " 0   & 0  &  2  &  0 &   0  &  3 \n",
    "\\end{array} \\right),\n",
    "\\qquad \n",
    "A = \\left( \\begin{array}{cccccc}\n",
    "2  &  0  &  0  &  3  &  0  &  0  \\\\%[-0.5ex]\n",
    "0  &  5  &  0 &   0 &   4   & 0   \\\\%[-0.5ex]\n",
    "0  &  0  &  8  &  0  &  0  & 10   \\\\%[-0.5ex]\n",
    "4  &  0  &  0 &  0  &  0  &  0   \\\\%[-0.5ex]\n",
    "0  &  5  & 0  &  0   & 5   & 0   \\\\%[-0.5ex]\n",
    "0  &  0  &  7 &   0 &   0  & 15  \\\\%[-0.5ex]\n",
    "1  & -1  &  0 &   0  &  0  &  0  \\\\%[-0.5ex]\n",
    "0  &  1  & -1  &  0  &  0 &   0   \\\\%[-0.5ex]\n",
    "0  &  0  &  0  &  1  & -1  &  0   \\\\%[-0.5ex]\n",
    "0 &   0  &  0  &  0  &  1  & -1  \n",
    "\\end{array} \\right),\n",
    "\\quad\n",
    "b =\n",
    "\\begin{pmatrix}\n",
    "1 \\\\ 3 \\\\ 6 \\\\ 2 \\\\ 3 \\\\ 6 \\\\0\\\\0\\\\0\\\\0 \n",
    "\\end{pmatrix},\n",
    "\\quad \n",
    "\\text{ and }\n",
    "\\quad\n",
    "x = \\begin{pmatrix}\n",
    "x^-_1 \\\\ \\hat{x}^{}_1 \\\\ x^+_1 \\\\ x^-_2 \\\\ \\hat{x}^{}_2 \\\\ x^+_2\n",
    "\\end{pmatrix}\n",
    "\\in \\mathbb{R}^{6}\n",
    "$\n"
   ]
  },
  {
   "cell_type": "code",
   "execution_count": 6,
   "metadata": {},
   "outputs": [
    {
     "data": {
      "text/html": [
       "<table>\n",
       "<tbody>\n",
       "\t<tr><td>2 </td><td> 0</td><td> 0</td><td>3 </td><td> 0</td><td> 0</td></tr>\n",
       "\t<tr><td>0 </td><td> 5</td><td> 0</td><td>0 </td><td> 4</td><td> 0</td></tr>\n",
       "\t<tr><td>0 </td><td> 0</td><td> 8</td><td>0 </td><td> 0</td><td>10</td></tr>\n",
       "\t<tr><td>4 </td><td> 0</td><td> 0</td><td>0 </td><td> 0</td><td> 0</td></tr>\n",
       "\t<tr><td>0 </td><td> 5</td><td> 0</td><td>0 </td><td> 5</td><td> 0</td></tr>\n",
       "\t<tr><td>0 </td><td> 0</td><td> 7</td><td>0 </td><td> 0</td><td>15</td></tr>\n",
       "\t<tr><td>1 </td><td>-1</td><td> 0</td><td>0 </td><td> 0</td><td> 0</td></tr>\n",
       "\t<tr><td>0 </td><td> 1</td><td>-1</td><td>0 </td><td> 0</td><td> 0</td></tr>\n",
       "\t<tr><td>0 </td><td> 0</td><td> 0</td><td>1 </td><td>-1</td><td> 0</td></tr>\n",
       "\t<tr><td>0 </td><td> 0</td><td> 0</td><td>0 </td><td> 1</td><td>-1</td></tr>\n",
       "</tbody>\n",
       "</table>\n"
      ],
      "text/latex": [
       "\\begin{tabular}{llllll}\n",
       "\t 2  &  0 &  0 & 3  &  0 &  0\\\\\n",
       "\t 0  &  5 &  0 & 0  &  4 &  0\\\\\n",
       "\t 0  &  0 &  8 & 0  &  0 & 10\\\\\n",
       "\t 4  &  0 &  0 & 0  &  0 &  0\\\\\n",
       "\t 0  &  5 &  0 & 0  &  5 &  0\\\\\n",
       "\t 0  &  0 &  7 & 0  &  0 & 15\\\\\n",
       "\t 1  & -1 &  0 & 0  &  0 &  0\\\\\n",
       "\t 0  &  1 & -1 & 0  &  0 &  0\\\\\n",
       "\t 0  &  0 &  0 & 1  & -1 &  0\\\\\n",
       "\t 0  &  0 &  0 & 0  &  1 & -1\\\\\n",
       "\\end{tabular}\n"
      ],
      "text/markdown": [
       "\n",
       "| 2  |  0 |  0 | 3  |  0 |  0 | \n",
       "| 0  |  5 |  0 | 0  |  4 |  0 | \n",
       "| 0  |  0 |  8 | 0  |  0 | 10 | \n",
       "| 4  |  0 |  0 | 0  |  0 |  0 | \n",
       "| 0  |  5 |  0 | 0  |  5 |  0 | \n",
       "| 0  |  0 |  7 | 0  |  0 | 15 | \n",
       "| 1  | -1 |  0 | 0  |  0 |  0 | \n",
       "| 0  |  1 | -1 | 0  |  0 |  0 | \n",
       "| 0  |  0 |  0 | 1  | -1 |  0 | \n",
       "| 0  |  0 |  0 | 0  |  1 | -1 | \n",
       "\n",
       "\n"
      ],
      "text/plain": [
       "      [,1] [,2] [,3] [,4] [,5] [,6]\n",
       " [1,] 2     0    0   3     0    0  \n",
       " [2,] 0     5    0   0     4    0  \n",
       " [3,] 0     0    8   0     0   10  \n",
       " [4,] 4     0    0   0     0    0  \n",
       " [5,] 0     5    0   0     5    0  \n",
       " [6,] 0     0    7   0     0   15  \n",
       " [7,] 1    -1    0   0     0    0  \n",
       " [8,] 0     1   -1   0     0    0  \n",
       " [9,] 0     0    0   1    -1    0  \n",
       "[10,] 0     0    0   0     1   -1  "
      ]
     },
     "metadata": {},
     "output_type": "display_data"
    }
   ],
   "source": [
    "## MULTIOBJECTIVE LP associated:\n",
    "\n",
    "# Matrix of coefficients\n",
    "\n",
    "\n",
    "# simplest way: direct manually definition of the matrix\n",
    "A2 = matrix( c(2 ,   0  ,  0  ,  3  ,  0  ,  0,  \n",
    "                0  ,  5  ,  0 ,   0 ,   4   , 0 ,  \n",
    "                0 ,   0  ,  8  ,  0  ,  0  , 10,   \n",
    "                4 ,   0  ,  0 ,  0  ,  0  ,  0  ,\n",
    "                0  ,  5  , 0  ,  0   , 5   , 0  , \n",
    "                0  ,  0  ,  7 ,   0 ,   0  , 15 , \n",
    "                1  , -1  ,  0 ,   0  ,  0  ,  0 , \n",
    "                0  ,  1  , -1  ,  0  ,  0 ,   0  ,\n",
    "                0  ,  0  ,  0  ,  1  , -1  ,  0 ,  \n",
    "                0 ,   0  ,  0  ,  0  ,  1  , -1),\n",
    "            nrow = M2,ncol=N2,byrow=TRUE)\n",
    "\n",
    "# check it \n",
    "A2\n"
   ]
  },
  {
   "cell_type": "code",
   "execution_count": 10,
   "metadata": {},
   "outputs": [
    {
     "data": {
      "text/html": [
       "<table>\n",
       "<tbody>\n",
       "\t<tr><td>1</td></tr>\n",
       "\t<tr><td>3</td></tr>\n",
       "\t<tr><td>6</td></tr>\n",
       "\t<tr><td>2</td></tr>\n",
       "\t<tr><td>3</td></tr>\n",
       "\t<tr><td>6</td></tr>\n",
       "\t<tr><td>0</td></tr>\n",
       "\t<tr><td>0</td></tr>\n",
       "\t<tr><td>0</td></tr>\n",
       "\t<tr><td>0</td></tr>\n",
       "</tbody>\n",
       "</table>\n"
      ],
      "text/latex": [
       "\\begin{tabular}{l}\n",
       "\t 1\\\\\n",
       "\t 3\\\\\n",
       "\t 6\\\\\n",
       "\t 2\\\\\n",
       "\t 3\\\\\n",
       "\t 6\\\\\n",
       "\t 0\\\\\n",
       "\t 0\\\\\n",
       "\t 0\\\\\n",
       "\t 0\\\\\n",
       "\\end{tabular}\n"
      ],
      "text/markdown": [
       "\n",
       "| 1 | \n",
       "| 3 | \n",
       "| 6 | \n",
       "| 2 | \n",
       "| 3 | \n",
       "| 6 | \n",
       "| 0 | \n",
       "| 0 | \n",
       "| 0 | \n",
       "| 0 | \n",
       "\n",
       "\n"
      ],
      "text/plain": [
       "      [,1]\n",
       " [1,] 1   \n",
       " [2,] 3   \n",
       " [3,] 6   \n",
       " [4,] 2   \n",
       " [5,] 3   \n",
       " [6,] 6   \n",
       " [7,] 0   \n",
       " [8,] 0   \n",
       " [9,] 0   \n",
       "[10,] 0   "
      ]
     },
     "metadata": {},
     "output_type": "display_data"
    }
   ],
   "source": [
    "# Vector of coefficients\n",
    "#B2 = rbind(matrix(t(B1)),matrix(0,N*(K-1)))\n",
    "\n",
    "B2 = matrix(c(1,3,6,2,3,6,0,0,0,0))\n",
    "\n",
    "# check it \n",
    "B2\n"
   ]
  },
  {
   "cell_type": "code",
   "execution_count": 13,
   "metadata": {},
   "outputs": [
    {
     "data": {
      "text/html": [
       "<table>\n",
       "<tbody>\n",
       "\t<tr><td>0 </td><td>0 </td><td>-1</td><td>1 </td><td>0 </td><td>0 </td></tr>\n",
       "\t<tr><td>0 </td><td>0 </td><td> 0</td><td>0 </td><td>2 </td><td>0 </td></tr>\n",
       "\t<tr><td>0 </td><td>0 </td><td> 2</td><td>0 </td><td>0 </td><td>3 </td></tr>\n",
       "</tbody>\n",
       "</table>\n"
      ],
      "text/latex": [
       "\\begin{tabular}{llllll}\n",
       "\t 0  & 0  & -1 & 1  & 0  & 0 \\\\\n",
       "\t 0  & 0  &  0 & 0  & 2  & 0 \\\\\n",
       "\t 0  & 0  &  2 & 0  & 0  & 3 \\\\\n",
       "\\end{tabular}\n"
      ],
      "text/markdown": [
       "\n",
       "| 0  | 0  | -1 | 1  | 0  | 0  | \n",
       "| 0  | 0  |  0 | 0  | 2  | 0  | \n",
       "| 0  | 0  |  2 | 0  | 0  | 3  | \n",
       "\n",
       "\n"
      ],
      "text/plain": [
       "     [,1] [,2] [,3] [,4] [,5] [,6]\n",
       "[1,] 0    0    -1   1    0    0   \n",
       "[2,] 0    0     0   0    2    0   \n",
       "[3,] 0    0     2   0    0    3   "
      ]
     },
     "metadata": {},
     "output_type": "display_data"
    }
   ],
   "source": [
    "# Coefficient function, or costs vector associated\n",
    "C2 = matrix( c(0,0,-1,1,0,0,0,0,0,0,2,0,0,0,2,0,0,3),\n",
    "            nrow = K,ncol=N2,byrow=TRUE)\n",
    "\n",
    "# check it \n",
    "C2"
   ]
  },
  {
   "cell_type": "markdown",
   "metadata": {},
   "source": [
    "To get a Weak Pareto solution of MOLP, we solve the weighted LP associated to some arbitrary weight $W = (w_1,w_2,w_3)$\n",
    "\n",
    "\\begin{eqnarray*}\n",
    "\\mbox{(WLP)}\\ \\ &\\mbox{Min } & WCx \\in \\mathbb{R} \\\\\n",
    "&s.t.& Ax \\leq b,  \\\\\n",
    "&& x\\geq 0\n",
    "\\end{eqnarray*}\n",
    "\n"
   ]
  },
  {
   "cell_type": "code",
   "execution_count": 16,
   "metadata": {},
   "outputs": [
    {
     "name": "stdout",
     "output_type": "stream",
     "text": [
      "[1] \"Weak Pareto Solution (WPS)\"\n"
     ]
    },
    {
     "data": {
      "text/html": [
       "<ol class=list-inline>\n",
       "\t<li>0</li>\n",
       "\t<li>0</li>\n",
       "\t<li>0</li>\n",
       "\t<li>0.333333333333333</li>\n",
       "\t<li>0.333333333333333</li>\n",
       "\t<li>0.333333333333333</li>\n",
       "</ol>\n"
      ],
      "text/latex": [
       "\\begin{enumerate*}\n",
       "\\item 0\n",
       "\\item 0\n",
       "\\item 0\n",
       "\\item 0.333333333333333\n",
       "\\item 0.333333333333333\n",
       "\\item 0.333333333333333\n",
       "\\end{enumerate*}\n"
      ],
      "text/markdown": [
       "1. 0\n",
       "2. 0\n",
       "3. 0\n",
       "4. 0.333333333333333\n",
       "5. 0.333333333333333\n",
       "6. 0.333333333333333\n",
       "\n",
       "\n"
      ],
      "text/plain": [
       "[1] 0.0000000 0.0000000 0.0000000 0.3333333 0.3333333 0.3333333"
      ]
     },
     "metadata": {},
     "output_type": "display_data"
    },
    {
     "name": "stdout",
     "output_type": "stream",
     "text": [
      "[1] \"WPS objective value\"\n"
     ]
    },
    {
     "data": {
      "text/html": [
       "0.333333333333333"
      ],
      "text/latex": [
       "0.333333333333333"
      ],
      "text/markdown": [
       "0.333333333333333"
      ],
      "text/plain": [
       "[1] 0.3333333"
      ]
     },
     "metadata": {},
     "output_type": "display_data"
    },
    {
     "data": {
      "text/html": [
       "<table>\n",
       "<tbody>\n",
       "\t<tr><td>0.3333333</td></tr>\n",
       "</tbody>\n",
       "</table>\n"
      ],
      "text/latex": [
       "\\begin{tabular}{l}\n",
       "\t 0.3333333\\\\\n",
       "\\end{tabular}\n"
      ],
      "text/markdown": [
       "\n",
       "| 0.3333333 | \n",
       "\n",
       "\n"
      ],
      "text/plain": [
       "     [,1]     \n",
       "[1,] 0.3333333"
      ]
     },
     "metadata": {},
     "output_type": "display_data"
    }
   ],
   "source": [
    "# # Weak Pareto Solution for (MOLP)\n",
    "\n",
    "# install.packages(\"lpSolve\")\n",
    "library(\"lpSolve\")\n",
    "\n",
    "\n",
    "# Some weight (arbitrary)\n",
    "W = c(1,0,0) #rep(1,times=K)\n",
    " \n",
    "f.obj = W%*%C2 #c(t(C2))\n",
    "f.con = A2\n",
    "f.rhs = B2\n",
    "f.dir <- rep(\"<=\",times=M2)\n",
    "# Now run.\n",
    "WP.Sol = lp (\"max\", f.obj, f.con, f.dir, f.rhs)\n",
    "\n",
    "print(\"Weak Pareto Solution (WPS)\")\n",
    "WP.Sol$solution\n",
    "\n",
    "print(\"WPS objective value\")\n",
    "WP.Sol$objval\n",
    "\n",
    "#check it \n",
    "f.obj%*%WP.Sol$solution"
   ]
  },
  {
   "cell_type": "code",
   "execution_count": 17,
   "metadata": {},
   "outputs": [
    {
     "data": {
      "text/html": [
       "<ol class=list-inline>\n",
       "\t<li>0</li>\n",
       "\t<li>0</li>\n",
       "\t<li>0</li>\n",
       "</ol>\n"
      ],
      "text/latex": [
       "\\begin{enumerate*}\n",
       "\\item 0\n",
       "\\item 0\n",
       "\\item 0\n",
       "\\end{enumerate*}\n"
      ],
      "text/markdown": [
       "1. 0\n",
       "2. 0\n",
       "3. 0\n",
       "\n",
       "\n"
      ],
      "text/plain": [
       "[1] 0 0 0"
      ]
     },
     "metadata": {},
     "output_type": "display_data"
    },
    {
     "data": {
      "text/html": [
       "<ol class=list-inline>\n",
       "\t<li>0.333333333333333</li>\n",
       "\t<li>0.333333333333333</li>\n",
       "\t<li>0.333333333333333</li>\n",
       "</ol>\n"
      ],
      "text/latex": [
       "\\begin{enumerate*}\n",
       "\\item 0.333333333333333\n",
       "\\item 0.333333333333333\n",
       "\\item 0.333333333333333\n",
       "\\end{enumerate*}\n"
      ],
      "text/markdown": [
       "1. 0.333333333333333\n",
       "2. 0.333333333333333\n",
       "3. 0.333333333333333\n",
       "\n",
       "\n"
      ],
      "text/plain": [
       "[1] 0.3333333 0.3333333 0.3333333"
      ]
     },
     "metadata": {},
     "output_type": "display_data"
    }
   ],
   "source": [
    "# Corresponding non dominated Fuzzy Solution for (FFLP)\n",
    "x1.fsol = WP.Sol$solution[1:3]\n",
    "x2.fsol = WP.Sol$solution[4:6]\n",
    "\n",
    "x1.fsol\n",
    "x2.fsol"
   ]
  },
  {
   "cell_type": "code",
   "execution_count": 31,
   "metadata": {},
   "outputs": [
    {
     "data": {
      "image/png": "[encoded data removed]",
      "text/plain": [
       "Plot with title “Fuzzy Numbers”"
      ]
     },
     "metadata": {},
     "output_type": "display_data"
    }
   ],
   "source": [
    "#Example of plotting Fuzzy Numbers\n",
    "\n",
    "# Objective function (costs vector)\n",
    "plot(c(-1,0,2),c(0,1,0),type = \"l\",lwd=2,col=\"black\" ,\n",
    "       xlim = c(-1,3),\n",
    "       main=\"Fuzzy Numbers\", ylab=\"\",\n",
    "       xlab = \"x\",\n",
    "       cex.lab=2,cex.axis=1.5,cex.main=2)\n",
    "# adding new points/lines (fuzzy number representation) to the previous plot\n",
    "points(c(-1,0,2),c(0,1,0),cex=2,#linewidth\n",
    "       col= \"black\",# define color\n",
    "       pch=15) # point character \n",
    "\n",
    "lines(c(1,2,3),c(0,1,0),lty=2,#line type\n",
    "      lwd=2,col= \"magenta\") \n",
    "points(c(1,2,3),c(0,1,0),cex=2,col= \"magenta\",pch=16) \n",
    "\n",
    "# Fuzzy solutions: \n",
    "lines(x1.fsol,c(0,1,0),lty=3,lwd=2,col= \"blue\") \n",
    "points(x1.fsol,c(0,1,0),cex=2,col= \"blue\",pch=17) \n",
    "\n",
    "lines(x2.fsol,c(0,1,0),lty=4,lwd=2,col= \"cyan\") \n",
    "points(x2.fsol,c(0,1,0),cex=2,col= \"cyan\",pch=18) \n",
    "\n",
    "\n",
    "\n",
    "\n"
   ]
  },
  {
   "cell_type": "markdown",
   "metadata": {},
   "source": [
    "# The approximation to Interval problem:\n",
    "\n",
    "NOTE: the notation is not established yet, so I applied the \"same\" as for triangular Fuzzy numbers"
   ]
  },
  {
   "cell_type": "markdown",
   "metadata": {},
   "source": [
    "$\\begin{array}{lcl}\n",
    "\\mbox{(FFLP)}\\, &\\mbox{Min} & \\tilde{z}=(\\color{red}{-1},\\color{blue}{2})\\tilde{x}_1+(\\color{red}{1},\\color{blue}{3})\\tilde{x}_2 \\\\\n",
    "&\\mbox{s.t.} & (\\color{red}{2},\\color{blue}{8})\\tilde{x}_1+(\\color{red}{3},\\color{blue}{10})\\tilde{x}_2 <\\simeq (\\color{red}{1},\\color{blue}{6})\\\\\n",
    "&& (\\color{red}{4},\\color{blue}{7})\\tilde{x}_1+(\\color{red}{0},\\color{blue}{15})\\tilde{x}_2<\\simeq (\\color{red}{2},\\color{blue}{6})\\\\\n",
    "&& \\tilde{x}_1, \\tilde{x}_2 >\\simeq 0\n",
    "\\end{array}\n",
    "$\n",
    "\n",
    "There are two **interval** (K=2) variables (N=2), and two constraints (M=2).\n",
    "\n",
    "Following the multiobjective linear problem (MOLP) associated is formulated, where the multiobjective function $f=(f_1,f_2):\\mathbb{R}^4\\rightarrow \\mathbb{R}^2$ is a  vector-valued function, evaluated on \n",
    "$x=(\\color{red}{x^-_1},\\color{blue}{x^+_1}, \\color{red}{x^-_2},\\color{blue}{x^+_2})\\in \\mathbb{R}^4$,\n",
    "\n",
    "$\\begin{array}{rcl}\n",
    "\\mbox{(MOLP)}\\ \\ \\mbox{Min } \\ \\ f(x) & = & (-x^+_1+x^-_2, 2x^+_1+3x^+_2)\\in \\mathbb{R}^2 \\\\\n",
    "&s.t.& \\\\\n",
    "&& \\begin{array}{rcl}\n",
    "\\color{red}{2x^-_1+3x^-_2} &\\leq& \\color{red}{1},\\\\%[1ex]\n",
    " \\color{blue}{8x^+_1+10x^+_2} &\\leq& \\color{blue}{6},\\\\%[1ex]\n",
    "\\color{red}{4x^-_1} &\\leq& \\color{red}{2},\\\\%[1ex]\n",
    "\\color{blue}{7x^+_1+15x^+_2} &\\leq& \\color{blue}{6},\\\\%[1ex]\n",
    "x^-_1-x^+_1 &\\leq& 0, \\\\%[1ex]\n",
    "x^-_2-x^+_2 &\\leq& 0, \\\\%[1ex]\n",
    "x^-_n,x^+_n &\\geq& 0,  \\quad n=1,2\n",
    "\\end{array}\n",
    "\\end{array}\n",
    "$\n",
    "\n",
    "There are $M_2=2M + (K-1)N = 6$ constraints, and $N_2=2N=4$ variables.\n",
    "\n"
   ]
  },
  {
   "cell_type": "code",
   "execution_count": null,
   "metadata": {},
   "outputs": [],
   "source": []
  }
 ],
 "metadata": {
  "kernelspec": {
   "display_name": "R",
   "language": "R",
   "name": "ir"
  },
  "language_info": {
   "codemirror_mode": "r",
   "file_extension": ".r",
   "mimetype": "text/x-r-source",
   "name": "R",
   "pygments_lexer": "r",
   "version": "3.5.1"
  }
 },
 "nbformat": 4,
 "nbformat_minor": 2
}
