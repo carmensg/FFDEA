{
 "cells": [
  {
   "cell_type": "markdown",
   "metadata": {},
   "source": [
    "# Fuzzy Enhanced Russell Graph Efficiency Measure (FERM)"
   ]
  },
  {
   "cell_type": "markdown",
   "metadata": {},
   "source": [
    "\\begin{eqnarray}\\label{prob: FERM}\n",
    "\\mbox{(FERM)}\\ \\ {R}^F(\\tilde{X}_p, \\tilde{Y}_p)= \n",
    "&\\mbox{Min} & {\\displaystyle\\frac{\\displaystyle\\frac{1}{M}\\sum_{i=1}^{M}\\theta_i}{\\displaystyle\\frac{1}{S}\\sum_{r=1}^{S}\\gamma_r    }    }\n",
    "\\\\[0.5em]\n",
    "&\\mbox{s.t.} & {\\displaystyle\\sum_{j=1}^{N}} \\lambda_j \\tilde{x}_{ij} \\preceq \\theta_i \\tilde{x}_{ip} ,\\quad i=1,\\dots, M\n",
    "\\nonumber\\\\[0.5em]\n",
    "&& {\\displaystyle\\sum_{j=1}^{n}} \\lambda_j \\tilde{y}_{rj} \\succeq \\gamma_r \\tilde{y}_{rp} ,\\quad r=1,\\dots, S,\n",
    "\\nonumber\\\\[0.5em]\n",
    "&& \\theta_i\\le 1, \\gamma_r\\ge 1,\\quad \\forall i,r, \\nonumber\\\\\n",
    "&& \\lambda_j \\geq 0 ,\\quad j=1,\\dots, N, \\nonumber\n",
    "\\end{eqnarray}\n",
    "\n",
    "where the different inputs $\\tilde{x}_{ij}$ and outputs $\\tilde{y}_{rj}$ belong to $(RPFN_k)_+$, i.e. \n",
    "\n",
    "\n",
    "\\begin{eqnarray*}\n",
    "\\tilde{x}_{ij} &=& ({x}^{-}_{{ij0}},{x}^{-}_{{ij1}},\\dots ,{x}^{-}_{{ijk}},{x}^{+}_{{ijk}},\\dots, {x}^{+}_{{ij1}},{x}^{+}_{{ij0}}),  \\quad i=1,\\dots, M, \\ \\ j=1,\\dots, N\\\\\n",
    "\\tilde{y}_{rj} &=& ({y}^{-}_{{rj0}},{y}^{-}_{{rj1}},\\dots ,{y}^{-}_{{rjk}},{y}^{+}_{{rjk}},\\dots, {y}^{+}_{{rj1}},{y}^{+}_{{rj0}}),  \\quad r=1,\\dots, S, \\ \\ j=1,\\dots, N \n",
    "\\end{eqnarray*}\n",
    "\n",
    "\n"
   ]
  },
  {
   "cell_type": "markdown",
   "metadata": {},
   "source": [
    "## Example: Hsiao et al 2011\n"
   ]
  },
  {
   "cell_type": "code",
   "execution_count": 41,
   "metadata": {},
   "outputs": [
    {
     "data": {
      "text/html": [
       "<table>\n",
       "<tbody>\n",
       "\t<tr><td>12</td><td>14</td><td>20</td><td>20</td><td>20</td></tr>\n",
       "\t<tr><td> 8</td><td> 7</td><td> 8</td><td> 6</td><td> 5</td></tr>\n",
       "</tbody>\n",
       "</table>\n"
      ],
      "text/latex": [
       "\\begin{tabular}{lllll}\n",
       "\t 12 & 14 & 20 & 20 & 20\\\\\n",
       "\t  8 &  7 &  8 &  6 &  5\\\\\n",
       "\\end{tabular}\n"
      ],
      "text/markdown": [
       "\n",
       "| 12 | 14 | 20 | 20 | 20 | \n",
       "|  8 |  7 |  8 |  6 |  5 | \n",
       "\n",
       "\n"
      ],
      "text/plain": [
       "     [,1] [,2] [,3] [,4] [,5]\n",
       "[1,] 12   14   20   20   20  \n",
       "[2,]  8    7    8    6    5  "
      ]
     },
     "metadata": {},
     "output_type": "display_data"
    },
    {
     "data": {
      "text/html": [
       "<table>\n",
       "<tbody>\n",
       "\t<tr><td>12</td><td>8 </td></tr>\n",
       "\t<tr><td>12</td><td>8 </td></tr>\n",
       "\t<tr><td>12</td><td>8 </td></tr>\n",
       "\t<tr><td>12</td><td>8 </td></tr>\n",
       "</tbody>\n",
       "</table>\n"
      ],
      "text/latex": [
       "\\begin{tabular}{ll}\n",
       "\t 12 & 8 \\\\\n",
       "\t 12 & 8 \\\\\n",
       "\t 12 & 8 \\\\\n",
       "\t 12 & 8 \\\\\n",
       "\\end{tabular}\n"
      ],
      "text/markdown": [
       "\n",
       "| 12 | 8  | \n",
       "| 12 | 8  | \n",
       "| 12 | 8  | \n",
       "| 12 | 8  | \n",
       "\n",
       "\n"
      ],
      "text/plain": [
       "     [,1] [,2]\n",
       "[1,] 12   8   \n",
       "[2,] 12   8   \n",
       "[3,] 12   8   \n",
       "[4,] 12   8   "
      ]
     },
     "metadata": {},
     "output_type": "display_data"
    },
    {
     "data": {
      "text/html": [
       "<table>\n",
       "<tbody>\n",
       "\t<tr><td>8</td><td>7</td><td>8</td><td>6</td><td>5</td></tr>\n",
       "\t<tr><td>8</td><td>7</td><td>8</td><td>6</td><td>6</td></tr>\n",
       "\t<tr><td>8</td><td>7</td><td>8</td><td>6</td><td>6</td></tr>\n",
       "\t<tr><td>8</td><td>7</td><td>8</td><td>6</td><td>7</td></tr>\n",
       "</tbody>\n",
       "</table>\n"
      ],
      "text/latex": [
       "\\begin{tabular}{lllll}\n",
       "\t 8 & 7 & 8 & 6 & 5\\\\\n",
       "\t 8 & 7 & 8 & 6 & 6\\\\\n",
       "\t 8 & 7 & 8 & 6 & 6\\\\\n",
       "\t 8 & 7 & 8 & 6 & 7\\\\\n",
       "\\end{tabular}\n"
      ],
      "text/markdown": [
       "\n",
       "| 8 | 7 | 8 | 6 | 5 | \n",
       "| 8 | 7 | 8 | 6 | 6 | \n",
       "| 8 | 7 | 8 | 6 | 6 | \n",
       "| 8 | 7 | 8 | 6 | 7 | \n",
       "\n",
       "\n"
      ],
      "text/plain": [
       "     [,1] [,2] [,3] [,4] [,5]\n",
       "[1,] 8    7    8    6    5   \n",
       "[2,] 8    7    8    6    6   \n",
       "[3,] 8    7    8    6    6   \n",
       "[4,] 8    7    8    6    7   "
      ]
     },
     "metadata": {},
     "output_type": "display_data"
    }
   ],
   "source": [
    "K = 1 # K=1-polygonal fuzzy number, RPFN_k\n",
    "L = 2*(K+1) # 2(k+1), \n",
    "N = 5 # DMUs\n",
    "M = 2 # inputs X\n",
    "S = 1 # outputs Y\n",
    "\n",
    "# DATA: Hsiao et al (2011)\n",
    "INPUTS <- array(c(12,12,12,12, 8,8,8,8, \n",
    "                 14,14,14,14, 7,7,7,7, \n",
    "                 20,20,20,20, 8,8,8,8,\n",
    "                 20,20,20,20, 6,6,6,6,\n",
    "                 20,20,20,20, 5,6,6,7), c(L,M,N)) \n",
    "#\n",
    "OUTPUTS <- array(c(10,10,10,10, \n",
    "                   10,10,10,10, \n",
    "                   10,10,10,10, \n",
    "                   10,10,10,10, \n",
    "                   10,10,10,10),c(L,S,N)) \n",
    "\n",
    "# Understand the structure:\n",
    "# First fuzzy element for each input of each DMU:\n",
    "INPUTS[1,,]\n",
    "# First DMU:\n",
    "INPUTS[,,1]\n",
    "# Second input for each DMU:\n",
    "INPUTS[,2,]"
   ]
  },
  {
   "cell_type": "markdown",
   "metadata": {},
   "source": [
    "**Notes:**\n",
    "<font color='blue'>For computational purposes, and to simplify notation, let use the equivalent one:</font>\n",
    "\n",
    "\\begin{eqnarray*}\n",
    "\\tilde{x}_{ij} &=& ({x}_{{ij1}},{x}_{{ij2}},\\dots ,{x}_{{ijL}}),  \\quad i=1,\\dots, M, \\ \\ j=1,\\dots, N, \\ \\ L= 2(K+1)\\\\\n",
    "\\tilde{y}_{rj} &=& ({y}_{{rj1}},{y}_{{rj2}},\\dots ,{y}_{{rjL}}),  \\quad r=1,\\dots, S, \\ \\ j=1,\\dots, N \n",
    "\\end{eqnarray*}\n",
    "\n",
    "Therefore, the correspondence is:\n",
    "\n",
    "$\\color{blue}{\\tilde{a} = ({a}^{-}_{{0}},{a}^{-}_{{1}},\\dots ,{a}^{-}_{{k}},{a}^{+}_{{k}},\\dots, {a}^{+}_{{1}},{a}^{+}_{{0}}) \\equiv  (a_1,a_2,\\ldots,a_L)}$\n",
    "\n",
    "\n",
    "where the number of components is $\\color{blue}{L=2(K+1)}$, corresponding to the two elements for eack $k+1$ levels of $(RPFN_k)$ fuzzy number. \n",
    "\n",
    "\\begin{eqnarray*}\n",
    "({a}^{-}_{{0}},{a}^{+}_{{0}}) &\\equiv& (a_1,a_L) \\\\\n",
    "({a}^{-}_{{1}},{a}^{+}_{{1}}) &\\equiv& (a_2,a_{L-1}) \\\\\n",
    "\\vdots && \\\\\n",
    "({a}^{-}_{{l}},{a}^{+}_{{l}}) &\\equiv& (a_{l},a_{L-l}) \\quad l=0,1,\\ldots,k\\\\\n",
    "\\vdots && \\\\\n",
    "({a}^{-}_{{K}},{a}^{+}_{{K}}) &\\equiv& (a_{L/2},a_{L/2+1}) \n",
    "\\end{eqnarray*}"
   ]
  },
  {
   "cell_type": "markdown",
   "metadata": {},
   "source": [
    "# Modified & linear FERM:\n",
    "\n",
    "To get a linear problem we define the new variables, \n",
    "\n",
    "\\begin{equation}\\label{eq: new variables}\n",
    "\\begin{array}{c}\n",
    "    {\\displaystyle\\frac{1}{\\beta}}={\\displaystyle{\\frac{1}{2S(K+1)}\\sum_{r=1}^{S} \\sum_{l=0}^{K} (\\gamma_{rk}^{L}+\\gamma_{rk}^{R})}},\\quad \\lambda'_j=\\beta\\lambda_j,\\\\\n",
    "    \\theta_{ik}^{'L}=\\beta\\theta_{ik}^{L},\\quad\n",
    "    \\theta_{ik}^{'R}=\\beta\\theta_{ik}^{R},\\quad\\gamma_{rk}^{'L}=\\beta\\gamma_{rk}^{L},\\quad\\gamma_{rk}^{'R}=\\beta\\gamma_{rk}^{R},\\quad\\forall j,i,r,k. \n",
    "    %j=1,\\dots,n,\\; i=1,\\dots,m,\\; r=1,\\dots, s.\n",
    "    \\end{array}\n",
    "\\end{equation}\n",
    "\n",
    "\n",
    "Reformulating (MFERM}) using the new variables, we have:\n",
    "\n",
    "\\begin{eqnarray}\\label{prob: PLFERM}\n",
    "\\mbox{(LMFERM)}\\ \\ {R}^F_M(\\tilde{X}_p, \\tilde{Y}_p)= &\\mbox{Min} & \n",
    "\\displaystyle \\frac{1}{2M(K+1)}\\sum_{i=1}^{M} \\sum_{k=0}^{K} (\\theta_{ik}^{'L}+\\theta_{ik}^{'R}) \n",
    "\\color{blue}{= \\frac{1}{ML}\\sum_{i=1}^{M} \\sum_{l=1}^{L} \\theta'_{il}}\n",
    "\\\\[0.5em]\n",
    "&\\mbox{s.t.} & \\displaystyle\\frac{1}{2S(K+1)}\\sum_{r=1}^{S}  \\sum_{k=0}^{K} (\\gamma_{rk}^{'L}+\\gamma_{rk}^{'R} )\n",
    "= 1 \\color{blue}{= \\frac{1}{SL}\\sum_{r=1}^{S} \\sum_{l=1}^{L} \\gamma'_{rl}}\n",
    "\\nonumber\\\\\n",
    "&& \\left. \\begin{array}{r}\n",
    "{\\displaystyle\\sum_{j=1}^{N}} \\lambda'_j {x}^{-}_{{ijk}} \\leq \n",
    "\\theta_{ik}^{'L} {x}^{-}_{ipk} ,\\quad i=1,\\dots, M, \\ \\ k=0,\\ldots,K\n",
    "\\nonumber\\\\[0.5em]\n",
    "{\\displaystyle\\sum_{j=1}^{N}} \\lambda'_j {x}^{+}_{{ijk}} \\leq \n",
    "\\theta_{ik}^{'R} {x}^{+}_{ipk} ,\\quad i=1,\\dots, M, \\ \\ k=0,\\ldots,K\n",
    "\\end{array} \\right\\} \n",
    "\\color{blue}{ \\sum_{j=1}^{N}   \\lambda'_j {x}_{{ijl}}  \\leq \n",
    "\\theta'_{il} {x}_{ipl} ,\\quad i=1,\\dots, M, \\ \\ l=1,\\ldots,L }\n",
    "\\nonumber\\\\[0.5em]\n",
    "&& \\left. \\begin{array}{r}\n",
    "{\\displaystyle\\sum_{j=1}^{N}} \\lambda'_j {y}^{-}_{rjk} \\geq \n",
    "\\gamma_{rk}^{'L} {y}^{-}_{rpk} ,\\quad r=1,\\dots, S, \\ \\ k=0,\\ldots,K\n",
    "\\nonumber\\\\[0.5em]\n",
    " {\\displaystyle\\sum_{j=1}^{N}} \\lambda'_j {y}^{+}_{rjl} \\geq \n",
    "\\gamma_{rk}^{'R} {y}^{+}_{rpk} ,\\quad r=1,\\dots, S, \\ \\ k=1,\\ldots,K \n",
    "\\end{array} \\right\\} \n",
    "\\color{blue}{{\\displaystyle\\sum_{j=1}^{N}} \\lambda'_j {y}_{rjl} \\geq \n",
    "\\gamma'_{rl} {y}_{rpl} ,\\quad r=1,\\dots, S, \\ \\ l=1,\\ldots,L }\n",
    "\\nonumber\\\\[0.5em]\n",
    "&&  \\left. \\begin{array}{l}\n",
    "\\color{magenta}{\\theta_{il}^{'L} \\le \\theta_{i(l+1)}^{'L}, \n",
    "\\quad i=1,\\dots, m,\\; l=0,\\ldots,k-1 }\n",
    "\\\\\n",
    " \\color{magenta}{ \\theta_{ik}^{'L} \\le \\theta_{ik}^{'R},\n",
    "\\qquad i=1,\\dots, m}\n",
    "\\\\\n",
    " \\color{magenta}{ \\theta_{i(l+1)}^{'R} \\le \\theta_{il}^{'R},\n",
    "\\quad i=1,\\dots, m,\\; l=0,\\ldots,k-1 }\n",
    "\\end{array} \\right\\} \n",
    "\\color{blue}{\\theta'_{il}\\leq \\theta'_{i(l+1)},\\quad i=1,\\dots, M, \\ \\ l=1,\\ldots,L-1 }\n",
    "\\nonumber\\\\\n",
    "&& \\left. \\begin{array}{l}\n",
    "\\color{magenta}{\\gamma_{rl}^{'L} \\le \\gamma_{r(l+1)}^{'L}, \n",
    "\\quad r=1,\\dots, s,\\; l=0,\\ldots,k-1 }\n",
    "\\\\\n",
    " \\color{magenta}{ \\gamma_{rk}^{'L} \\le \\gamma_{rk}^{'R},\n",
    "\\qquad r=1,\\dots, s}\n",
    "\\\\\n",
    " \\color{magenta}{ \\gamma_{r(l+1)}^{'R} \\le \\gamma_{rl}^{'R},\n",
    "\\quad r=1,\\dots, s,\\; l=0,\\ldots,k-1 }\n",
    "\\end{array} \\right\\} \n",
    "\\color{blue}{\\gamma'_{rl}\\leq \\gamma'_{r(l+1)},\\quad r=1,\\dots, S, \\ \\ l=1,\\ldots,L-1 }\n",
    "\\nonumber\\\\\n",
    "&& \\theta_{ik}^{'L} \\le \\beta, \\quad  \\theta_{ik}^{'R} \\le \\beta,\n",
    "\\quad i=1,\\dots, M,\\; k=0,\\ldots,K  \\quad\n",
    "\\color{blue}{\\equiv  \\theta'_{iL} \\le \\beta \\quad i=1,\\dots, M }\n",
    "\\nonumber\\\\\n",
    "&& \\gamma_{rk}^{'L} \\ge \\beta, \\quad \\gamma_{rk}^{'R} \\ge \\beta,\n",
    "\\quad r=1,\\dots, S,\\;k=0,\\ldots,K \\quad\n",
    "\\color{blue}{\\equiv  \\gamma'_{r1} \\ge \\beta \\quad r=1,\\dots, S}\n",
    "\\nonumber\\\\\n",
    "&& \\beta>0,\\\\\n",
    "&& \\lambda'_j \\geq 0 ,\\quad j=1,\\dots, N \\nonumber\n",
    "\\end{eqnarray}\n",
    "\n",
    "**NOTE:** To solve the above problem with lp (lpSolve package), we need to transform it in matrix notation:  \n",
    "\n",
    "\\begin{eqnarray*}\n",
    "\\ \\ &\\mbox{Min } & Cx  \\\\\n",
    "&s.t.& Ax \\leq b,  \\\\\n",
    "&& x\\geq 0\n",
    "\\end{eqnarray*}\n",
    "\n",
    "where, $x = (\\lambda_1,\\ldots,\\lambda_N,\\theta_{11},\\ldots,\\theta_{1L},\\ldots,\\theta_{M1},\\ldots,\\theta_{ML},\n",
    "\\gamma_{11},\\ldots,\\gamma_{1L},\\ldots,\\gamma_{S1},\\ldots,\\gamma_{SL},\\beta)$\n",
    "\n",
    "There are $N+(M+S)L+1$ variables, and $1+ML+SL+M(L-1)+S(L-1)+M+S+1 = 2L(M+S)+2$ constraints."
   ]
  },
  {
   "cell_type": "code",
   "execution_count": 42,
   "metadata": {},
   "outputs": [],
   "source": [
    "# Define variable arrays, for each DMU (N):\n",
    "ERM = array(0,N)\n",
    "beta = array(0,N)\n",
    "lambda = array(0,c(N,N))\n",
    "theta = array(0,c(N,M*L))\n",
    "gamma = array(0,c(N,S*L))\n",
    "\n",
    "Targets.X = array(0,c(L,M,N))\n",
    "Targets.Y = array(0,c(L,S,N))\n"
   ]
  },
  {
   "cell_type": "code",
   "execution_count": 43,
   "metadata": {},
   "outputs": [
    {
     "data": {
      "text/html": [
       "<ol class=list-inline>\n",
       "\t<li>0</li>\n",
       "\t<li>0</li>\n",
       "\t<li>0</li>\n",
       "\t<li>0</li>\n",
       "\t<li>0</li>\n",
       "</ol>\n"
      ],
      "text/latex": [
       "\\begin{enumerate*}\n",
       "\\item 0\n",
       "\\item 0\n",
       "\\item 0\n",
       "\\item 0\n",
       "\\item 0\n",
       "\\end{enumerate*}\n"
      ],
      "text/markdown": [
       "1. 0\n",
       "2. 0\n",
       "3. 0\n",
       "4. 0\n",
       "5. 0\n",
       "\n",
       "\n"
      ],
      "text/plain": [
       "[1] 0 0 0 0 0"
      ]
     },
     "metadata": {},
     "output_type": "display_data"
    },
    {
     "data": {
      "text/html": [
       "<table>\n",
       "<tbody>\n",
       "\t<tr><td>0</td><td>0</td><td>0</td><td>0</td></tr>\n",
       "\t<tr><td>0</td><td>0</td><td>0</td><td>0</td></tr>\n",
       "\t<tr><td>0</td><td>0</td><td>0</td><td>0</td></tr>\n",
       "\t<tr><td>0</td><td>0</td><td>0</td><td>0</td></tr>\n",
       "\t<tr><td>0</td><td>0</td><td>0</td><td>0</td></tr>\n",
       "</tbody>\n",
       "</table>\n"
      ],
      "text/latex": [
       "\\begin{tabular}{llll}\n",
       "\t 0 & 0 & 0 & 0\\\\\n",
       "\t 0 & 0 & 0 & 0\\\\\n",
       "\t 0 & 0 & 0 & 0\\\\\n",
       "\t 0 & 0 & 0 & 0\\\\\n",
       "\t 0 & 0 & 0 & 0\\\\\n",
       "\\end{tabular}\n"
      ],
      "text/markdown": [
       "\n",
       "| 0 | 0 | 0 | 0 | \n",
       "| 0 | 0 | 0 | 0 | \n",
       "| 0 | 0 | 0 | 0 | \n",
       "| 0 | 0 | 0 | 0 | \n",
       "| 0 | 0 | 0 | 0 | \n",
       "\n",
       "\n"
      ],
      "text/plain": [
       "     [,1] [,2] [,3] [,4]\n",
       "[1,] 0    0    0    0   \n",
       "[2,] 0    0    0    0   \n",
       "[3,] 0    0    0    0   \n",
       "[4,] 0    0    0    0   \n",
       "[5,] 0    0    0    0   "
      ]
     },
     "metadata": {},
     "output_type": "display_data"
    }
   ],
   "source": [
    "beta\n",
    "gamma"
   ]
  },
  {
   "cell_type": "markdown",
   "metadata": {},
   "source": [
    "## Example: Hsiao et al 2011 (continuation)\n",
    "\n",
    "LMFERM for this example is, for DMU $p=5$\n",
    "\n",
    "\\begin{eqnarray}\n",
    "(LMFERM)\\ \\ {R}^F_M(\\tilde{X}_1, \\tilde{Y}_1)= & {Min} & \\ \\ \n",
    "\\frac{1}{2\\cdot 4}\\sum_{i=1}^{2} \\sum_{l=1}^{4} \\theta'_{il} \n",
    "\\ \\   = \\ \\  \n",
    "\\theta'_{11} +  \\theta'_{12} +  \\theta'_{13} +  \\theta'_{14} + \n",
    "\\theta'_{21} +  \\theta'_{22} +  \\theta'_{23} +  \\theta'_{24} \n",
    "\\\\[0.5em]\n",
    "&\\mbox{s.t.} & \\displaystyle\\frac{1}{1\\cdot4}\\sum_{r=1}^{1} \\sum_{l=1}^{4} \\gamma'_{rl} \n",
    "\\ \\ = \\ \\ \\frac{1}{4}\\left( \\gamma'_{11} + \\gamma'_{12} + \\gamma'_{13} + \\gamma'_{14} \\right) = 1\n",
    "\\nonumber\\\\\n",
    "&&  \\left. \\begin{array}{lcr}\n",
    "12\\lambda'_1 + 14\\lambda'_2 + 20\\lambda'_3 + 20\\lambda'_4 + 20\\lambda'_5 &\\leq& 20\\theta'_{11} \\\\\n",
    "12\\lambda'_1 + 14\\lambda'_2 + 20\\lambda'_3 + 20\\lambda'_4 + 20\\lambda'_5 &\\leq& 20\\theta'_{12} \\\\\n",
    "12\\lambda'_1 + 14\\lambda'_2 + 20\\lambda'_3 + 20\\lambda'_4 + 20\\lambda'_5 &\\leq& 20\\theta'_{13} \\\\\n",
    "12\\lambda'_1 + 14\\lambda'_2 + 20\\lambda'_3 + 20\\lambda'_4 + 20\\lambda'_5 &\\leq& 20\\theta'_{14}\n",
    "\\end{array} \\right\\} \\ \\ i=1\n",
    "\\nonumber\\\\[0.5em]\n",
    "&&  \\left. \\begin{array}{lcr}\n",
    "8\\lambda'_1 + 7\\lambda'_2 + 8\\lambda'_3 + 6\\lambda'_4 + 5\\lambda'_5 &\\leq& 5\\theta'_{21} \\\\\n",
    "8\\lambda'_1 + 7\\lambda'_2 + 8\\lambda'_3 + 6\\lambda'_4 + 6\\lambda'_5 &\\leq& 6\\theta'_{22} \\\\\n",
    "8\\lambda'_1 + 7\\lambda'_2 + 8\\lambda'_3 + 6\\lambda'_4 + 6\\lambda'_5 &\\leq& 6\\theta'_{23} \\\\\n",
    "8\\lambda'_1 + 7\\lambda'_2 + 8\\lambda'_3 + 6\\lambda'_4 + 7\\lambda'_5 &\\leq& 7\\theta'_{24}\n",
    "\\end{array} \\right\\} \\ \\ i=2\n",
    "\\nonumber\\\\[0.5em]\n",
    "&& \\left. \\begin{array}{lcr}\n",
    "10\\lambda'_1 + 10\\lambda'_2 + 10\\lambda'_3 + 10\\lambda'_4 + 10\\lambda'_5 &\\geq& 10\\gamma'_{11}\\\\  \n",
    "10\\lambda'_1 + 10\\lambda'_2 + 10\\lambda'_3 + 10\\lambda'_4 + 10\\lambda'_5 &\\geq& 10\\gamma'_{12}\\\\  \n",
    "10\\lambda'_1 + 10\\lambda'_2 + 10\\lambda'_3 + 10\\lambda'_4 + 10\\lambda'_5 &\\geq& 10\\gamma'_{13}\\\\  \n",
    "10\\lambda'_1 + 10\\lambda'_2 + 10\\lambda'_3 + 10\\lambda'_4 + 10\\lambda'_5 &\\geq& 10\\gamma'_{14}\\\\  \n",
    "\\end{array} \\right\\} \\ \\ r=1\n",
    "\\nonumber\\\\[0.5em]\n",
    "&& \\theta'_{il} \\le \\beta \\quad i=1,2,\\; l=1,\\ldots,4\n",
    "\\nonumber\\\\\n",
    "&& \\gamma'_{rl} \\ge \\beta \\quad r=1 \\; l=1,\\ldots,4 \n",
    "\\nonumber\\\\\n",
    "&& \\beta>0, \\\\\n",
    "&& \\lambda'_j \\geq 0 ,\\quad j=1,\\dots, 5 \\nonumber\n",
    "\\end{eqnarray}\n",
    "\n"
   ]
  },
  {
   "cell_type": "code",
   "execution_count": 62,
   "metadata": {},
   "outputs": [
    {
     "data": {
      "text/html": [
       "18"
      ],
      "text/latex": [
       "18"
      ],
      "text/markdown": [
       "18"
      ],
      "text/plain": [
       "[1] 18"
      ]
     },
     "metadata": {},
     "output_type": "display_data"
    },
    {
     "data": {
      "text/html": [
       "26"
      ],
      "text/latex": [
       "26"
      ],
      "text/markdown": [
       "26"
      ],
      "text/plain": [
       "[1] 26"
      ]
     },
     "metadata": {},
     "output_type": "display_data"
    }
   ],
   "source": [
    "# There are \n",
    "NV = N+(M+S)*L+1 # variables, and\n",
    "NC = 2*L*(M+S)+2 # constraints\n",
    "\n",
    "NV; NC"
   ]
  },
  {
   "cell_type": "markdown",
   "metadata": {},
   "source": [
    "To solve the above problem with lp (lpSolve package), we need to transform it in matrix notation:  \n",
    "\n",
    "\\begin{eqnarray*}\n",
    "\\ \\ &\\mbox{Min } & Cx \\\\\n",
    "&s.t.& Ax \\leq b,  \\\\\n",
    "&& x\\geq 0, \\ \\ x \\in \\mathbb{R}^{18}\n",
    "\\end{eqnarray*}\n",
    "\n",
    "where, \n",
    "\n",
    "$x = \\begin{pmatrix}\n",
    "  \\lambda_1 & \\lambda_2 & \\lambda_3 & \\lambda_4 & \\lambda_5 &\n",
    "  \\theta_{11} &  \\theta_{12} &  \\theta_{13} &  \\theta_{14} & \n",
    "   \\theta_{21} &  \\theta_{22} &  \\theta_{23} &  \\theta_{24} &\n",
    "   \\gamma_{11} &  \\gamma_{12} &  \\gamma_{13} &  \\gamma_{14}& \\beta\n",
    "\\end{pmatrix}\n",
    "$\n",
    "\n",
    "$A = \\left(\\begin{array}{ccccc | cccccccc | cccc | c}\n",
    "  \\lambda_1 & \\lambda_2 & \\lambda_3 & \\lambda_4 & \\lambda_5 &\n",
    "  \\theta_{11} &  \\theta_{12} &  \\theta_{13} &  \\theta_{14} & \n",
    "   \\theta_{21} &  \\theta_{22} &  \\theta_{23} &  \\theta_{24} &\n",
    "   \\gamma_{11} &  \\gamma_{12} &  \\gamma_{13} &  \\gamma_{14}& \\beta\\\\\n",
    "   0 &0 & 0&0 & 0&0 &0 & 0& 0& 0& 0& 0& 0&  \\frac{1}{4}&  \\frac{1}{4}& \\frac{1}{4}& \\frac{1}{4} & 0\\\\\n",
    "   \\hline\n",
    "   12& 14& 20& 20& 20& -20& 0& 0& 0&0 &0 & 0& 0& 0& 0& 0& 0&0 \\\\\n",
    "   12& 14& 20& 20& 20& 0& -20& 0& 0&0 &0 & 0& 0& 0& 0& 0& 0&0 \\\\\n",
    "   12& 14& 20& 20& 20& 0& 0& -20& 0&0 &0 & 0& 0& 0& 0& 0& 0&0 \\\\\n",
    "   12& 14& 20& 20& 20& 0& 0& 0& -20& 0 &0 & 0& 0& 0& 0& 0& 0&0 \\\\\n",
    "   8& 7& 8& 6& 5& 0& 0& 0& 0& -5 &0 & 0& 0& 0& 0& 0& 0&0 \\\\\n",
    "   8& 7& 8& 6& 6& 0& 0& 0& 0& 0 &-6 & 0& 0& 0& 0& 0& 0&0 \\\\\n",
    "   8& 7& 8& 6& 6& 0& 0& 0& 0& 0 &0 & -6& 0& 0& 0& 0& 0&0 \\\\\n",
    "   8& 7& 8& 6& 7& 0& 0& 0& 0& 0 &0 & 0& -7& 0& 0& 0& 0&0 \\\\\n",
    "   \\hline\n",
    "   10&10 & 10&10 &10 & 0&0 &0 &0 & 0&0 &0 &0 & -10& 0& 0&0 &0 \\\\\n",
    "   10&10 & 10&10 &10 & 0&0 &0 &0 & 0&0 &0 &0 & 0& -10& 0&0 &0 \\\\\n",
    "   10&10 & 10&10 &10 & 0&0 &0 &0 & 0&0 &0 &0 & 0& 0& -10&0 &0 \\\\\n",
    "   10&10 & 10&10 &10 & 0&0 &0 &0 & 0&0 &0 &0 & 0& 0& 0&-10 &0 \\\\\n",
    "   \\hline\n",
    "   0&0 &0 &0 &0 & 1&-1 &0 &0 & 0&0 & 0& 0& 0& 0&0 & 0& 0 \\\\\n",
    "   0&0 &0 &0 &0 & 0&1 &-1 &0 & 0&0 & 0& 0& 0& 0&0 & 0& 0 \\\\\n",
    "   0&0 &0 &0 &0 & 0&0 &1 &-1 & 0&0 & 0& 0& 0& 0&0 & 0& 0 \\\\\n",
    "   0&0 &0 &0 &0 & 0&0 &0 &0 & 1&-1 & 0& 0& 0& 0&0 & 0& 0 \\\\\n",
    "   0&0 &0 &0 &0 & 0&0 &0 &0 & 0&1 & -1& 0& 0& 0&0 & 0& 0 \\\\\n",
    "   0&0 &0 &0 &0 & 0&0 &0 &0 & 0&0 & 1& -1& 0& 0&0 & 0& 0 \\\\\n",
    "   \\hline\n",
    "   0&0 &0 &0 &0 & 0&0 &0 &1 & 0&0 & 0& 0& 0& 0&0 & 0& -1 \\\\\n",
    "   0&0 &0 &0 &0 & 0&0 &0 &0 & 0&0 & 0& 1& 0& 0&0 & 0& -1 \\\\\n",
    "   \\hline\n",
    "   0&0 &0 &0 &0 & 0&0 &0 &0 & 0&0 & 0& 0& 1& -1&0 & 0& 0 \\\\\n",
    "   0&0 &0 &0 &0 & 0&0 &0 &0 & 0&0 & 0& 0& 0& 1&-1 & 0& 0 \\\\\n",
    "   0&0 &0 &0 &0 & 0&0 &0 &0 & 0&0 & 0& 0& 0& 0&1 & -1& 0 \\\\\n",
    "   \\hline\n",
    "   0&0 &0 &0 &0 & 0&0 &0 &0 & 0&0 & 0& 0& 1& 0&0 & 0& -1 \\\\\n",
    "   \\hline\n",
    "  0&0 &0 &0 &0 & 0&0 &0 &0 & 0&0 & 0& 0& 0& 0&0 & 0& 1 \n",
    " \\end{array} \\right)\n",
    " \\begin{matrix}\n",
    "  \\\\ = \\\\ \\leq \\\\ \\leq \\\\ \\leq \\\\ \\leq \\\\ \\leq \\\\ \\leq \\\\ \\leq \\\\ \\leq \\\\\n",
    " \\geq \\\\ \\geq \\\\ \\geq \\\\ \\geq \\\\ \n",
    " \\leq \\\\ \\leq \\\\ \\leq \\\\ \\leq \\\\ \\leq \\\\ \\leq \\\\ \\leq \\\\ \\leq \\\\\n",
    " \\geq \\\\ \\geq \\\\ \\geq \\\\ \\geq \\\\ >\n",
    " \\end{matrix}\n",
    " \\quad \n",
    " b = \\begin{pmatrix}\n",
    "1 \\\\ 0 \\\\ 0 \\\\ 0 \\\\ 0 \\\\ 0 \\\\ 0 \\\\ 0 \\\\ 0 \\\\ 0 \\\\\n",
    " 0 \\\\ 0 \\\\ 0 \\\\ 0 \\\\ \n",
    " 0 \\\\ 0 \\\\ 0 \\\\ 0 \\\\ 0\\\\ 0 \\\\ 0\\\\ 0 \\\\\n",
    " 0 \\\\ 0 \\\\ 0 \\\\ 0 \\\\ 0\n",
    "\\end{pmatrix}\n",
    "$\n",
    "\n",
    "and \n",
    "\n",
    "$\n",
    "C = \\begin{pmatrix}\n",
    "  0 & 0 & 0 & 0 & 0 &\n",
    "  \\frac{1}{8} &  \\frac{1}{8} & \\frac{1}{8} & \\frac{1}{8} & \n",
    "   \\frac{1}{8} &  \\frac{1}{8} & \\frac{1}{8} &  \\frac{1}{8} &\n",
    "   0 &  0 &  0 &  0& 0\n",
    "\\end{pmatrix}\n",
    "$\n",
    "\n",
    "\n"
   ]
  },
  {
   "cell_type": "code",
   "execution_count": 45,
   "metadata": {},
   "outputs": [
    {
     "data": {
      "text/html": [
       "<ol class=list-inline>\n",
       "\t<li>0</li>\n",
       "\t<li>0</li>\n",
       "\t<li>0</li>\n",
       "\t<li>0</li>\n",
       "\t<li>0</li>\n",
       "\t<li>0.125</li>\n",
       "\t<li>0.125</li>\n",
       "\t<li>0.125</li>\n",
       "\t<li>0.125</li>\n",
       "\t<li>0.125</li>\n",
       "\t<li>0.125</li>\n",
       "\t<li>0.125</li>\n",
       "\t<li>0.125</li>\n",
       "\t<li>0</li>\n",
       "\t<li>0</li>\n",
       "\t<li>0</li>\n",
       "\t<li>0</li>\n",
       "\t<li>0</li>\n",
       "</ol>\n"
      ],
      "text/latex": [
       "\\begin{enumerate*}\n",
       "\\item 0\n",
       "\\item 0\n",
       "\\item 0\n",
       "\\item 0\n",
       "\\item 0\n",
       "\\item 0.125\n",
       "\\item 0.125\n",
       "\\item 0.125\n",
       "\\item 0.125\n",
       "\\item 0.125\n",
       "\\item 0.125\n",
       "\\item 0.125\n",
       "\\item 0.125\n",
       "\\item 0\n",
       "\\item 0\n",
       "\\item 0\n",
       "\\item 0\n",
       "\\item 0\n",
       "\\end{enumerate*}\n"
      ],
      "text/markdown": [
       "1. 0\n",
       "2. 0\n",
       "3. 0\n",
       "4. 0\n",
       "5. 0\n",
       "6. 0.125\n",
       "7. 0.125\n",
       "8. 0.125\n",
       "9. 0.125\n",
       "10. 0.125\n",
       "11. 0.125\n",
       "12. 0.125\n",
       "13. 0.125\n",
       "14. 0\n",
       "15. 0\n",
       "16. 0\n",
       "17. 0\n",
       "18. 0\n",
       "\n",
       "\n"
      ],
      "text/plain": [
       " [1] 0.000 0.000 0.000 0.000 0.000 0.125 0.125 0.125 0.125 0.125 0.125 0.125\n",
       "[13] 0.125 0.000 0.000 0.000 0.000 0.000"
      ]
     },
     "metadata": {},
     "output_type": "display_data"
    },
    {
     "data": {
      "text/html": [
       "18"
      ],
      "text/latex": [
       "18"
      ],
      "text/markdown": [
       "18"
      ],
      "text/plain": [
       "[1] 18"
      ]
     },
     "metadata": {},
     "output_type": "display_data"
    }
   ],
   "source": [
    "dmu = 5\n",
    "\n",
    "## Set the coefficients of the decision variables -> C\n",
    "C <- c(rep(0,N),rep(1/(M*L),M*L),rep(0,S*L+1))\n",
    "\n",
    "C\n",
    "\n",
    "length(C)"
   ]
  },
  {
   "cell_type": "code",
   "execution_count": 46,
   "metadata": {},
   "outputs": [
    {
     "data": {
      "text/html": [
       "<ol class=list-inline>\n",
       "\t<li>1</li>\n",
       "\t<li>0</li>\n",
       "\t<li>0</li>\n",
       "\t<li>0</li>\n",
       "\t<li>0</li>\n",
       "\t<li>0</li>\n",
       "\t<li>0</li>\n",
       "\t<li>0</li>\n",
       "\t<li>0</li>\n",
       "\t<li>0</li>\n",
       "\t<li>0</li>\n",
       "\t<li>0</li>\n",
       "\t<li>0</li>\n",
       "\t<li>0</li>\n",
       "\t<li>0</li>\n",
       "\t<li>0</li>\n",
       "\t<li>0</li>\n",
       "\t<li>0</li>\n",
       "\t<li>0</li>\n",
       "\t<li>0</li>\n",
       "\t<li>0</li>\n",
       "\t<li>0</li>\n",
       "\t<li>0</li>\n",
       "\t<li>0</li>\n",
       "\t<li>0</li>\n",
       "\t<li>0</li>\n",
       "</ol>\n"
      ],
      "text/latex": [
       "\\begin{enumerate*}\n",
       "\\item 1\n",
       "\\item 0\n",
       "\\item 0\n",
       "\\item 0\n",
       "\\item 0\n",
       "\\item 0\n",
       "\\item 0\n",
       "\\item 0\n",
       "\\item 0\n",
       "\\item 0\n",
       "\\item 0\n",
       "\\item 0\n",
       "\\item 0\n",
       "\\item 0\n",
       "\\item 0\n",
       "\\item 0\n",
       "\\item 0\n",
       "\\item 0\n",
       "\\item 0\n",
       "\\item 0\n",
       "\\item 0\n",
       "\\item 0\n",
       "\\item 0\n",
       "\\item 0\n",
       "\\item 0\n",
       "\\item 0\n",
       "\\end{enumerate*}\n"
      ],
      "text/markdown": [
       "1. 1\n",
       "2. 0\n",
       "3. 0\n",
       "4. 0\n",
       "5. 0\n",
       "6. 0\n",
       "7. 0\n",
       "8. 0\n",
       "9. 0\n",
       "10. 0\n",
       "11. 0\n",
       "12. 0\n",
       "13. 0\n",
       "14. 0\n",
       "15. 0\n",
       "16. 0\n",
       "17. 0\n",
       "18. 0\n",
       "19. 0\n",
       "20. 0\n",
       "21. 0\n",
       "22. 0\n",
       "23. 0\n",
       "24. 0\n",
       "25. 0\n",
       "26. 0\n",
       "\n",
       "\n"
      ],
      "text/plain": [
       " [1] 1 0 0 0 0 0 0 0 0 0 0 0 0 0 0 0 0 0 0 0 0 0 0 0 0 0"
      ]
     },
     "metadata": {},
     "output_type": "display_data"
    },
    {
     "data": {
      "text/html": [
       "26"
      ],
      "text/latex": [
       "26"
      ],
      "text/markdown": [
       "26"
      ],
      "text/plain": [
       "[1] 26"
      ]
     },
     "metadata": {},
     "output_type": "display_data"
    }
   ],
   "source": [
    "# Right hand side for the constraints\n",
    "B <- c(1,rep(0,NC-1))\n",
    "\n",
    "B\n",
    "\n",
    "length(B)"
   ]
  },
  {
   "cell_type": "code",
   "execution_count": 47,
   "metadata": {},
   "outputs": [
    {
     "data": {
      "text/html": [
       "<ol class=list-inline>\n",
       "\t<li>'='</li>\n",
       "\t<li>'&lt;='</li>\n",
       "\t<li>'&lt;='</li>\n",
       "\t<li>'&lt;='</li>\n",
       "\t<li>'&lt;='</li>\n",
       "\t<li>'&lt;='</li>\n",
       "\t<li>'&lt;='</li>\n",
       "\t<li>'&lt;='</li>\n",
       "\t<li>'&lt;='</li>\n",
       "\t<li>'&gt;='</li>\n",
       "\t<li>'&gt;='</li>\n",
       "\t<li>'&gt;='</li>\n",
       "\t<li>'&gt;='</li>\n",
       "\t<li>'&lt;='</li>\n",
       "\t<li>'&lt;='</li>\n",
       "\t<li>'&lt;='</li>\n",
       "\t<li>'&lt;='</li>\n",
       "\t<li>'&lt;='</li>\n",
       "\t<li>'&lt;='</li>\n",
       "\t<li>'&lt;='</li>\n",
       "\t<li>'&lt;='</li>\n",
       "\t<li>'&gt;='</li>\n",
       "\t<li>'&gt;='</li>\n",
       "\t<li>'&gt;='</li>\n",
       "\t<li>'&gt;='</li>\n",
       "\t<li>'&gt;'</li>\n",
       "</ol>\n"
      ],
      "text/latex": [
       "\\begin{enumerate*}\n",
       "\\item '='\n",
       "\\item '<='\n",
       "\\item '<='\n",
       "\\item '<='\n",
       "\\item '<='\n",
       "\\item '<='\n",
       "\\item '<='\n",
       "\\item '<='\n",
       "\\item '<='\n",
       "\\item '>='\n",
       "\\item '>='\n",
       "\\item '>='\n",
       "\\item '>='\n",
       "\\item '<='\n",
       "\\item '<='\n",
       "\\item '<='\n",
       "\\item '<='\n",
       "\\item '<='\n",
       "\\item '<='\n",
       "\\item '<='\n",
       "\\item '<='\n",
       "\\item '>='\n",
       "\\item '>='\n",
       "\\item '>='\n",
       "\\item '>='\n",
       "\\item '>'\n",
       "\\end{enumerate*}\n"
      ],
      "text/markdown": [
       "1. '='\n",
       "2. '&lt;='\n",
       "3. '&lt;='\n",
       "4. '&lt;='\n",
       "5. '&lt;='\n",
       "6. '&lt;='\n",
       "7. '&lt;='\n",
       "8. '&lt;='\n",
       "9. '&lt;='\n",
       "10. '&gt;='\n",
       "11. '&gt;='\n",
       "12. '&gt;='\n",
       "13. '&gt;='\n",
       "14. '&lt;='\n",
       "15. '&lt;='\n",
       "16. '&lt;='\n",
       "17. '&lt;='\n",
       "18. '&lt;='\n",
       "19. '&lt;='\n",
       "20. '&lt;='\n",
       "21. '&lt;='\n",
       "22. '&gt;='\n",
       "23. '&gt;='\n",
       "24. '&gt;='\n",
       "25. '&gt;='\n",
       "26. '&gt;'\n",
       "\n",
       "\n"
      ],
      "text/plain": [
       " [1] \"=\"  \"<=\" \"<=\" \"<=\" \"<=\" \"<=\" \"<=\" \"<=\" \"<=\" \">=\" \">=\" \">=\" \">=\" \"<=\" \"<=\"\n",
       "[16] \"<=\" \"<=\" \"<=\" \"<=\" \"<=\" \"<=\" \">=\" \">=\" \">=\" \">=\" \">\" "
      ]
     },
     "metadata": {},
     "output_type": "display_data"
    },
    {
     "data": {
      "text/html": [
       "26"
      ],
      "text/latex": [
       "26"
      ],
      "text/markdown": [
       "26"
      ],
      "text/plain": [
       "[1] 26"
      ]
     },
     "metadata": {},
     "output_type": "display_data"
    }
   ],
   "source": [
    "# Direction of the constraints\n",
    "constraints_direction  <- c(\"=\",rep(\"<=\",M*L), rep(\">=\",S*L), \n",
    "                               rep(\"<=\",M*L), rep(\">=\",S*L),\">\") \n",
    "\n",
    "constraints_direction\n",
    "\n",
    "length(constraints_direction)"
   ]
  },
  {
   "cell_type": "markdown",
   "metadata": {},
   "source": [
    "Column indexes: \n",
    "\n",
    "$\\lambda_j, \\ \\ j=1,\\ldots,N \\quad : A[,j]$ \n",
    "\n",
    "$\\theta{il}, \\ \\ i=1,\\ldots,M, \\ \\ l=1,\\ldots,L \\quad : A[,N+L*(i-1)+l]$ \n",
    "\n",
    "$\\gamma{rl}, \\ \\ r=1,\\ldots,S, \\ \\ l=1,\\ldots,L \\quad : A[,N+L*M+L*(r-1)+l]$ \n",
    "\n",
    "$\\beta : \\ \\ A[,N+L*M+L*S+1]$ \n",
    "\n",
    "\n",
    "Constraints indexes:\n",
    "\n",
    "$\\frac{1}{SL}\\sum_{r=1}^{S} \\sum_{l=1}^{L} \\gamma_{rl} = 1 \\quad \\Rightarrow \\quad A[1,]$\n",
    "\n",
    "$\\sum_{j=1}^{N}   \\lambda'_j {x}_{{ijl}}  \\leq \n",
    "\\theta_{il} {x}_{ipl} ,\\quad i=1,\\dots, M, \\ \\ l=1,\\ldots,L \\quad \\Rightarrow \\quad A[1+L*(i-1)+l,] $\n",
    "\n",
    "$\\displaystyle\\sum_{j=1}^{N} \\lambda'_j {y}_{rjl} \\geq \n",
    "\\gamma_{rl} {y}_{rpl} ,\\quad r=1,\\dots, S, \\ \\ l=1,\\ldots,L \\quad \\Rightarrow \\quad A[1+L*M+L*(r-1)+l,] $\n",
    "\n",
    "$\\theta'_{il}\\leq \\theta'_{i(l+1)},\\quad i=1,\\dots, M, \\ \\ l=1,\\ldots,L-1 \n",
    "\\quad \\Rightarrow \\quad A[1+L*(M+S)+(i-1)*L+l,N+(i-1)*L+l]$\n",
    "\n",
    "$\\gamma_{rl}\\leq \\gamma_{r(l+1)},\\quad r=1,\\dots, S, \\ \\ l=1,\\ldots,L-1 \n",
    "\\quad \\Rightarrow \\quad A[1+L*(M+S)+(L-1)*M+(r-1)*S+l,N+M*L+(r-1)*S+l]$\n",
    "\n",
    "$\\theta_{iL} \\le \\beta \\quad i=1,\\dots, M, \\quad \\Rightarrow \\quad A[1+L*(M+S)+L*(i-1)+l,] $\n",
    "\n",
    "$\\gamma_{r1} \\ge \\beta \\quad r=1,\\dots, S, \\quad \\Rightarrow \\quad A[1+2*L*M+l*S)+L*(r-1)+l,] $\n",
    "\n",
    "$\\beta>0 \\quad \\Rightarrow \\quad A[2+2*L*(M+S),]$"
   ]
  },
  {
   "cell_type": "code",
   "execution_count": 65,
   "metadata": {},
   "outputs": [
    {
     "data": {
      "text/html": [
       "<table>\n",
       "<tbody>\n",
       "\t<tr><td> 0    </td><td> 0    </td><td> 0    </td><td> 0    </td><td> 0    </td><td>  0   </td><td>  0   </td><td>  0   </td><td>  0   </td><td> 0    </td><td> 0    </td><td> 0    </td><td> 0    </td><td>  0.25</td><td>  0.25</td><td>  0.25</td><td>  0.25</td><td> 0    </td></tr>\n",
       "\t<tr><td>12    </td><td>14    </td><td>20    </td><td>20    </td><td>20    </td><td>-20   </td><td>  0   </td><td>  0   </td><td>  0   </td><td> 0    </td><td> 0    </td><td> 0    </td><td> 0    </td><td>  0.00</td><td>  0.00</td><td>  0.00</td><td>  0.00</td><td> 0    </td></tr>\n",
       "\t<tr><td>12    </td><td>14    </td><td>20    </td><td>20    </td><td>20    </td><td>  0   </td><td>-20   </td><td>  0   </td><td>  0   </td><td> 0    </td><td> 0    </td><td> 0    </td><td> 0    </td><td>  0.00</td><td>  0.00</td><td>  0.00</td><td>  0.00</td><td> 0    </td></tr>\n",
       "\t<tr><td>12    </td><td>14    </td><td>20    </td><td>20    </td><td>20    </td><td>  0   </td><td>  0   </td><td>-20   </td><td>  0   </td><td> 0    </td><td> 0    </td><td> 0    </td><td> 0    </td><td>  0.00</td><td>  0.00</td><td>  0.00</td><td>  0.00</td><td> 0    </td></tr>\n",
       "\t<tr><td>12    </td><td>14    </td><td>20    </td><td>20    </td><td>20    </td><td>  0   </td><td>  0   </td><td>  0   </td><td>-20   </td><td> 0    </td><td> 0    </td><td> 0    </td><td> 0    </td><td>  0.00</td><td>  0.00</td><td>  0.00</td><td>  0.00</td><td> 0    </td></tr>\n",
       "\t<tr><td> 8    </td><td> 7    </td><td> 8    </td><td> 6    </td><td> 5    </td><td>  0   </td><td>  0   </td><td>  0   </td><td>  0   </td><td>-5    </td><td> 0    </td><td> 0    </td><td> 0    </td><td>  0.00</td><td>  0.00</td><td>  0.00</td><td>  0.00</td><td> 0    </td></tr>\n",
       "\t<tr><td> 8    </td><td> 7    </td><td> 8    </td><td> 6    </td><td> 6    </td><td>  0   </td><td>  0   </td><td>  0   </td><td>  0   </td><td> 0    </td><td>-6    </td><td> 0    </td><td> 0    </td><td>  0.00</td><td>  0.00</td><td>  0.00</td><td>  0.00</td><td> 0    </td></tr>\n",
       "\t<tr><td> 8    </td><td> 7    </td><td> 8    </td><td> 6    </td><td> 6    </td><td>  0   </td><td>  0   </td><td>  0   </td><td>  0   </td><td> 0    </td><td> 0    </td><td>-6    </td><td> 0    </td><td>  0.00</td><td>  0.00</td><td>  0.00</td><td>  0.00</td><td> 0    </td></tr>\n",
       "\t<tr><td> 8    </td><td> 7    </td><td> 8    </td><td> 6    </td><td> 7    </td><td>  0   </td><td>  0   </td><td>  0   </td><td>  0   </td><td> 0    </td><td> 0    </td><td> 0    </td><td>-7    </td><td>  0.00</td><td>  0.00</td><td>  0.00</td><td>  0.00</td><td> 0    </td></tr>\n",
       "\t<tr><td>10    </td><td>10    </td><td>10    </td><td>10    </td><td>10    </td><td>  0   </td><td>  0   </td><td>  0   </td><td>  0   </td><td> 0    </td><td> 0    </td><td> 0    </td><td> 0    </td><td>-10.00</td><td>  0.00</td><td>  0.00</td><td>  0.00</td><td> 0    </td></tr>\n",
       "\t<tr><td>10    </td><td>10    </td><td>10    </td><td>10    </td><td>10    </td><td>  0   </td><td>  0   </td><td>  0   </td><td>  0   </td><td> 0    </td><td> 0    </td><td> 0    </td><td> 0    </td><td>  0.00</td><td>-10.00</td><td>  0.00</td><td>  0.00</td><td> 0    </td></tr>\n",
       "\t<tr><td>10    </td><td>10    </td><td>10    </td><td>10    </td><td>10    </td><td>  0   </td><td>  0   </td><td>  0   </td><td>  0   </td><td> 0    </td><td> 0    </td><td> 0    </td><td> 0    </td><td>  0.00</td><td>  0.00</td><td>-10.00</td><td>  0.00</td><td> 0    </td></tr>\n",
       "\t<tr><td>10    </td><td>10    </td><td>10    </td><td>10    </td><td>10    </td><td>  0   </td><td>  0   </td><td>  0   </td><td>  0   </td><td> 0    </td><td> 0    </td><td> 0    </td><td> 0    </td><td>  0.00</td><td>  0.00</td><td>  0.00</td><td>-10.00</td><td> 0    </td></tr>\n",
       "\t<tr><td> 0    </td><td> 0    </td><td> 0    </td><td> 0    </td><td> 0    </td><td>  1   </td><td> -1   </td><td>  0   </td><td>  0   </td><td> 0    </td><td> 0    </td><td> 0    </td><td> 0    </td><td>  0.00</td><td>  0.00</td><td>  0.00</td><td>  0.00</td><td> 0    </td></tr>\n",
       "\t<tr><td> 0    </td><td> 0    </td><td> 0    </td><td> 0    </td><td> 0    </td><td>  0   </td><td>  1   </td><td> -1   </td><td>  0   </td><td> 0    </td><td> 0    </td><td> 0    </td><td> 0    </td><td>  0.00</td><td>  0.00</td><td>  0.00</td><td>  0.00</td><td> 0    </td></tr>\n",
       "\t<tr><td> 0    </td><td> 0    </td><td> 0    </td><td> 0    </td><td> 0    </td><td>  0   </td><td>  0   </td><td>  1   </td><td> -1   </td><td> 0    </td><td> 0    </td><td> 0    </td><td> 0    </td><td>  0.00</td><td>  0.00</td><td>  0.00</td><td>  0.00</td><td> 0    </td></tr>\n",
       "\t<tr><td> 0    </td><td> 0    </td><td> 0    </td><td> 0    </td><td> 0    </td><td>  0   </td><td>  0   </td><td>  0   </td><td>  0   </td><td> 1    </td><td>-1    </td><td> 0    </td><td> 0    </td><td>  0.00</td><td>  0.00</td><td>  0.00</td><td>  0.00</td><td> 0    </td></tr>\n",
       "\t<tr><td> 0    </td><td> 0    </td><td> 0    </td><td> 0    </td><td> 0    </td><td>  0   </td><td>  0   </td><td>  0   </td><td>  0   </td><td> 0    </td><td> 1    </td><td>-1    </td><td> 0    </td><td>  0.00</td><td>  0.00</td><td>  0.00</td><td>  0.00</td><td> 0    </td></tr>\n",
       "\t<tr><td> 0    </td><td> 0    </td><td> 0    </td><td> 0    </td><td> 0    </td><td>  0   </td><td>  0   </td><td>  0   </td><td>  0   </td><td> 0    </td><td> 0    </td><td> 1    </td><td>-1    </td><td>  0.00</td><td>  0.00</td><td>  0.00</td><td>  0.00</td><td> 0    </td></tr>\n",
       "\t<tr><td> 0    </td><td> 0    </td><td> 0    </td><td> 0    </td><td> 0    </td><td>  0   </td><td>  0   </td><td>  0   </td><td>  0   </td><td> 0    </td><td> 0    </td><td> 0    </td><td> 0    </td><td>  1.00</td><td> -1.00</td><td>  0.00</td><td>  0.00</td><td> 0    </td></tr>\n",
       "\t<tr><td> 0    </td><td> 0    </td><td> 0    </td><td> 0    </td><td> 0    </td><td>  0   </td><td>  0   </td><td>  0   </td><td>  0   </td><td> 0    </td><td> 0    </td><td> 0    </td><td> 0    </td><td>  0.00</td><td>  1.00</td><td> -1.00</td><td>  0.00</td><td> 0    </td></tr>\n",
       "\t<tr><td> 0    </td><td> 0    </td><td> 0    </td><td> 0    </td><td> 0    </td><td>  0   </td><td>  0   </td><td>  0   </td><td>  0   </td><td> 0    </td><td> 0    </td><td> 0    </td><td> 0    </td><td>  0.00</td><td>  0.00</td><td>  1.00</td><td> -1.00</td><td> 0    </td></tr>\n",
       "\t<tr><td> 0    </td><td> 0    </td><td> 0    </td><td> 0    </td><td> 0    </td><td>  0   </td><td>  0   </td><td>  0   </td><td>  1   </td><td> 0    </td><td> 0    </td><td> 0    </td><td> 0    </td><td>  0.00</td><td>  0.00</td><td>  0.00</td><td>  0.00</td><td>-1    </td></tr>\n",
       "\t<tr><td> 0    </td><td> 0    </td><td> 0    </td><td> 0    </td><td> 0    </td><td>  0   </td><td>  0   </td><td>  0   </td><td>  0   </td><td> 0    </td><td> 0    </td><td> 0    </td><td> 1    </td><td>  0.00</td><td>  0.00</td><td>  0.00</td><td>  0.00</td><td>-1    </td></tr>\n",
       "\t<tr><td> 0    </td><td> 0    </td><td> 0    </td><td> 0    </td><td> 0    </td><td>  0   </td><td>  0   </td><td>  0   </td><td>  0   </td><td> 0    </td><td> 0    </td><td> 0    </td><td> 0    </td><td>  1.00</td><td>  0.00</td><td>  0.00</td><td>  0.00</td><td>-1    </td></tr>\n",
       "\t<tr><td> 0    </td><td> 0    </td><td> 0    </td><td> 0    </td><td> 0    </td><td>  0   </td><td>  0   </td><td>  0   </td><td>  0   </td><td> 0    </td><td> 0    </td><td> 0    </td><td> 0    </td><td>  0.00</td><td>  0.00</td><td>  0.00</td><td>  0.00</td><td> 1    </td></tr>\n",
       "</tbody>\n",
       "</table>\n"
      ],
      "text/latex": [
       "\\begin{tabular}{llllllllllllllllll}\n",
       "\t  0     &  0     &  0     &  0     &  0     &   0    &   0    &   0    &   0    &  0     &  0     &  0     &  0     &   0.25 &   0.25 &   0.25 &   0.25 &  0    \\\\\n",
       "\t 12     & 14     & 20     & 20     & 20     & -20    &   0    &   0    &   0    &  0     &  0     &  0     &  0     &   0.00 &   0.00 &   0.00 &   0.00 &  0    \\\\\n",
       "\t 12     & 14     & 20     & 20     & 20     &   0    & -20    &   0    &   0    &  0     &  0     &  0     &  0     &   0.00 &   0.00 &   0.00 &   0.00 &  0    \\\\\n",
       "\t 12     & 14     & 20     & 20     & 20     &   0    &   0    & -20    &   0    &  0     &  0     &  0     &  0     &   0.00 &   0.00 &   0.00 &   0.00 &  0    \\\\\n",
       "\t 12     & 14     & 20     & 20     & 20     &   0    &   0    &   0    & -20    &  0     &  0     &  0     &  0     &   0.00 &   0.00 &   0.00 &   0.00 &  0    \\\\\n",
       "\t  8     &  7     &  8     &  6     &  5     &   0    &   0    &   0    &   0    & -5     &  0     &  0     &  0     &   0.00 &   0.00 &   0.00 &   0.00 &  0    \\\\\n",
       "\t  8     &  7     &  8     &  6     &  6     &   0    &   0    &   0    &   0    &  0     & -6     &  0     &  0     &   0.00 &   0.00 &   0.00 &   0.00 &  0    \\\\\n",
       "\t  8     &  7     &  8     &  6     &  6     &   0    &   0    &   0    &   0    &  0     &  0     & -6     &  0     &   0.00 &   0.00 &   0.00 &   0.00 &  0    \\\\\n",
       "\t  8     &  7     &  8     &  6     &  7     &   0    &   0    &   0    &   0    &  0     &  0     &  0     & -7     &   0.00 &   0.00 &   0.00 &   0.00 &  0    \\\\\n",
       "\t 10     & 10     & 10     & 10     & 10     &   0    &   0    &   0    &   0    &  0     &  0     &  0     &  0     & -10.00 &   0.00 &   0.00 &   0.00 &  0    \\\\\n",
       "\t 10     & 10     & 10     & 10     & 10     &   0    &   0    &   0    &   0    &  0     &  0     &  0     &  0     &   0.00 & -10.00 &   0.00 &   0.00 &  0    \\\\\n",
       "\t 10     & 10     & 10     & 10     & 10     &   0    &   0    &   0    &   0    &  0     &  0     &  0     &  0     &   0.00 &   0.00 & -10.00 &   0.00 &  0    \\\\\n",
       "\t 10     & 10     & 10     & 10     & 10     &   0    &   0    &   0    &   0    &  0     &  0     &  0     &  0     &   0.00 &   0.00 &   0.00 & -10.00 &  0    \\\\\n",
       "\t  0     &  0     &  0     &  0     &  0     &   1    &  -1    &   0    &   0    &  0     &  0     &  0     &  0     &   0.00 &   0.00 &   0.00 &   0.00 &  0    \\\\\n",
       "\t  0     &  0     &  0     &  0     &  0     &   0    &   1    &  -1    &   0    &  0     &  0     &  0     &  0     &   0.00 &   0.00 &   0.00 &   0.00 &  0    \\\\\n",
       "\t  0     &  0     &  0     &  0     &  0     &   0    &   0    &   1    &  -1    &  0     &  0     &  0     &  0     &   0.00 &   0.00 &   0.00 &   0.00 &  0    \\\\\n",
       "\t  0     &  0     &  0     &  0     &  0     &   0    &   0    &   0    &   0    &  1     & -1     &  0     &  0     &   0.00 &   0.00 &   0.00 &   0.00 &  0    \\\\\n",
       "\t  0     &  0     &  0     &  0     &  0     &   0    &   0    &   0    &   0    &  0     &  1     & -1     &  0     &   0.00 &   0.00 &   0.00 &   0.00 &  0    \\\\\n",
       "\t  0     &  0     &  0     &  0     &  0     &   0    &   0    &   0    &   0    &  0     &  0     &  1     & -1     &   0.00 &   0.00 &   0.00 &   0.00 &  0    \\\\\n",
       "\t  0     &  0     &  0     &  0     &  0     &   0    &   0    &   0    &   0    &  0     &  0     &  0     &  0     &   1.00 &  -1.00 &   0.00 &   0.00 &  0    \\\\\n",
       "\t  0     &  0     &  0     &  0     &  0     &   0    &   0    &   0    &   0    &  0     &  0     &  0     &  0     &   0.00 &   1.00 &  -1.00 &   0.00 &  0    \\\\\n",
       "\t  0     &  0     &  0     &  0     &  0     &   0    &   0    &   0    &   0    &  0     &  0     &  0     &  0     &   0.00 &   0.00 &   1.00 &  -1.00 &  0    \\\\\n",
       "\t  0     &  0     &  0     &  0     &  0     &   0    &   0    &   0    &   1    &  0     &  0     &  0     &  0     &   0.00 &   0.00 &   0.00 &   0.00 & -1    \\\\\n",
       "\t  0     &  0     &  0     &  0     &  0     &   0    &   0    &   0    &   0    &  0     &  0     &  0     &  1     &   0.00 &   0.00 &   0.00 &   0.00 & -1    \\\\\n",
       "\t  0     &  0     &  0     &  0     &  0     &   0    &   0    &   0    &   0    &  0     &  0     &  0     &  0     &   1.00 &   0.00 &   0.00 &   0.00 & -1    \\\\\n",
       "\t  0     &  0     &  0     &  0     &  0     &   0    &   0    &   0    &   0    &  0     &  0     &  0     &  0     &   0.00 &   0.00 &   0.00 &   0.00 &  1    \\\\\n",
       "\\end{tabular}\n"
      ],
      "text/markdown": [
       "\n",
       "|  0     |  0     |  0     |  0     |  0     |   0    |   0    |   0    |   0    |  0     |  0     |  0     |  0     |   0.25 |   0.25 |   0.25 |   0.25 |  0     | \n",
       "| 12     | 14     | 20     | 20     | 20     | -20    |   0    |   0    |   0    |  0     |  0     |  0     |  0     |   0.00 |   0.00 |   0.00 |   0.00 |  0     | \n",
       "| 12     | 14     | 20     | 20     | 20     |   0    | -20    |   0    |   0    |  0     |  0     |  0     |  0     |   0.00 |   0.00 |   0.00 |   0.00 |  0     | \n",
       "| 12     | 14     | 20     | 20     | 20     |   0    |   0    | -20    |   0    |  0     |  0     |  0     |  0     |   0.00 |   0.00 |   0.00 |   0.00 |  0     | \n",
       "| 12     | 14     | 20     | 20     | 20     |   0    |   0    |   0    | -20    |  0     |  0     |  0     |  0     |   0.00 |   0.00 |   0.00 |   0.00 |  0     | \n",
       "|  8     |  7     |  8     |  6     |  5     |   0    |   0    |   0    |   0    | -5     |  0     |  0     |  0     |   0.00 |   0.00 |   0.00 |   0.00 |  0     | \n",
       "|  8     |  7     |  8     |  6     |  6     |   0    |   0    |   0    |   0    |  0     | -6     |  0     |  0     |   0.00 |   0.00 |   0.00 |   0.00 |  0     | \n",
       "|  8     |  7     |  8     |  6     |  6     |   0    |   0    |   0    |   0    |  0     |  0     | -6     |  0     |   0.00 |   0.00 |   0.00 |   0.00 |  0     | \n",
       "|  8     |  7     |  8     |  6     |  7     |   0    |   0    |   0    |   0    |  0     |  0     |  0     | -7     |   0.00 |   0.00 |   0.00 |   0.00 |  0     | \n",
       "| 10     | 10     | 10     | 10     | 10     |   0    |   0    |   0    |   0    |  0     |  0     |  0     |  0     | -10.00 |   0.00 |   0.00 |   0.00 |  0     | \n",
       "| 10     | 10     | 10     | 10     | 10     |   0    |   0    |   0    |   0    |  0     |  0     |  0     |  0     |   0.00 | -10.00 |   0.00 |   0.00 |  0     | \n",
       "| 10     | 10     | 10     | 10     | 10     |   0    |   0    |   0    |   0    |  0     |  0     |  0     |  0     |   0.00 |   0.00 | -10.00 |   0.00 |  0     | \n",
       "| 10     | 10     | 10     | 10     | 10     |   0    |   0    |   0    |   0    |  0     |  0     |  0     |  0     |   0.00 |   0.00 |   0.00 | -10.00 |  0     | \n",
       "|  0     |  0     |  0     |  0     |  0     |   1    |  -1    |   0    |   0    |  0     |  0     |  0     |  0     |   0.00 |   0.00 |   0.00 |   0.00 |  0     | \n",
       "|  0     |  0     |  0     |  0     |  0     |   0    |   1    |  -1    |   0    |  0     |  0     |  0     |  0     |   0.00 |   0.00 |   0.00 |   0.00 |  0     | \n",
       "|  0     |  0     |  0     |  0     |  0     |   0    |   0    |   1    |  -1    |  0     |  0     |  0     |  0     |   0.00 |   0.00 |   0.00 |   0.00 |  0     | \n",
       "|  0     |  0     |  0     |  0     |  0     |   0    |   0    |   0    |   0    |  1     | -1     |  0     |  0     |   0.00 |   0.00 |   0.00 |   0.00 |  0     | \n",
       "|  0     |  0     |  0     |  0     |  0     |   0    |   0    |   0    |   0    |  0     |  1     | -1     |  0     |   0.00 |   0.00 |   0.00 |   0.00 |  0     | \n",
       "|  0     |  0     |  0     |  0     |  0     |   0    |   0    |   0    |   0    |  0     |  0     |  1     | -1     |   0.00 |   0.00 |   0.00 |   0.00 |  0     | \n",
       "|  0     |  0     |  0     |  0     |  0     |   0    |   0    |   0    |   0    |  0     |  0     |  0     |  0     |   1.00 |  -1.00 |   0.00 |   0.00 |  0     | \n",
       "|  0     |  0     |  0     |  0     |  0     |   0    |   0    |   0    |   0    |  0     |  0     |  0     |  0     |   0.00 |   1.00 |  -1.00 |   0.00 |  0     | \n",
       "|  0     |  0     |  0     |  0     |  0     |   0    |   0    |   0    |   0    |  0     |  0     |  0     |  0     |   0.00 |   0.00 |   1.00 |  -1.00 |  0     | \n",
       "|  0     |  0     |  0     |  0     |  0     |   0    |   0    |   0    |   1    |  0     |  0     |  0     |  0     |   0.00 |   0.00 |   0.00 |   0.00 | -1     | \n",
       "|  0     |  0     |  0     |  0     |  0     |   0    |   0    |   0    |   0    |  0     |  0     |  0     |  1     |   0.00 |   0.00 |   0.00 |   0.00 | -1     | \n",
       "|  0     |  0     |  0     |  0     |  0     |   0    |   0    |   0    |   0    |  0     |  0     |  0     |  0     |   1.00 |   0.00 |   0.00 |   0.00 | -1     | \n",
       "|  0     |  0     |  0     |  0     |  0     |   0    |   0    |   0    |   0    |  0     |  0     |  0     |  0     |   0.00 |   0.00 |   0.00 |   0.00 |  1     | \n",
       "\n",
       "\n"
      ],
      "text/plain": [
       "      [,1] [,2] [,3] [,4] [,5] [,6] [,7] [,8] [,9] [,10] [,11] [,12] [,13]\n",
       " [1,]  0    0    0    0    0     0    0    0    0   0     0     0     0   \n",
       " [2,] 12   14   20   20   20   -20    0    0    0   0     0     0     0   \n",
       " [3,] 12   14   20   20   20     0  -20    0    0   0     0     0     0   \n",
       " [4,] 12   14   20   20   20     0    0  -20    0   0     0     0     0   \n",
       " [5,] 12   14   20   20   20     0    0    0  -20   0     0     0     0   \n",
       " [6,]  8    7    8    6    5     0    0    0    0  -5     0     0     0   \n",
       " [7,]  8    7    8    6    6     0    0    0    0   0    -6     0     0   \n",
       " [8,]  8    7    8    6    6     0    0    0    0   0     0    -6     0   \n",
       " [9,]  8    7    8    6    7     0    0    0    0   0     0     0    -7   \n",
       "[10,] 10   10   10   10   10     0    0    0    0   0     0     0     0   \n",
       "[11,] 10   10   10   10   10     0    0    0    0   0     0     0     0   \n",
       "[12,] 10   10   10   10   10     0    0    0    0   0     0     0     0   \n",
       "[13,] 10   10   10   10   10     0    0    0    0   0     0     0     0   \n",
       "[14,]  0    0    0    0    0     1   -1    0    0   0     0     0     0   \n",
       "[15,]  0    0    0    0    0     0    1   -1    0   0     0     0     0   \n",
       "[16,]  0    0    0    0    0     0    0    1   -1   0     0     0     0   \n",
       "[17,]  0    0    0    0    0     0    0    0    0   1    -1     0     0   \n",
       "[18,]  0    0    0    0    0     0    0    0    0   0     1    -1     0   \n",
       "[19,]  0    0    0    0    0     0    0    0    0   0     0     1    -1   \n",
       "[20,]  0    0    0    0    0     0    0    0    0   0     0     0     0   \n",
       "[21,]  0    0    0    0    0     0    0    0    0   0     0     0     0   \n",
       "[22,]  0    0    0    0    0     0    0    0    0   0     0     0     0   \n",
       "[23,]  0    0    0    0    0     0    0    0    1   0     0     0     0   \n",
       "[24,]  0    0    0    0    0     0    0    0    0   0     0     0     1   \n",
       "[25,]  0    0    0    0    0     0    0    0    0   0     0     0     0   \n",
       "[26,]  0    0    0    0    0     0    0    0    0   0     0     0     0   \n",
       "      [,14]  [,15]  [,16]  [,17]  [,18]\n",
       " [1,]   0.25   0.25   0.25   0.25  0   \n",
       " [2,]   0.00   0.00   0.00   0.00  0   \n",
       " [3,]   0.00   0.00   0.00   0.00  0   \n",
       " [4,]   0.00   0.00   0.00   0.00  0   \n",
       " [5,]   0.00   0.00   0.00   0.00  0   \n",
       " [6,]   0.00   0.00   0.00   0.00  0   \n",
       " [7,]   0.00   0.00   0.00   0.00  0   \n",
       " [8,]   0.00   0.00   0.00   0.00  0   \n",
       " [9,]   0.00   0.00   0.00   0.00  0   \n",
       "[10,] -10.00   0.00   0.00   0.00  0   \n",
       "[11,]   0.00 -10.00   0.00   0.00  0   \n",
       "[12,]   0.00   0.00 -10.00   0.00  0   \n",
       "[13,]   0.00   0.00   0.00 -10.00  0   \n",
       "[14,]   0.00   0.00   0.00   0.00  0   \n",
       "[15,]   0.00   0.00   0.00   0.00  0   \n",
       "[16,]   0.00   0.00   0.00   0.00  0   \n",
       "[17,]   0.00   0.00   0.00   0.00  0   \n",
       "[18,]   0.00   0.00   0.00   0.00  0   \n",
       "[19,]   0.00   0.00   0.00   0.00  0   \n",
       "[20,]   1.00  -1.00   0.00   0.00  0   \n",
       "[21,]   0.00   1.00  -1.00   0.00  0   \n",
       "[22,]   0.00   0.00   1.00  -1.00  0   \n",
       "[23,]   0.00   0.00   0.00   0.00 -1   \n",
       "[24,]   0.00   0.00   0.00   0.00 -1   \n",
       "[25,]   1.00   0.00   0.00   0.00 -1   \n",
       "[26,]   0.00   0.00   0.00   0.00  1   "
      ]
     },
     "metadata": {},
     "output_type": "display_data"
    }
   ],
   "source": [
    "# Constraints matrix A, by blocks:\n",
    "A = array(0,c(NC,NV))\n",
    "\n",
    "A[1,(N+L*M+1):(N+L*M+S*L)] = rep(1/(S*L),S*L)\n",
    "\n",
    "for(i in 1:M){ A[(1+(i-1)*L+1):(1+(i-1)*L+L),1:N] = INPUTS[,i,]}\n",
    "\n",
    "A[2:(1+M*L),(N+1):(N+L*M)] = diag(-c(INPUTS[,,dmu]))\n",
    "\n",
    "for(r in 1:S){ A[(1+M*L+(r-1)*L+1):(1+M*L+(r-1)*L+L),1:N] = OUTPUTS[,r,]}\n",
    "\n",
    "A[(1+M*L+1):(1+M*L+S*L),(N+L*M+1):(N+L*M+S*L)] = diag(-c(OUTPUTS[,,dmu]))\n",
    "\n",
    "# Inputs:\n",
    "for(i in 1:M){\n",
    "    for(l in 1:(L-1)){\n",
    "        A[1+L*(M+S)+(i-1)*(L-1)+l,N+(i-1)*L+l] = 1\n",
    "        A[1+L*(M+S)+(i-1)*(L-1)+l,N+(i-1)*L+l+1] = -1\n",
    "    }\n",
    "    A[1+L*(M+S)+(L-1)*(M+S)+i,N+(i-1)*L+L] = 1\n",
    "    A[1+L*(M+S)+(L-1)*(M+S)+i,NV] = -1\n",
    "}\n",
    "# Outputs:\n",
    "for(r in 1:S){\n",
    "    for(l in 1:(L-1)){\n",
    "        A[1+L*(M+S)+(L-1)*M+(r-1)*(L-1)+l,N+M*L+(r-1)*L+l] = 1\n",
    "        A[1+L*(M+S)+(L-1)*M+(r-1)*(L-1)+l,N+M*L+(r-1)*L+l+1] = -1\n",
    "    } \n",
    "    A[1+L*(M+S)+(L-1)*(M+S)+M+r,N+M*L+(r-1)*L+1] = 1\n",
    "    A[1+L*(M+S)+(L-1)*(M+S)+M+r,NV] = -1\n",
    "}\n",
    "\n",
    "\n",
    "#A[(2+L*(M+S)):(1+L*(2*M+S)),(N+1):(N+L*M)] = diag(1,M*L)\n",
    "#A[(2+L*(2*M+S)):(1+2*L*(M+S)),(N+L*M+1):(N+L*M+S*L)] = diag(1,S*L)\n",
    "\n",
    "A[NC,NV] = 1\n",
    "\n",
    "\n",
    "A"
   ]
  },
  {
   "cell_type": "code",
   "execution_count": 9,
   "metadata": {},
   "outputs": [
    {
     "data": {
      "text/html": [
       "<ol class=list-inline>\n",
       "\t<li>0</li>\n",
       "\t<li>0</li>\n",
       "\t<li>0</li>\n",
       "\t<li>0</li>\n",
       "\t<li>0.999999999999968</li>\n",
       "\t<li>0.999999999999992</li>\n",
       "\t<li>0.999999999999992</li>\n",
       "\t<li>0.999999999999992</li>\n",
       "\t<li>0.999999999999992</li>\n",
       "\t<li>1.00000000000001</li>\n",
       "\t<li>0.999999999999999</li>\n",
       "\t<li>1</li>\n",
       "\t<li>0.999999999999993</li>\n",
       "\t<li>0.999999999999998</li>\n",
       "\t<li>0.999999999999998</li>\n",
       "\t<li>0.999999999999995</li>\n",
       "\t<li>1.00000000000001</li>\n",
       "\t<li>1</li>\n",
       "</ol>\n"
      ],
      "text/latex": [
       "\\begin{enumerate*}\n",
       "\\item 0\n",
       "\\item 0\n",
       "\\item 0\n",
       "\\item 0\n",
       "\\item 0.999999999999968\n",
       "\\item 0.999999999999992\n",
       "\\item 0.999999999999992\n",
       "\\item 0.999999999999992\n",
       "\\item 0.999999999999992\n",
       "\\item 1.00000000000001\n",
       "\\item 0.999999999999999\n",
       "\\item 1\n",
       "\\item 0.999999999999993\n",
       "\\item 0.999999999999998\n",
       "\\item 0.999999999999998\n",
       "\\item 0.999999999999995\n",
       "\\item 1.00000000000001\n",
       "\\item 1\n",
       "\\end{enumerate*}\n"
      ],
      "text/markdown": [
       "1. 0\n",
       "2. 0\n",
       "3. 0\n",
       "4. 0\n",
       "5. 0.999999999999968\n",
       "6. 0.999999999999992\n",
       "7. 0.999999999999992\n",
       "8. 0.999999999999992\n",
       "9. 0.999999999999992\n",
       "10. 1.00000000000001\n",
       "11. 0.999999999999999\n",
       "12. 1\n",
       "13. 0.999999999999993\n",
       "14. 0.999999999999998\n",
       "15. 0.999999999999998\n",
       "16. 0.999999999999995\n",
       "17. 1.00000000000001\n",
       "18. 1\n",
       "\n",
       "\n"
      ],
      "text/plain": [
       " [1] 0 0 0 0 1 1 1 1 1 1 1 1 1 1 1 1 1 1"
      ]
     },
     "metadata": {},
     "output_type": "display_data"
    },
    {
     "data": {
      "text/html": [
       "<ol class=list-inline>\n",
       "\t<li>0</li>\n",
       "\t<li>0</li>\n",
       "\t<li>0</li>\n",
       "\t<li>0</li>\n",
       "\t<li>1</li>\n",
       "\t<li>1</li>\n",
       "\t<li>1</li>\n",
       "\t<li>1</li>\n",
       "\t<li>1</li>\n",
       "\t<li>1</li>\n",
       "\t<li>1</li>\n",
       "\t<li>1</li>\n",
       "\t<li>1</li>\n",
       "\t<li>1</li>\n",
       "\t<li>1</li>\n",
       "\t<li>1</li>\n",
       "\t<li>1</li>\n",
       "\t<li>1</li>\n",
       "</ol>\n"
      ],
      "text/latex": [
       "\\begin{enumerate*}\n",
       "\\item 0\n",
       "\\item 0\n",
       "\\item 0\n",
       "\\item 0\n",
       "\\item 1\n",
       "\\item 1\n",
       "\\item 1\n",
       "\\item 1\n",
       "\\item 1\n",
       "\\item 1\n",
       "\\item 1\n",
       "\\item 1\n",
       "\\item 1\n",
       "\\item 1\n",
       "\\item 1\n",
       "\\item 1\n",
       "\\item 1\n",
       "\\item 1\n",
       "\\end{enumerate*}\n"
      ],
      "text/markdown": [
       "1. 0\n",
       "2. 0\n",
       "3. 0\n",
       "4. 0\n",
       "5. 1\n",
       "6. 1\n",
       "7. 1\n",
       "8. 1\n",
       "9. 1\n",
       "10. 1\n",
       "11. 1\n",
       "12. 1\n",
       "13. 1\n",
       "14. 1\n",
       "15. 1\n",
       "16. 1\n",
       "17. 1\n",
       "18. 1\n",
       "\n",
       "\n"
      ],
      "text/plain": [
       " [1] 0 0 0 0 1 1 1 1 1 1 1 1 1 1 1 1 1 1"
      ]
     },
     "metadata": {},
     "output_type": "display_data"
    }
   ],
   "source": [
    "# Find the optimal solution\n",
    "library(\"lpSolve\")\n",
    "#library(\"MASS\")\n",
    "\n",
    "optimum <-  lp(direction=\"min\",\n",
    "                 objective.in = C,\n",
    "                 const.mat = A,\n",
    "                 const.dir = constraints_direction,\n",
    "                 const.rhs = B)\n",
    "\n",
    "# LMFERM solution: \n",
    "sol.LMFERM <- optimum$solution\n",
    "sol.LMFERM\n",
    "\n",
    "round(sol.LMFERM,5)"
   ]
  },
  {
   "cell_type": "code",
   "execution_count": 10,
   "metadata": {},
   "outputs": [
    {
     "data": {
      "text/html": [
       "1"
      ],
      "text/latex": [
       "1"
      ],
      "text/markdown": [
       "1"
      ],
      "text/plain": [
       "[1] 1"
      ]
     },
     "metadata": {},
     "output_type": "display_data"
    },
    {
     "data": {
      "text/html": [
       "1"
      ],
      "text/latex": [
       "1"
      ],
      "text/markdown": [
       "1"
      ],
      "text/plain": [
       "[1] 1"
      ]
     },
     "metadata": {},
     "output_type": "display_data"
    }
   ],
   "source": [
    "# checking solutions\n",
    "sum(sol.LMFERM[(N+L*M+1):(N+L*M+S*L)])/(S*L) # first constraint \n",
    "sol.LMFERM[N+L*(M+S)+1] #last element correspond with beta"
   ]
  },
  {
   "cell_type": "markdown",
   "metadata": {},
   "source": [
    "**NOTE:** Do not forget the transformation of the variables, to get the FERM solutions\n",
    "\n",
    "\\begin{equation}\n",
    "\\begin{array}{l}\n",
    "    {\\displaystyle\\frac{1}{\\beta}}={\\displaystyle{\\frac{1}{2S(K+1)} \\sum_{r=1}^{S} \\sum_{k=0}^{K} (\\gamma_{rk}^{L}+\\gamma_{rk}^{R}) \n",
    "    \\quad \\rightarrow \\quad \n",
    "    \\displaystyle{\\frac{1}{SL}} \\sum_{r=1}^{S} \\sum_{l=1}^{L} \\gamma'_{rl} = 1\n",
    "    }},\\\\\n",
    "    \\lambda'_j=\\beta\\lambda_j,\\\\\n",
    "    \\theta_{il}^{'L}=\\beta\\theta_{il}^{L},\\quad\n",
    "    \\theta_{il}^{'R}=\\beta\\theta_{il}^{R}, \\\\\n",
    "    \\gamma_{rl}^{'L}=\\beta\\gamma_{rl}^{L}, \\quad \\gamma_{rl}^{'R}=\\beta\\gamma_{rl}^{R},\\quad\\forall j,i,r,l. \n",
    "    %j=1,\\dots,n,\\; i=1,\\dots,m,\\; r=1,\\dots, s.\n",
    "    \\end{array}\n",
    "\\end{equation}"
   ]
  },
  {
   "cell_type": "code",
   "execution_count": 11,
   "metadata": {},
   "outputs": [
    {
     "data": {
      "text/html": [
       "<ol class=list-inline>\n",
       "\t<li>0</li>\n",
       "\t<li>0</li>\n",
       "\t<li>0</li>\n",
       "\t<li>0</li>\n",
       "\t<li>1</li>\n",
       "</ol>\n"
      ],
      "text/latex": [
       "\\begin{enumerate*}\n",
       "\\item 0\n",
       "\\item 0\n",
       "\\item 0\n",
       "\\item 0\n",
       "\\item 1\n",
       "\\end{enumerate*}\n"
      ],
      "text/markdown": [
       "1. 0\n",
       "2. 0\n",
       "3. 0\n",
       "4. 0\n",
       "5. 1\n",
       "\n",
       "\n"
      ],
      "text/plain": [
       "[1] 0 0 0 0 1"
      ]
     },
     "metadata": {},
     "output_type": "display_data"
    },
    {
     "data": {
      "text/html": [
       "<table>\n",
       "<tbody>\n",
       "\t<tr><td>0</td><td>0</td><td>0</td><td>0</td><td>0</td></tr>\n",
       "\t<tr><td>0</td><td>0</td><td>0</td><td>0</td><td>0</td></tr>\n",
       "\t<tr><td>0</td><td>0</td><td>0</td><td>0</td><td>0</td></tr>\n",
       "\t<tr><td>0</td><td>0</td><td>0</td><td>0</td><td>0</td></tr>\n",
       "\t<tr><td>0</td><td>0</td><td>0</td><td>0</td><td>1</td></tr>\n",
       "</tbody>\n",
       "</table>\n"
      ],
      "text/latex": [
       "\\begin{tabular}{lllll}\n",
       "\t 0 & 0 & 0 & 0 & 0\\\\\n",
       "\t 0 & 0 & 0 & 0 & 0\\\\\n",
       "\t 0 & 0 & 0 & 0 & 0\\\\\n",
       "\t 0 & 0 & 0 & 0 & 0\\\\\n",
       "\t 0 & 0 & 0 & 0 & 1\\\\\n",
       "\\end{tabular}\n"
      ],
      "text/markdown": [
       "\n",
       "| 0 | 0 | 0 | 0 | 0 | \n",
       "| 0 | 0 | 0 | 0 | 0 | \n",
       "| 0 | 0 | 0 | 0 | 0 | \n",
       "| 0 | 0 | 0 | 0 | 0 | \n",
       "| 0 | 0 | 0 | 0 | 1 | \n",
       "\n",
       "\n"
      ],
      "text/plain": [
       "     [,1] [,2] [,3] [,4] [,5]\n",
       "[1,] 0    0    0    0    0   \n",
       "[2,] 0    0    0    0    0   \n",
       "[3,] 0    0    0    0    0   \n",
       "[4,] 0    0    0    0    0   \n",
       "[5,] 0    0    0    0    1   "
      ]
     },
     "metadata": {},
     "output_type": "display_data"
    },
    {
     "data": {
      "text/html": [
       "<table>\n",
       "<tbody>\n",
       "\t<tr><td>0</td><td>0</td><td>0</td><td>0</td><td>0</td><td>0</td><td>0</td><td>0</td></tr>\n",
       "\t<tr><td>0</td><td>0</td><td>0</td><td>0</td><td>0</td><td>0</td><td>0</td><td>0</td></tr>\n",
       "\t<tr><td>0</td><td>0</td><td>0</td><td>0</td><td>0</td><td>0</td><td>0</td><td>0</td></tr>\n",
       "\t<tr><td>0</td><td>0</td><td>0</td><td>0</td><td>0</td><td>0</td><td>0</td><td>0</td></tr>\n",
       "\t<tr><td>1</td><td>1</td><td>1</td><td>1</td><td>1</td><td>1</td><td>1</td><td>1</td></tr>\n",
       "</tbody>\n",
       "</table>\n"
      ],
      "text/latex": [
       "\\begin{tabular}{llllllll}\n",
       "\t 0 & 0 & 0 & 0 & 0 & 0 & 0 & 0\\\\\n",
       "\t 0 & 0 & 0 & 0 & 0 & 0 & 0 & 0\\\\\n",
       "\t 0 & 0 & 0 & 0 & 0 & 0 & 0 & 0\\\\\n",
       "\t 0 & 0 & 0 & 0 & 0 & 0 & 0 & 0\\\\\n",
       "\t 1 & 1 & 1 & 1 & 1 & 1 & 1 & 1\\\\\n",
       "\\end{tabular}\n"
      ],
      "text/markdown": [
       "\n",
       "| 0 | 0 | 0 | 0 | 0 | 0 | 0 | 0 | \n",
       "| 0 | 0 | 0 | 0 | 0 | 0 | 0 | 0 | \n",
       "| 0 | 0 | 0 | 0 | 0 | 0 | 0 | 0 | \n",
       "| 0 | 0 | 0 | 0 | 0 | 0 | 0 | 0 | \n",
       "| 1 | 1 | 1 | 1 | 1 | 1 | 1 | 1 | \n",
       "\n",
       "\n"
      ],
      "text/plain": [
       "     [,1] [,2] [,3] [,4] [,5] [,6] [,7] [,8]\n",
       "[1,] 0    0    0    0    0    0    0    0   \n",
       "[2,] 0    0    0    0    0    0    0    0   \n",
       "[3,] 0    0    0    0    0    0    0    0   \n",
       "[4,] 0    0    0    0    0    0    0    0   \n",
       "[5,] 1    1    1    1    1    1    1    1   "
      ]
     },
     "metadata": {},
     "output_type": "display_data"
    },
    {
     "data": {
      "text/html": [
       "<table>\n",
       "<tbody>\n",
       "\t<tr><td>0</td><td>0</td><td>0</td><td>0</td></tr>\n",
       "\t<tr><td>0</td><td>0</td><td>0</td><td>0</td></tr>\n",
       "\t<tr><td>0</td><td>0</td><td>0</td><td>0</td></tr>\n",
       "\t<tr><td>0</td><td>0</td><td>0</td><td>0</td></tr>\n",
       "\t<tr><td>1</td><td>1</td><td>1</td><td>1</td></tr>\n",
       "</tbody>\n",
       "</table>\n"
      ],
      "text/latex": [
       "\\begin{tabular}{llll}\n",
       "\t 0 & 0 & 0 & 0\\\\\n",
       "\t 0 & 0 & 0 & 0\\\\\n",
       "\t 0 & 0 & 0 & 0\\\\\n",
       "\t 0 & 0 & 0 & 0\\\\\n",
       "\t 1 & 1 & 1 & 1\\\\\n",
       "\\end{tabular}\n"
      ],
      "text/markdown": [
       "\n",
       "| 0 | 0 | 0 | 0 | \n",
       "| 0 | 0 | 0 | 0 | \n",
       "| 0 | 0 | 0 | 0 | \n",
       "| 0 | 0 | 0 | 0 | \n",
       "| 1 | 1 | 1 | 1 | \n",
       "\n",
       "\n"
      ],
      "text/plain": [
       "     [,1] [,2] [,3] [,4]\n",
       "[1,] 0    0    0    0   \n",
       "[2,] 0    0    0    0   \n",
       "[3,] 0    0    0    0   \n",
       "[4,] 0    0    0    0   \n",
       "[5,] 1    1    1    1   "
      ]
     },
     "metadata": {},
     "output_type": "display_data"
    }
   ],
   "source": [
    "# MFERM solution (modified) FERM): \n",
    "beta[dmu] = sol.LMFERM[N+L*(M+S)+1]\n",
    "lambda[dmu,] <- sol.LMFERM[1:N] / beta[dmu]\n",
    "theta[dmu,] <- sol.LMFERM[(N+1):(N+M*L)]/beta[dmu]\n",
    "gamma[dmu,] <- sol.LMFERM[(N+M*L+1):(N+L*(M+S))]/beta[dmu]\n",
    "\n",
    "beta\n",
    "lambda\n",
    "theta\n",
    "gamma"
   ]
  },
  {
   "cell_type": "code",
   "execution_count": 12,
   "metadata": {},
   "outputs": [
    {
     "name": "stdout",
     "output_type": "stream",
     "text": [
      "[1] \"Input  1\"\n",
      "[1] \"Level  0 : thetaL= 1 thetaR= 1\"\n",
      "[1] \"Level  1 : thetaL= 1 thetaR= 1\"\n",
      "[1] \"Input  2\"\n",
      "[1] \"Level  0 : thetaL= 1 thetaR= 1\"\n",
      "[1] \"Level  1 : thetaL= 1 thetaR= 1\"\n"
     ]
    }
   ],
   "source": [
    "# Showing the results for DMU 5: \n",
    "for(i in 1:M){\n",
    "    print(paste(\"Input \",i))\n",
    "    Z = theta[dmu,((i-1)*L+1):((i-1)*L+L)]\n",
    "    for(l in 1:(L/2)){\n",
    "        print(paste(\"Level \",l-1, \": thetaL=\",round(Z[l],5) , \"thetaR=\",round(Z[L-l+1],5)))\n",
    "    }\n",
    "}\n"
   ]
  },
  {
   "cell_type": "code",
   "execution_count": 13,
   "metadata": {},
   "outputs": [
    {
     "data": {
      "text/html": [
       "<ol class=list-inline>\n",
       "\t<li>0</li>\n",
       "\t<li>0</li>\n",
       "\t<li>0</li>\n",
       "\t<li>0</li>\n",
       "\t<li>1</li>\n",
       "</ol>\n"
      ],
      "text/latex": [
       "\\begin{enumerate*}\n",
       "\\item 0\n",
       "\\item 0\n",
       "\\item 0\n",
       "\\item 0\n",
       "\\item 1\n",
       "\\end{enumerate*}\n"
      ],
      "text/markdown": [
       "1. 0\n",
       "2. 0\n",
       "3. 0\n",
       "4. 0\n",
       "5. 1\n",
       "\n",
       "\n"
      ],
      "text/plain": [
       "[1] 0 0 0 0 1"
      ]
     },
     "metadata": {},
     "output_type": "display_data"
    }
   ],
   "source": [
    "# Saving the objective value, or ERM, for (FERM) problem\n",
    "ERM[dmu] = round(mean(theta[dmu,])/mean(gamma[dmu,]),3)\n",
    "\n",
    "ERM"
   ]
  },
  {
   "cell_type": "code",
   "execution_count": 14,
   "metadata": {},
   "outputs": [
    {
     "data": {
      "text/html": [
       "<table>\n",
       "<tbody>\n",
       "\t<tr><td>20</td><td>5 </td></tr>\n",
       "\t<tr><td>20</td><td>6 </td></tr>\n",
       "\t<tr><td>20</td><td>6 </td></tr>\n",
       "\t<tr><td>20</td><td>7 </td></tr>\n",
       "</tbody>\n",
       "</table>\n"
      ],
      "text/latex": [
       "\\begin{tabular}{ll}\n",
       "\t 20 & 5 \\\\\n",
       "\t 20 & 6 \\\\\n",
       "\t 20 & 6 \\\\\n",
       "\t 20 & 7 \\\\\n",
       "\\end{tabular}\n"
      ],
      "text/markdown": [
       "\n",
       "| 20 | 5  | \n",
       "| 20 | 6  | \n",
       "| 20 | 6  | \n",
       "| 20 | 7  | \n",
       "\n",
       "\n"
      ],
      "text/plain": [
       "     [,1] [,2]\n",
       "[1,] 20   5   \n",
       "[2,] 20   6   \n",
       "[3,] 20   6   \n",
       "[4,] 20   7   "
      ]
     },
     "metadata": {},
     "output_type": "display_data"
    },
    {
     "data": {
      "text/html": [
       "<ol class=list-inline>\n",
       "\t<li>10</li>\n",
       "\t<li>10</li>\n",
       "\t<li>10</li>\n",
       "\t<li>10</li>\n",
       "</ol>\n"
      ],
      "text/latex": [
       "\\begin{enumerate*}\n",
       "\\item 10\n",
       "\\item 10\n",
       "\\item 10\n",
       "\\item 10\n",
       "\\end{enumerate*}\n"
      ],
      "text/markdown": [
       "1. 10\n",
       "2. 10\n",
       "3. 10\n",
       "4. 10\n",
       "\n",
       "\n"
      ],
      "text/plain": [
       "[1] 10 10 10 10"
      ]
     },
     "metadata": {},
     "output_type": "display_data"
    }
   ],
   "source": [
    "# Getting the targets: \n",
    "for(i in 1:M) Targets.X[,i,dmu] = round((INPUTS[,i,]) %*% lambda[dmu,],5)\n",
    "\n",
    "for(r in 1:S) Targets.Y[,r,dmu] = round((OUTPUTS[,r,]) %*% lambda[dmu,],5)\n",
    "\n",
    "Targets.X[,,dmu]\n",
    "Targets.Y[,,dmu]"
   ]
  },
  {
   "cell_type": "markdown",
   "metadata": {},
   "source": [
    "### NOW REPEAT THE WHOLE PROCESS FOR EACH DMU:"
   ]
  },
  {
   "cell_type": "code",
   "execution_count": null,
   "metadata": {},
   "outputs": [],
   "source": []
  },
  {
   "cell_type": "markdown",
   "metadata": {},
   "source": [
    "## Example 1 for Paper: "
   ]
  },
  {
   "cell_type": "code",
   "execution_count": 66,
   "metadata": {},
   "outputs": [
    {
     "name": "stdout",
     "output_type": "stream",
     "text": [
      "[1] \"DMU: 1 R^F: 0.882\"\n",
      "[1] \"DMU: 2 R^F: 0.926\"\n",
      "[1] \"DMU: 3 R^F: 1\"\n",
      "[1] \"DMU: 4 R^F: 0.383\"\n",
      "[1] \"DMU: 5 R^F: 0.76\"\n",
      "[1] \"DMU: 6 R^F: 0.447\"\n",
      "[1] \"DMU: 7 R^F: 0.476\"\n",
      "[1] \"DMU: 8 R^F: 0.683\"\n",
      "[1] \"DMU: 9 R^F: 0.555\"\n",
      "[1] \"DMU: 10 R^F: 0.331\"\n",
      "[1] \"DMU: 11 R^F: 0.446\"\n",
      "[1] \"DMU: 12 R^F: 0.99\"\n"
     ]
    }
   ],
   "source": [
    "# ARYA & YADAV (2017) : Hospitals\n",
    "K = 1 # K=1-polygonal fuzzy number, RPFN_k\n",
    "L = 3 # fuzzy length (triangular Fuzzy number)\n",
    "N = 12 # DMU's\n",
    "M = 2 # inputs\n",
    "S = 2 # outputs \n",
    "\n",
    "#DATA: \n",
    "INPUTS <- array(c(10,13,15,3,5,8, \n",
    "                 10,12,14,3,5,7,\n",
    "                 9,12,14,2,4,5,\n",
    "                 6,8,11,1,1,3,\n",
    "                 8,10,13,3,4,6,\n",
    "                 10,11,12,2,3,4,\n",
    "                 9,10,12,1,2,6,\n",
    "                 9,11,15,1,4,7,\n",
    "                 10,12,15,2,5,7,\n",
    "                 10,16,20,2,4,6,\n",
    "                 9,11,14,3,5,8, \n",
    "                 5,8,10,1,4,6), c(L,M,N)) \n",
    "#\n",
    "OUTPUTS <- array(c(3640,3650,3655,134130,134137,134145, \n",
    "                   4150,4160,4170,116055,116062,116068, \n",
    "                   4360,4370,4380,94060,94066,94072, \n",
    "                   485,492,500,24320,24329,24335, \n",
    "                   2460,2464,2470,99740,99748,99760,\n",
    "                   1360,1368,1375,49395,49401,49410,\n",
    "                   1055,1062,1070,37765,37772,37780,\n",
    "                   1295,1302,1310,82835,82841,82850,\n",
    "                   1660,1671,1680,100590,100596,100605,\n",
    "                   1010,1018,1025,64345,64351,64360,\n",
    "                   1500,1504,1510,80050,80056,80061,\n",
    "                   1960,1965,1972,58160,58167,58175),c(L,S,N)) \n",
    "\n",
    "\n",
    "\n",
    "# Define variable arrays, for each DMU (N):\n",
    "ERM = array(0,N)\n",
    "beta = array(0,N)\n",
    "lambda = array(0,c(N,N))\n",
    "theta = array(0,c(N,M*L))\n",
    "gamma = array(0,c(N,S*L))\n",
    "\n",
    "Targets.X = array(0,c(L,M,N))\n",
    "Targets.Y = array(0,c(L,S,N))\n",
    "\n",
    "NV = N+(M+S)*L+1 # variables, and\n",
    "NC = 2*L*(M+S)+2 # constraints\n",
    "\n",
    "# Getting the MATRIX NOTATION for solving with lp function: \n",
    "# min Cx s.t Ax <= B\n",
    "\n",
    "## Set the coefficients of the decision variables -> C\n",
    "C <- c(rep(0,N),rep(1/(M*L),M*L),rep(0,S*L+1))\n",
    "    \n",
    "# Right hand side for the constraints\n",
    "B <- c(1,rep(0,NC-1))\n",
    "\n",
    "##\n",
    "constraints_direction  <- c(\"=\",rep(\"<=\",M*L), rep(\">=\",S*L), \n",
    "                               rep(\"<=\",M*L), rep(\">=\",S*L),\">\")\n",
    "\n",
    "# C,B and constraints_direction are outside the loop,  \n",
    "# since they are the same for each DMU\n",
    "\n",
    "for(dmu in 1:N){\n",
    "    # Constraints matrix A, the only element which change for each DMU\n",
    "    A = array(0,c(NC,NV))\n",
    "\n",
    "    A[1,(N+L*M+1):(N+L*M+S*L)] = rep(1/(S*L),S*L)\n",
    "\n",
    "    for(i in 1:M){ A[(1+(i-1)*L+1):(1+(i-1)*L+L),1:N] = INPUTS[,i,]}\n",
    "\n",
    "    A[2:(1+M*L),(N+1):(N+L*M)] = diag(-c(INPUTS[,,dmu]))\n",
    "\n",
    "    for(r in 1:S){ A[(1+M*L+(r-1)*L+1):(1+M*L+(r-1)*L+L),1:N] = OUTPUTS[,r,]}\n",
    "\n",
    "    A[(1+M*L+1):(1+M*L+S*L),(N+L*M+1):(N+L*M+S*L)] = diag(-c(OUTPUTS[,,dmu]))\n",
    "\n",
    "    # Inputs:\n",
    "    for(i in 1:M){\n",
    "        for(l in 1:(L-1)){\n",
    "            A[1+L*(M+S)+(i-1)*(L-1)+l,N+(i-1)*L+l] = 1\n",
    "            A[1+L*(M+S)+(i-1)*(L-1)+l,N+(i-1)*L+l+1] = -1\n",
    "        }\n",
    "        A[1+L*(M+S)+(L-1)*(M+S)+i,N+(i-1)*L+L] = 1\n",
    "        A[1+L*(M+S)+(L-1)*(M+S)+i,NV] = -1\n",
    "    }\n",
    "    # Outputs:\n",
    "    for(r in 1:S){\n",
    "        for(l in 1:(L-1)){\n",
    "            A[1+L*(M+S)+(L-1)*M+(r-1)*(L-1)+l,N+M*L+(r-1)*L+l] = 1\n",
    "            A[1+L*(M+S)+(L-1)*M+(r-1)*(L-1)+l,N+M*L+(r-1)*L+l+1] = -1\n",
    "        } \n",
    "        A[1+L*(M+S)+(L-1)*(M+S)+M+r,N+M*L+(r-1)*L+1] = 1\n",
    "        A[1+L*(M+S)+(L-1)*(M+S)+M+r,NV] = -1\n",
    "    }\n",
    "\n",
    "    A[NC,NV] = 1\n",
    "\n",
    "    optimum <-  lp(direction=\"min\",\n",
    "                 objective.in = C,\n",
    "                 const.mat = A,\n",
    "                 const.dir = constraints_direction,\n",
    "                 const.rhs = B)\n",
    "\n",
    "    # LMFERM solution: \n",
    "    sol.LMFERM <- optimum$solution\n",
    "    beta[dmu] = sol.LMFERM[N+L*(M+S)+1]\n",
    "    lambda[dmu,] <- sol.LMFERM[1:N] \n",
    "    theta[dmu,] <- sol.LMFERM[(N+1):(N+M*L)]\n",
    "    gamma[dmu,] <- sol.LMFERM[(N+M*L+1):(N+L*(M+S))]\n",
    "    \n",
    "    # MFERM solution (modified) FERM): undo the transformation of variables\n",
    "    #beta[dmu] = sol.LMFERM[N+L*(M+S)+1]\n",
    "    #lambda[dmu,] <- sol.LMFERM[1:N] / beta[dmu]\n",
    "    #theta[dmu,] <- sol.LMFERM[(N+1):(N+M*L)]/beta[dmu]\n",
    "    #gamma[dmu,] <- sol.LMFERM[(N+M*L+1):(N+L*(M+S))]/beta[dmu]\n",
    "    \n",
    "    # Saving the objective value, or ERM, for (FERM) problem\n",
    "    ERM[dmu] = round(mean(theta[dmu,])/mean(gamma[dmu,]),3)\n",
    "    print(paste(\"DMU:\",dmu,\"R^F:\",ERM[dmu]))\n",
    "    \n",
    "    # Getting the targets: \n",
    "    for(i in 1:M) Targets.X[,i,dmu] = round((INPUTS[,i,]) %*% lambda[dmu,],5)\n",
    "\n",
    "    for(r in 1:S) Targets.Y[,r,dmu] = round((OUTPUTS[,r,]) %*% lambda[dmu,],5)\n",
    "    \n",
    "}"
   ]
  },
  {
   "cell_type": "code",
   "execution_count": 68,
   "metadata": {},
   "outputs": [
    {
     "data": {
      "text/html": [
       "<table>\n",
       "<tbody>\n",
       "\t<tr><td>0.948</td><td>0.972</td><td>0.983</td><td>0.702</td><td>0.843</td><td>0.843</td></tr>\n",
       "\t<tr><td>0.967</td><td>1.075</td><td>1.075</td><td>0.717</td><td>0.860</td><td>0.860</td></tr>\n",
       "\t<tr><td>1.000</td><td>1.000</td><td>1.000</td><td>1.000</td><td>1.000</td><td>1.000</td></tr>\n",
       "\t<tr><td>0.238</td><td>0.238</td><td>0.238</td><td>0.317</td><td>0.634</td><td>0.634</td></tr>\n",
       "\t<tr><td>0.828</td><td>0.884</td><td>0.884</td><td>0.491</td><td>0.736</td><td>0.736</td></tr>\n",
       "\t<tr><td>0.354</td><td>0.429</td><td>0.458</td><td>0.393</td><td>0.524</td><td>0.524</td></tr>\n",
       "\t<tr><td>0.304</td><td>0.365</td><td>0.365</td><td>0.608</td><td>0.608</td><td>0.608</td></tr>\n",
       "\t<tr><td>0.447</td><td>0.487</td><td>0.487</td><td>0.893</td><td>0.893</td><td>0.893</td></tr>\n",
       "\t<tr><td>0.508</td><td>0.565</td><td>0.565</td><td>0.565</td><td>0.565</td><td>0.565</td></tr>\n",
       "\t<tr><td>0.314</td><td>0.314</td><td>0.314</td><td>0.349</td><td>0.349</td><td>0.349</td></tr>\n",
       "\t<tr><td>0.491</td><td>0.535</td><td>0.535</td><td>0.327</td><td>0.393</td><td>0.393</td></tr>\n",
       "\t<tr><td>0.938</td><td>0.938</td><td>0.938</td><td>1.042</td><td>1.042</td><td>1.042</td></tr>\n",
       "</tbody>\n",
       "</table>\n"
      ],
      "text/latex": [
       "\\begin{tabular}{llllll}\n",
       "\t 0.948 & 0.972 & 0.983 & 0.702 & 0.843 & 0.843\\\\\n",
       "\t 0.967 & 1.075 & 1.075 & 0.717 & 0.860 & 0.860\\\\\n",
       "\t 1.000 & 1.000 & 1.000 & 1.000 & 1.000 & 1.000\\\\\n",
       "\t 0.238 & 0.238 & 0.238 & 0.317 & 0.634 & 0.634\\\\\n",
       "\t 0.828 & 0.884 & 0.884 & 0.491 & 0.736 & 0.736\\\\\n",
       "\t 0.354 & 0.429 & 0.458 & 0.393 & 0.524 & 0.524\\\\\n",
       "\t 0.304 & 0.365 & 0.365 & 0.608 & 0.608 & 0.608\\\\\n",
       "\t 0.447 & 0.487 & 0.487 & 0.893 & 0.893 & 0.893\\\\\n",
       "\t 0.508 & 0.565 & 0.565 & 0.565 & 0.565 & 0.565\\\\\n",
       "\t 0.314 & 0.314 & 0.314 & 0.349 & 0.349 & 0.349\\\\\n",
       "\t 0.491 & 0.535 & 0.535 & 0.327 & 0.393 & 0.393\\\\\n",
       "\t 0.938 & 0.938 & 0.938 & 1.042 & 1.042 & 1.042\\\\\n",
       "\\end{tabular}\n"
      ],
      "text/markdown": [
       "\n",
       "| 0.948 | 0.972 | 0.983 | 0.702 | 0.843 | 0.843 | \n",
       "| 0.967 | 1.075 | 1.075 | 0.717 | 0.860 | 0.860 | \n",
       "| 1.000 | 1.000 | 1.000 | 1.000 | 1.000 | 1.000 | \n",
       "| 0.238 | 0.238 | 0.238 | 0.317 | 0.634 | 0.634 | \n",
       "| 0.828 | 0.884 | 0.884 | 0.491 | 0.736 | 0.736 | \n",
       "| 0.354 | 0.429 | 0.458 | 0.393 | 0.524 | 0.524 | \n",
       "| 0.304 | 0.365 | 0.365 | 0.608 | 0.608 | 0.608 | \n",
       "| 0.447 | 0.487 | 0.487 | 0.893 | 0.893 | 0.893 | \n",
       "| 0.508 | 0.565 | 0.565 | 0.565 | 0.565 | 0.565 | \n",
       "| 0.314 | 0.314 | 0.314 | 0.349 | 0.349 | 0.349 | \n",
       "| 0.491 | 0.535 | 0.535 | 0.327 | 0.393 | 0.393 | \n",
       "| 0.938 | 0.938 | 0.938 | 1.042 | 1.042 | 1.042 | \n",
       "\n",
       "\n"
      ],
      "text/plain": [
       "      [,1]  [,2]  [,3]  [,4]  [,5]  [,6] \n",
       " [1,] 0.948 0.972 0.983 0.702 0.843 0.843\n",
       " [2,] 0.967 1.075 1.075 0.717 0.860 0.860\n",
       " [3,] 1.000 1.000 1.000 1.000 1.000 1.000\n",
       " [4,] 0.238 0.238 0.238 0.317 0.634 0.634\n",
       " [5,] 0.828 0.884 0.884 0.491 0.736 0.736\n",
       " [6,] 0.354 0.429 0.458 0.393 0.524 0.524\n",
       " [7,] 0.304 0.365 0.365 0.608 0.608 0.608\n",
       " [8,] 0.447 0.487 0.487 0.893 0.893 0.893\n",
       " [9,] 0.508 0.565 0.565 0.565 0.565 0.565\n",
       "[10,] 0.314 0.314 0.314 0.349 0.349 0.349\n",
       "[11,] 0.491 0.535 0.535 0.327 0.393 0.393\n",
       "[12,] 0.938 0.938 0.938 1.042 1.042 1.042"
      ]
     },
     "metadata": {},
     "output_type": "display_data"
    }
   ],
   "source": [
    "round(theta,3)"
   ]
  },
  {
   "cell_type": "code",
   "execution_count": 69,
   "metadata": {},
   "outputs": [
    {
     "data": {
      "text/html": [
       "<table>\n",
       "<tbody>\n",
       "\t<tr><td>1.261</td><td>1.261</td><td>1.262</td><td>0.739</td><td>0.739</td><td>0.739</td></tr>\n",
       "\t<tr><td>1.129</td><td>1.129</td><td>1.129</td><td>0.871</td><td>0.871</td><td>0.871</td></tr>\n",
       "\t<tr><td>1.000</td><td>1.000</td><td>1.000</td><td>1.000</td><td>1.000</td><td>1.000</td></tr>\n",
       "\t<tr><td>1.388</td><td>1.388</td><td>1.388</td><td>0.613</td><td>0.612</td><td>0.612</td></tr>\n",
       "\t<tr><td>1.305</td><td>1.306</td><td>1.306</td><td>0.694</td><td>0.694</td><td>0.694</td></tr>\n",
       "\t<tr><td>1.252</td><td>1.252</td><td>1.252</td><td>0.748</td><td>0.748</td><td>0.748</td></tr>\n",
       "\t<tr><td>1.243</td><td>1.243</td><td>1.243</td><td>0.757</td><td>0.757</td><td>0.756</td></tr>\n",
       "\t<tr><td>1.493</td><td>1.493</td><td>1.493</td><td>0.507</td><td>0.507</td><td>0.507</td></tr>\n",
       "\t<tr><td>1.472</td><td>1.472</td><td>1.472</td><td>0.528</td><td>0.528</td><td>0.528</td></tr>\n",
       "\t<tr><td>1.490</td><td>1.490</td><td>1.490</td><td>0.510</td><td>0.510</td><td>0.510</td></tr>\n",
       "\t<tr><td>1.423</td><td>1.423</td><td>1.423</td><td>0.577</td><td>0.577</td><td>0.577</td></tr>\n",
       "\t<tr><td>1.157</td><td>1.157</td><td>1.157</td><td>0.843</td><td>0.843</td><td>0.843</td></tr>\n",
       "</tbody>\n",
       "</table>\n"
      ],
      "text/latex": [
       "\\begin{tabular}{llllll}\n",
       "\t 1.261 & 1.261 & 1.262 & 0.739 & 0.739 & 0.739\\\\\n",
       "\t 1.129 & 1.129 & 1.129 & 0.871 & 0.871 & 0.871\\\\\n",
       "\t 1.000 & 1.000 & 1.000 & 1.000 & 1.000 & 1.000\\\\\n",
       "\t 1.388 & 1.388 & 1.388 & 0.613 & 0.612 & 0.612\\\\\n",
       "\t 1.305 & 1.306 & 1.306 & 0.694 & 0.694 & 0.694\\\\\n",
       "\t 1.252 & 1.252 & 1.252 & 0.748 & 0.748 & 0.748\\\\\n",
       "\t 1.243 & 1.243 & 1.243 & 0.757 & 0.757 & 0.756\\\\\n",
       "\t 1.493 & 1.493 & 1.493 & 0.507 & 0.507 & 0.507\\\\\n",
       "\t 1.472 & 1.472 & 1.472 & 0.528 & 0.528 & 0.528\\\\\n",
       "\t 1.490 & 1.490 & 1.490 & 0.510 & 0.510 & 0.510\\\\\n",
       "\t 1.423 & 1.423 & 1.423 & 0.577 & 0.577 & 0.577\\\\\n",
       "\t 1.157 & 1.157 & 1.157 & 0.843 & 0.843 & 0.843\\\\\n",
       "\\end{tabular}\n"
      ],
      "text/markdown": [
       "\n",
       "| 1.261 | 1.261 | 1.262 | 0.739 | 0.739 | 0.739 | \n",
       "| 1.129 | 1.129 | 1.129 | 0.871 | 0.871 | 0.871 | \n",
       "| 1.000 | 1.000 | 1.000 | 1.000 | 1.000 | 1.000 | \n",
       "| 1.388 | 1.388 | 1.388 | 0.613 | 0.612 | 0.612 | \n",
       "| 1.305 | 1.306 | 1.306 | 0.694 | 0.694 | 0.694 | \n",
       "| 1.252 | 1.252 | 1.252 | 0.748 | 0.748 | 0.748 | \n",
       "| 1.243 | 1.243 | 1.243 | 0.757 | 0.757 | 0.756 | \n",
       "| 1.493 | 1.493 | 1.493 | 0.507 | 0.507 | 0.507 | \n",
       "| 1.472 | 1.472 | 1.472 | 0.528 | 0.528 | 0.528 | \n",
       "| 1.490 | 1.490 | 1.490 | 0.510 | 0.510 | 0.510 | \n",
       "| 1.423 | 1.423 | 1.423 | 0.577 | 0.577 | 0.577 | \n",
       "| 1.157 | 1.157 | 1.157 | 0.843 | 0.843 | 0.843 | \n",
       "\n",
       "\n"
      ],
      "text/plain": [
       "      [,1]  [,2]  [,3]  [,4]  [,5]  [,6] \n",
       " [1,] 1.261 1.261 1.262 0.739 0.739 0.739\n",
       " [2,] 1.129 1.129 1.129 0.871 0.871 0.871\n",
       " [3,] 1.000 1.000 1.000 1.000 1.000 1.000\n",
       " [4,] 1.388 1.388 1.388 0.613 0.612 0.612\n",
       " [5,] 1.305 1.306 1.306 0.694 0.694 0.694\n",
       " [6,] 1.252 1.252 1.252 0.748 0.748 0.748\n",
       " [7,] 1.243 1.243 1.243 0.757 0.757 0.756\n",
       " [8,] 1.493 1.493 1.493 0.507 0.507 0.507\n",
       " [9,] 1.472 1.472 1.472 0.528 0.528 0.528\n",
       "[10,] 1.490 1.490 1.490 0.510 0.510 0.510\n",
       "[11,] 1.423 1.423 1.423 0.577 0.577 0.577\n",
       "[12,] 1.157 1.157 1.157 0.843 0.843 0.843"
      ]
     },
     "metadata": {},
     "output_type": "display_data"
    }
   ],
   "source": [
    "round(gamma,3)"
   ]
  },
  {
   "cell_type": "code",
   "execution_count": 70,
   "metadata": {},
   "outputs": [
    {
     "data": {
      "text/html": [
       "<table>\n",
       "<tbody>\n",
       "\t<tr><td> 6.62740</td><td>1.47276 </td></tr>\n",
       "\t<tr><td> 8.83654</td><td>2.94551 </td></tr>\n",
       "\t<tr><td>10.30929</td><td>3.68189 </td></tr>\n",
       "</tbody>\n",
       "</table>\n"
      ],
      "text/latex": [
       "\\begin{tabular}{ll}\n",
       "\t  6.62740 & 1.47276 \\\\\n",
       "\t  8.83654 & 2.94551 \\\\\n",
       "\t 10.30929 & 3.68189 \\\\\n",
       "\\end{tabular}\n"
      ],
      "text/markdown": [
       "\n",
       "|  6.62740 | 1.47276  | \n",
       "|  8.83654 | 2.94551  | \n",
       "| 10.30929 | 3.68189  | \n",
       "\n",
       "\n"
      ],
      "text/plain": [
       "     [,1]     [,2]   \n",
       "[1,]  6.62740 1.47276\n",
       "[2,]  8.83654 2.94551\n",
       "[3,] 10.30929 3.68189"
      ]
     },
     "metadata": {},
     "output_type": "display_data"
    }
   ],
   "source": [
    "dmu=5\n",
    "Targets.X[,,dmu]"
   ]
  },
  {
   "cell_type": "code",
   "execution_count": 71,
   "metadata": {},
   "outputs": [
    {
     "data": {
      "text/html": [
       "<table>\n",
       "<tbody>\n",
       "\t<tr><td>3210.609</td><td>69263.73</td></tr>\n",
       "\t<tr><td>3217.972</td><td>69268.14</td></tr>\n",
       "\t<tr><td>3225.336</td><td>69272.56</td></tr>\n",
       "</tbody>\n",
       "</table>\n"
      ],
      "text/latex": [
       "\\begin{tabular}{ll}\n",
       "\t 3210.609 & 69263.73\\\\\n",
       "\t 3217.972 & 69268.14\\\\\n",
       "\t 3225.336 & 69272.56\\\\\n",
       "\\end{tabular}\n"
      ],
      "text/markdown": [
       "\n",
       "| 3210.609 | 69263.73 | \n",
       "| 3217.972 | 69268.14 | \n",
       "| 3225.336 | 69272.56 | \n",
       "\n",
       "\n"
      ],
      "text/plain": [
       "     [,1]     [,2]    \n",
       "[1,] 3210.609 69263.73\n",
       "[2,] 3217.972 69268.14\n",
       "[3,] 3225.336 69272.56"
      ]
     },
     "metadata": {},
     "output_type": "display_data"
    }
   ],
   "source": [
    "dmu=5\n",
    "Targets.Y[,,dmu]"
   ]
  },
  {
   "cell_type": "markdown",
   "metadata": {},
   "source": [
    "## Repeat the process for Example 2, K=2-polygonal Fuzzy Numbers\n",
    "\n",
    "### DATA:\n",
    "\n",
    "**DMU Input1(5 components) Input2 Output1 Output2** \n",
    "\n",
    "1 10  10.81  13  13.04  15    3  3.12  5  5.48  8    3640  3640.21  3650  3650.43  3655   134130  134135.68  134137  134142.45  134145 \n",
    "\n",
    "2  10  11.7  12  13.09  14    3  4.67  5  6.12  7    4150  4151.64  4160  4165.69  4170   116055  116061.78  116062  116062.42  116068  \n",
    "\n",
    "3  9  10.09  12  13.68  14    2  3.69  4  4.48  5    4360  4365.12  4370  4378.88  4380   94060  94060.14  94066  94066.43  94072  \n",
    "\n",
    "4    6  6.69  8  10.45  11    1  1  1  1.63  3    485  486.62  492  496.94  500   24320  24320.38  24329  24330.7  24335  \n",
    "\n",
    "5   8  8.5  10  10.13  13    3  3.82  4  4.18  6    2460  2463.42  2464  2468.91  2470   99740  99743.96  99748  99754.3  99760  \n",
    "\n",
    "6    10  10.05  11  11.62  12    2  2.38  3  3.71  4    1360  1364.87  1368  1370.22  1375   49395  49396.58  49401  49407.19  49410  \n",
    "\n",
    "7    9  10  10  10  12    1  2  2  2  6   1055  1062  1062  1062  1070   37765  37772  37772  37772  37780  \n",
    "\n",
    "8     9  11  11  11  15    1  4  4  4  7  1295  1302  1302  1302  1310   82835  82841  82841  82841  82850  \n",
    "\n",
    "9    10  12  12  12  15    2  5  5  5  7  1660  1671  1671  1671  1680   100590  100596  100596  100596  100605  \n",
    "\n",
    "10    10  16  16  16  20    2  4  4  4  6  1010  1018  1018  1018  1025   64345  64351  64351  64351  64360 \n",
    "\n",
    "11    9  11  11  11  14    3  5  5  5  8   1500  1504  1504  1504  1510    80050  80056  80056  80056  80061 \n",
    "\n",
    "12     5  8  8  8  10    1  4  4  4  6    1960  1965  1965  1965  1972     58160  58167  58167  58167  58175  \n",
    "\n"
   ]
  },
  {
   "cell_type": "code",
   "execution_count": 24,
   "metadata": {},
   "outputs": [
    {
     "ename": "ERROR",
     "evalue": "Error in parse(text = x, srcfile = src): <text>:10:18: unexpected numeric constant\n9:                  ...\n10:                  5\n                     ^\n",
     "output_type": "error",
     "traceback": [
      "Error in parse(text = x, srcfile = src): <text>:10:18: unexpected numeric constant\n9:                  ...\n10:                  5\n                     ^\nTraceback:\n"
     ]
    }
   ],
   "source": [
    "K = 2 # K=1-polygonal fuzzy number, RPFN_k\n",
    "L = 5 # fuzzy length (pentagonal Fuzzy number)\n",
    "N = 12 # DMU's\n",
    "M = 2 # inputs\n",
    "S = 2 # outputs \n",
    "\n",
    "#DATA: \n",
    "INPUTS <- array(c(10,  10.81,  13,  13.04,  15, 3 , 3.12,  5 , 5.48,  8,\n",
    "                 ...\n",
    "                 5,  8,  8,  8,  10,   1,  4,  4,  4 , 6), c(L,M,N)) \n",
    "#"
   ]
  },
  {
   "cell_type": "code",
   "execution_count": 30,
   "metadata": {},
   "outputs": [
    {
     "data": {
      "text/html": [
       "<table>\n",
       "<tbody>\n",
       "\t<tr><td>10 </td><td>10 </td><td> 9 </td><td> 6 </td><td> 8 </td><td>10 </td><td> 9 </td><td> 9 </td><td>10 </td><td>10 </td><td> 9 </td><td> 5 </td><td>-5 </td><td> 0 </td><td>  0</td><td> 0 </td><td> 0 </td><td> 0 </td></tr>\n",
       "\t<tr><td>13 </td><td>12 </td><td>12 </td><td> 8 </td><td>10 </td><td>11 </td><td>10 </td><td>11 </td><td>12 </td><td>16 </td><td>11 </td><td> 8 </td><td> 0 </td><td>-8 </td><td>  0</td><td> 0 </td><td> 0 </td><td> 0 </td></tr>\n",
       "\t<tr><td>15 </td><td>14 </td><td>14 </td><td>11 </td><td>13 </td><td>12 </td><td>12 </td><td>15 </td><td>15 </td><td>20 </td><td>14 </td><td>10 </td><td> 0 </td><td> 0 </td><td>-10</td><td> 0 </td><td> 0 </td><td> 0 </td></tr>\n",
       "\t<tr><td> 3 </td><td> 3 </td><td> 2 </td><td> 1 </td><td> 3 </td><td> 2 </td><td> 1 </td><td> 1 </td><td> 2 </td><td> 2 </td><td> 3 </td><td> 1 </td><td> 0 </td><td> 0 </td><td>  0</td><td>-1 </td><td> 0 </td><td> 0 </td></tr>\n",
       "\t<tr><td> 5 </td><td> 5 </td><td> 4 </td><td> 1 </td><td> 4 </td><td> 3 </td><td> 2 </td><td> 4 </td><td> 5 </td><td> 4 </td><td> 5 </td><td> 4 </td><td> 0 </td><td> 0 </td><td>  0</td><td> 0 </td><td>-4 </td><td> 0 </td></tr>\n",
       "\t<tr><td> 8 </td><td> 7 </td><td> 5 </td><td> 3 </td><td> 6 </td><td> 4 </td><td> 6 </td><td> 7 </td><td> 7 </td><td> 6 </td><td> 8 </td><td> 6 </td><td> 0 </td><td> 0 </td><td>  0</td><td> 0 </td><td> 0 </td><td>-6 </td></tr>\n",
       "</tbody>\n",
       "</table>\n"
      ],
      "text/latex": [
       "\\begin{tabular}{llllllllllllllllll}\n",
       "\t 10  & 10  &  9  &  6  &  8  & 10  &  9  &  9  & 10  & 10  &  9  &  5  & -5  &  0  &   0 &  0  &  0  &  0 \\\\\n",
       "\t 13  & 12  & 12  &  8  & 10  & 11  & 10  & 11  & 12  & 16  & 11  &  8  &  0  & -8  &   0 &  0  &  0  &  0 \\\\\n",
       "\t 15  & 14  & 14  & 11  & 13  & 12  & 12  & 15  & 15  & 20  & 14  & 10  &  0  &  0  & -10 &  0  &  0  &  0 \\\\\n",
       "\t  3  &  3  &  2  &  1  &  3  &  2  &  1  &  1  &  2  &  2  &  3  &  1  &  0  &  0  &   0 & -1  &  0  &  0 \\\\\n",
       "\t  5  &  5  &  4  &  1  &  4  &  3  &  2  &  4  &  5  &  4  &  5  &  4  &  0  &  0  &   0 &  0  & -4  &  0 \\\\\n",
       "\t  8  &  7  &  5  &  3  &  6  &  4  &  6  &  7  &  7  &  6  &  8  &  6  &  0  &  0  &   0 &  0  &  0  & -6 \\\\\n",
       "\\end{tabular}\n"
      ],
      "text/markdown": [
       "\n",
       "| 10  | 10  |  9  |  6  |  8  | 10  |  9  |  9  | 10  | 10  |  9  |  5  | -5  |  0  |   0 |  0  |  0  |  0  | \n",
       "| 13  | 12  | 12  |  8  | 10  | 11  | 10  | 11  | 12  | 16  | 11  |  8  |  0  | -8  |   0 |  0  |  0  |  0  | \n",
       "| 15  | 14  | 14  | 11  | 13  | 12  | 12  | 15  | 15  | 20  | 14  | 10  |  0  |  0  | -10 |  0  |  0  |  0  | \n",
       "|  3  |  3  |  2  |  1  |  3  |  2  |  1  |  1  |  2  |  2  |  3  |  1  |  0  |  0  |   0 | -1  |  0  |  0  | \n",
       "|  5  |  5  |  4  |  1  |  4  |  3  |  2  |  4  |  5  |  4  |  5  |  4  |  0  |  0  |   0 |  0  | -4  |  0  | \n",
       "|  8  |  7  |  5  |  3  |  6  |  4  |  6  |  7  |  7  |  6  |  8  |  6  |  0  |  0  |   0 |  0  |  0  | -6  | \n",
       "\n",
       "\n"
      ],
      "text/plain": [
       "     [,1] [,2] [,3] [,4] [,5] [,6] [,7] [,8] [,9] [,10] [,11] [,12] [,13] [,14]\n",
       "[1,] 10   10    9    6    8   10    9    9   10   10     9     5    -5     0   \n",
       "[2,] 13   12   12    8   10   11   10   11   12   16    11     8     0    -8   \n",
       "[3,] 15   14   14   11   13   12   12   15   15   20    14    10     0     0   \n",
       "[4,]  3    3    2    1    3    2    1    1    2    2     3     1     0     0   \n",
       "[5,]  5    5    4    1    4    3    2    4    5    4     5     4     0     0   \n",
       "[6,]  8    7    5    3    6    4    6    7    7    6     8     6     0     0   \n",
       "     [,15] [,16] [,17] [,18]\n",
       "[1,]   0    0     0     0   \n",
       "[2,]   0    0     0     0   \n",
       "[3,] -10    0     0     0   \n",
       "[4,]   0   -1     0     0   \n",
       "[5,]   0    0    -4     0   \n",
       "[6,]   0    0     0    -6   "
      ]
     },
     "metadata": {},
     "output_type": "display_data"
    }
   ],
   "source": [
    "A[2:7,1:18]"
   ]
  },
  {
   "cell_type": "code",
   "execution_count": 31,
   "metadata": {},
   "outputs": [
    {
     "data": {
      "text/html": [
       "<table>\n",
       "<tbody>\n",
       "\t<tr><td>  3640</td><td>  4150</td><td> 4360 </td><td>  485 </td><td> 2460 </td><td> 1360 </td><td> 1055 </td><td> 1295 </td><td>  1660</td><td> 1010 </td><td> 1500 </td><td> 1960 </td><td>-1960 </td><td>    0 </td><td>    0 </td><td>     0</td><td>     0</td><td>     0</td></tr>\n",
       "\t<tr><td>  3650</td><td>  4160</td><td> 4370 </td><td>  492 </td><td> 2464 </td><td> 1368 </td><td> 1062 </td><td> 1302 </td><td>  1671</td><td> 1018 </td><td> 1504 </td><td> 1965 </td><td>    0 </td><td>-1965 </td><td>    0 </td><td>     0</td><td>     0</td><td>     0</td></tr>\n",
       "\t<tr><td>  3655</td><td>  4170</td><td> 4380 </td><td>  500 </td><td> 2470 </td><td> 1375 </td><td> 1070 </td><td> 1310 </td><td>  1680</td><td> 1025 </td><td> 1510 </td><td> 1972 </td><td>    0 </td><td>    0 </td><td>-1972 </td><td>     0</td><td>     0</td><td>     0</td></tr>\n",
       "\t<tr><td>134130</td><td>116055</td><td>94060 </td><td>24320 </td><td>99740 </td><td>49395 </td><td>37765 </td><td>82835 </td><td>100590</td><td>64345 </td><td>80050 </td><td>58160 </td><td>    0 </td><td>    0 </td><td>    0 </td><td>-58160</td><td>     0</td><td>     0</td></tr>\n",
       "\t<tr><td>134137</td><td>116062</td><td>94066 </td><td>24329 </td><td>99748 </td><td>49401 </td><td>37772 </td><td>82841 </td><td>100596</td><td>64351 </td><td>80056 </td><td>58167 </td><td>    0 </td><td>    0 </td><td>    0 </td><td>     0</td><td>-58167</td><td>     0</td></tr>\n",
       "\t<tr><td>134145</td><td>116068</td><td>94072 </td><td>24335 </td><td>99760 </td><td>49410 </td><td>37780 </td><td>82850 </td><td>100605</td><td>64360 </td><td>80061 </td><td>58175 </td><td>    0 </td><td>    0 </td><td>    0 </td><td>     0</td><td>     0</td><td>-58175</td></tr>\n",
       "</tbody>\n",
       "</table>\n"
      ],
      "text/latex": [
       "\\begin{tabular}{llllllllllllllllll}\n",
       "\t   3640 &   4150 &  4360  &   485  &  2460  &  1360  &  1055  &  1295  &   1660 &  1010  &  1500  &  1960  & -1960  &     0  &     0  &      0 &      0 &      0\\\\\n",
       "\t   3650 &   4160 &  4370  &   492  &  2464  &  1368  &  1062  &  1302  &   1671 &  1018  &  1504  &  1965  &     0  & -1965  &     0  &      0 &      0 &      0\\\\\n",
       "\t   3655 &   4170 &  4380  &   500  &  2470  &  1375  &  1070  &  1310  &   1680 &  1025  &  1510  &  1972  &     0  &     0  & -1972  &      0 &      0 &      0\\\\\n",
       "\t 134130 & 116055 & 94060  & 24320  & 99740  & 49395  & 37765  & 82835  & 100590 & 64345  & 80050  & 58160  &     0  &     0  &     0  & -58160 &      0 &      0\\\\\n",
       "\t 134137 & 116062 & 94066  & 24329  & 99748  & 49401  & 37772  & 82841  & 100596 & 64351  & 80056  & 58167  &     0  &     0  &     0  &      0 & -58167 &      0\\\\\n",
       "\t 134145 & 116068 & 94072  & 24335  & 99760  & 49410  & 37780  & 82850  & 100605 & 64360  & 80061  & 58175  &     0  &     0  &     0  &      0 &      0 & -58175\\\\\n",
       "\\end{tabular}\n"
      ],
      "text/markdown": [
       "\n",
       "|   3640 |   4150 |  4360  |   485  |  2460  |  1360  |  1055  |  1295  |   1660 |  1010  |  1500  |  1960  | -1960  |     0  |     0  |      0 |      0 |      0 | \n",
       "|   3650 |   4160 |  4370  |   492  |  2464  |  1368  |  1062  |  1302  |   1671 |  1018  |  1504  |  1965  |     0  | -1965  |     0  |      0 |      0 |      0 | \n",
       "|   3655 |   4170 |  4380  |   500  |  2470  |  1375  |  1070  |  1310  |   1680 |  1025  |  1510  |  1972  |     0  |     0  | -1972  |      0 |      0 |      0 | \n",
       "| 134130 | 116055 | 94060  | 24320  | 99740  | 49395  | 37765  | 82835  | 100590 | 64345  | 80050  | 58160  |     0  |     0  |     0  | -58160 |      0 |      0 | \n",
       "| 134137 | 116062 | 94066  | 24329  | 99748  | 49401  | 37772  | 82841  | 100596 | 64351  | 80056  | 58167  |     0  |     0  |     0  |      0 | -58167 |      0 | \n",
       "| 134145 | 116068 | 94072  | 24335  | 99760  | 49410  | 37780  | 82850  | 100605 | 64360  | 80061  | 58175  |     0  |     0  |     0  |      0 |      0 | -58175 | \n",
       "\n",
       "\n"
      ],
      "text/plain": [
       "     [,1]   [,2]   [,3]  [,4]  [,5]  [,6]  [,7]  [,8]  [,9]   [,10] [,11] [,12]\n",
       "[1,]   3640   4150  4360   485  2460  1360  1055  1295   1660  1010  1500  1960\n",
       "[2,]   3650   4160  4370   492  2464  1368  1062  1302   1671  1018  1504  1965\n",
       "[3,]   3655   4170  4380   500  2470  1375  1070  1310   1680  1025  1510  1972\n",
       "[4,] 134130 116055 94060 24320 99740 49395 37765 82835 100590 64345 80050 58160\n",
       "[5,] 134137 116062 94066 24329 99748 49401 37772 82841 100596 64351 80056 58167\n",
       "[6,] 134145 116068 94072 24335 99760 49410 37780 82850 100605 64360 80061 58175\n",
       "     [,13] [,14] [,15] [,16]  [,17]  [,18] \n",
       "[1,] -1960     0     0      0      0      0\n",
       "[2,]     0 -1965     0      0      0      0\n",
       "[3,]     0     0 -1972      0      0      0\n",
       "[4,]     0     0     0 -58160      0      0\n",
       "[5,]     0     0     0      0 -58167      0\n",
       "[6,]     0     0     0      0      0 -58175"
      ]
     },
     "metadata": {},
     "output_type": "display_data"
    }
   ],
   "source": [
    "A[8:13,c(1:12,19:24)]"
   ]
  },
  {
   "cell_type": "code",
   "execution_count": 36,
   "metadata": {},
   "outputs": [
    {
     "data": {
      "text/html": [
       "<table>\n",
       "<tbody>\n",
       "\t<tr><td>1 </td><td>0 </td><td>0 </td><td>0 </td><td>0 </td><td>0 </td><td>-1</td></tr>\n",
       "\t<tr><td>0 </td><td>1 </td><td>0 </td><td>0 </td><td>0 </td><td>0 </td><td>-1</td></tr>\n",
       "\t<tr><td>0 </td><td>0 </td><td>1 </td><td>0 </td><td>0 </td><td>0 </td><td>-1</td></tr>\n",
       "\t<tr><td>0 </td><td>0 </td><td>0 </td><td>1 </td><td>0 </td><td>0 </td><td>-1</td></tr>\n",
       "\t<tr><td>0 </td><td>0 </td><td>0 </td><td>0 </td><td>1 </td><td>0 </td><td>-1</td></tr>\n",
       "\t<tr><td>0 </td><td>0 </td><td>0 </td><td>0 </td><td>0 </td><td>1 </td><td>-1</td></tr>\n",
       "</tbody>\n",
       "</table>\n"
      ],
      "text/latex": [
       "\\begin{tabular}{lllllll}\n",
       "\t 1  & 0  & 0  & 0  & 0  & 0  & -1\\\\\n",
       "\t 0  & 1  & 0  & 0  & 0  & 0  & -1\\\\\n",
       "\t 0  & 0  & 1  & 0  & 0  & 0  & -1\\\\\n",
       "\t 0  & 0  & 0  & 1  & 0  & 0  & -1\\\\\n",
       "\t 0  & 0  & 0  & 0  & 1  & 0  & -1\\\\\n",
       "\t 0  & 0  & 0  & 0  & 0  & 1  & -1\\\\\n",
       "\\end{tabular}\n"
      ],
      "text/markdown": [
       "\n",
       "| 1  | 0  | 0  | 0  | 0  | 0  | -1 | \n",
       "| 0  | 1  | 0  | 0  | 0  | 0  | -1 | \n",
       "| 0  | 0  | 1  | 0  | 0  | 0  | -1 | \n",
       "| 0  | 0  | 0  | 1  | 0  | 0  | -1 | \n",
       "| 0  | 0  | 0  | 0  | 1  | 0  | -1 | \n",
       "| 0  | 0  | 0  | 0  | 0  | 1  | -1 | \n",
       "\n",
       "\n"
      ],
      "text/plain": [
       "     [,1] [,2] [,3] [,4] [,5] [,6] [,7]\n",
       "[1,] 1    0    0    0    0    0    -1  \n",
       "[2,] 0    1    0    0    0    0    -1  \n",
       "[3,] 0    0    1    0    0    0    -1  \n",
       "[4,] 0    0    0    1    0    0    -1  \n",
       "[5,] 0    0    0    0    1    0    -1  \n",
       "[6,] 0    0    0    0    0    1    -1  "
      ]
     },
     "metadata": {},
     "output_type": "display_data"
    }
   ],
   "source": [
    "A[14:19,c(13:18,25)]"
   ]
  },
  {
   "cell_type": "code",
   "execution_count": 37,
   "metadata": {},
   "outputs": [
    {
     "data": {
      "text/html": [
       "<table>\n",
       "<tbody>\n",
       "\t<tr><td>1 </td><td>0 </td><td>0 </td><td>0 </td><td>0 </td><td>0 </td><td>-1</td></tr>\n",
       "\t<tr><td>0 </td><td>1 </td><td>0 </td><td>0 </td><td>0 </td><td>0 </td><td>-1</td></tr>\n",
       "\t<tr><td>0 </td><td>0 </td><td>1 </td><td>0 </td><td>0 </td><td>0 </td><td>-1</td></tr>\n",
       "\t<tr><td>0 </td><td>0 </td><td>0 </td><td>1 </td><td>0 </td><td>0 </td><td>-1</td></tr>\n",
       "\t<tr><td>0 </td><td>0 </td><td>0 </td><td>0 </td><td>1 </td><td>0 </td><td>-1</td></tr>\n",
       "\t<tr><td>0 </td><td>0 </td><td>0 </td><td>0 </td><td>0 </td><td>1 </td><td>-1</td></tr>\n",
       "</tbody>\n",
       "</table>\n"
      ],
      "text/latex": [
       "\\begin{tabular}{lllllll}\n",
       "\t 1  & 0  & 0  & 0  & 0  & 0  & -1\\\\\n",
       "\t 0  & 1  & 0  & 0  & 0  & 0  & -1\\\\\n",
       "\t 0  & 0  & 1  & 0  & 0  & 0  & -1\\\\\n",
       "\t 0  & 0  & 0  & 1  & 0  & 0  & -1\\\\\n",
       "\t 0  & 0  & 0  & 0  & 1  & 0  & -1\\\\\n",
       "\t 0  & 0  & 0  & 0  & 0  & 1  & -1\\\\\n",
       "\\end{tabular}\n"
      ],
      "text/markdown": [
       "\n",
       "| 1  | 0  | 0  | 0  | 0  | 0  | -1 | \n",
       "| 0  | 1  | 0  | 0  | 0  | 0  | -1 | \n",
       "| 0  | 0  | 1  | 0  | 0  | 0  | -1 | \n",
       "| 0  | 0  | 0  | 1  | 0  | 0  | -1 | \n",
       "| 0  | 0  | 0  | 0  | 1  | 0  | -1 | \n",
       "| 0  | 0  | 0  | 0  | 0  | 1  | -1 | \n",
       "\n",
       "\n"
      ],
      "text/plain": [
       "     [,1] [,2] [,3] [,4] [,5] [,6] [,7]\n",
       "[1,] 1    0    0    0    0    0    -1  \n",
       "[2,] 0    1    0    0    0    0    -1  \n",
       "[3,] 0    0    1    0    0    0    -1  \n",
       "[4,] 0    0    0    1    0    0    -1  \n",
       "[5,] 0    0    0    0    1    0    -1  \n",
       "[6,] 0    0    0    0    0    1    -1  "
      ]
     },
     "metadata": {},
     "output_type": "display_data"
    }
   ],
   "source": [
    "A[20:25,c(19:25)]"
   ]
  },
  {
   "cell_type": "code",
   "execution_count": 38,
   "metadata": {},
   "outputs": [
    {
     "data": {
      "text/html": [
       "<ol class=list-inline>\n",
       "\t<li>0</li>\n",
       "\t<li>0</li>\n",
       "\t<li>0</li>\n",
       "\t<li>0</li>\n",
       "\t<li>0</li>\n",
       "\t<li>0</li>\n",
       "\t<li>0</li>\n",
       "\t<li>0</li>\n",
       "\t<li>0</li>\n",
       "\t<li>0</li>\n",
       "\t<li>0</li>\n",
       "\t<li>0</li>\n",
       "\t<li>0</li>\n",
       "\t<li>0</li>\n",
       "\t<li>0</li>\n",
       "\t<li>0</li>\n",
       "\t<li>0</li>\n",
       "\t<li>0</li>\n",
       "\t<li>0</li>\n",
       "\t<li>0</li>\n",
       "\t<li>0</li>\n",
       "\t<li>0</li>\n",
       "\t<li>0</li>\n",
       "\t<li>0</li>\n",
       "\t<li>1</li>\n",
       "</ol>\n"
      ],
      "text/latex": [
       "\\begin{enumerate*}\n",
       "\\item 0\n",
       "\\item 0\n",
       "\\item 0\n",
       "\\item 0\n",
       "\\item 0\n",
       "\\item 0\n",
       "\\item 0\n",
       "\\item 0\n",
       "\\item 0\n",
       "\\item 0\n",
       "\\item 0\n",
       "\\item 0\n",
       "\\item 0\n",
       "\\item 0\n",
       "\\item 0\n",
       "\\item 0\n",
       "\\item 0\n",
       "\\item 0\n",
       "\\item 0\n",
       "\\item 0\n",
       "\\item 0\n",
       "\\item 0\n",
       "\\item 0\n",
       "\\item 0\n",
       "\\item 1\n",
       "\\end{enumerate*}\n"
      ],
      "text/markdown": [
       "1. 0\n",
       "2. 0\n",
       "3. 0\n",
       "4. 0\n",
       "5. 0\n",
       "6. 0\n",
       "7. 0\n",
       "8. 0\n",
       "9. 0\n",
       "10. 0\n",
       "11. 0\n",
       "12. 0\n",
       "13. 0\n",
       "14. 0\n",
       "15. 0\n",
       "16. 0\n",
       "17. 0\n",
       "18. 0\n",
       "19. 0\n",
       "20. 0\n",
       "21. 0\n",
       "22. 0\n",
       "23. 0\n",
       "24. 0\n",
       "25. 1\n",
       "\n",
       "\n"
      ],
      "text/plain": [
       " [1] 0 0 0 0 0 0 0 0 0 0 0 0 0 0 0 0 0 0 0 0 0 0 0 0 1"
      ]
     },
     "metadata": {},
     "output_type": "display_data"
    }
   ],
   "source": [
    "A[26,]"
   ]
  },
  {
   "cell_type": "code",
   "execution_count": 39,
   "metadata": {},
   "outputs": [
    {
     "data": {
      "text/html": [
       "<ol class=list-inline>\n",
       "\t<li>0</li>\n",
       "\t<li>0</li>\n",
       "\t<li>0</li>\n",
       "\t<li>0</li>\n",
       "\t<li>0</li>\n",
       "\t<li>0</li>\n",
       "\t<li>0</li>\n",
       "\t<li>0</li>\n",
       "\t<li>0</li>\n",
       "\t<li>0</li>\n",
       "\t<li>0</li>\n",
       "\t<li>0</li>\n",
       "\t<li>0</li>\n",
       "\t<li>0</li>\n",
       "\t<li>0</li>\n",
       "\t<li>0</li>\n",
       "\t<li>0</li>\n",
       "\t<li>0</li>\n",
       "\t<li>0.166666666666667</li>\n",
       "\t<li>0.166666666666667</li>\n",
       "\t<li>0.166666666666667</li>\n",
       "\t<li>0.166666666666667</li>\n",
       "\t<li>0.166666666666667</li>\n",
       "\t<li>0.166666666666667</li>\n",
       "\t<li>0</li>\n",
       "</ol>\n"
      ],
      "text/latex": [
       "\\begin{enumerate*}\n",
       "\\item 0\n",
       "\\item 0\n",
       "\\item 0\n",
       "\\item 0\n",
       "\\item 0\n",
       "\\item 0\n",
       "\\item 0\n",
       "\\item 0\n",
       "\\item 0\n",
       "\\item 0\n",
       "\\item 0\n",
       "\\item 0\n",
       "\\item 0\n",
       "\\item 0\n",
       "\\item 0\n",
       "\\item 0\n",
       "\\item 0\n",
       "\\item 0\n",
       "\\item 0.166666666666667\n",
       "\\item 0.166666666666667\n",
       "\\item 0.166666666666667\n",
       "\\item 0.166666666666667\n",
       "\\item 0.166666666666667\n",
       "\\item 0.166666666666667\n",
       "\\item 0\n",
       "\\end{enumerate*}\n"
      ],
      "text/markdown": [
       "1. 0\n",
       "2. 0\n",
       "3. 0\n",
       "4. 0\n",
       "5. 0\n",
       "6. 0\n",
       "7. 0\n",
       "8. 0\n",
       "9. 0\n",
       "10. 0\n",
       "11. 0\n",
       "12. 0\n",
       "13. 0\n",
       "14. 0\n",
       "15. 0\n",
       "16. 0\n",
       "17. 0\n",
       "18. 0\n",
       "19. 0.166666666666667\n",
       "20. 0.166666666666667\n",
       "21. 0.166666666666667\n",
       "22. 0.166666666666667\n",
       "23. 0.166666666666667\n",
       "24. 0.166666666666667\n",
       "25. 0\n",
       "\n",
       "\n"
      ],
      "text/plain": [
       " [1] 0.0000000 0.0000000 0.0000000 0.0000000 0.0000000 0.0000000 0.0000000\n",
       " [8] 0.0000000 0.0000000 0.0000000 0.0000000 0.0000000 0.0000000 0.0000000\n",
       "[15] 0.0000000 0.0000000 0.0000000 0.0000000 0.1666667 0.1666667 0.1666667\n",
       "[22] 0.1666667 0.1666667 0.1666667 0.0000000"
      ]
     },
     "metadata": {},
     "output_type": "display_data"
    }
   ],
   "source": [
    "A[1,]"
   ]
  },
  {
   "cell_type": "code",
   "execution_count": null,
   "metadata": {},
   "outputs": [],
   "source": []
  }
 ],
 "metadata": {
  "kernelspec": {
   "display_name": "R",
   "language": "R",
   "name": "ir"
  },
  "language_info": {
   "codemirror_mode": "r",
   "file_extension": ".r",
   "mimetype": "text/x-r-source",
   "name": "R",
   "pygments_lexer": "r",
   "version": "3.5.1"
  }
 },
 "nbformat": 4,
 "nbformat_minor": 2
}
