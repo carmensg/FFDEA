{
 "cells": [
  {
   "cell_type": "markdown",
   "metadata": {},
   "source": [
    "# Efficiency in integer interval DEA"
   ]
  },
  {
   "cell_type": "markdown",
   "metadata": {},
   "source": [
    "\n",
    "\n",
    "\\begin{eqnarray}\\label{prob: IDEA}\n",
    "\\mbox{(IDEA)}\\ \\ {I}(X_p, Y_p)= \n",
    "&\\mbox{Max} & {\\displaystyle\\sum_{i=1}^{M} \\frac{\\underline{s_i^x}+\\overline{s_i^x}}{\\underline{x_{ip}}+\\overline{x_{ip}}} +\n",
    "\\sum_{r=1}^{S} \\frac{\\underline{s_r^y}+\\overline{s_r^y}}{\\underline{y_{rp}}+\\overline{y_{rp}}}}\n",
    "\\\\[0.25em]\n",
    "&\\mbox{s.t.} & {\\displaystyle\\sum_{j=1}^{N}} \\lambda_j {x}_{ij} \\preceq {x}_{ip} - s_i^x ,\\quad i=1,\\dots, M,\n",
    "\\nonumber\\\\[0.25em]\n",
    "&& {\\displaystyle\\sum_{j=1}^{N}} \\lambda_j {y}_{rj} \\succeq {y}_{rp} + s_r^y ,\\quad r=1,\\dots, S,\n",
    "\\nonumber\\\\[0.25em]\n",
    "&& \\lambda_j \\geq 0 ,\\quad j=1,\\dots, N, \\nonumber \\\\[0.25em]\n",
    "&& s_i^x ,s_r^y \\in \\mathcal{K}_{\\mathbb{Z}_{+}}, \\quad i=1,\\dots, M, \\ \\ r=1,\\dots, S. \\nonumber\n",
    "\\end{eqnarray}\n",
    "\n",
    "where both inputs $x_{ij} = [\\underline{x_{ij}},\\overline{x_{ij}}]_{\\mathbb{Z}}$, and outputs $y_{rj}=[\\underline{y_{rj}},\\overline{y_{rj}}]_{\\mathbb{Z}}$ are non-negative integer intervals, $\\mathcal{K}_{\\mathbb{Z}_{+}}, \\ \\ \\forall i,j,r$. \n",
    "\n",
    "Lets denote a feasible solution for (IDEA) as $({ s^{x*}},{ s^{y*}},{ \\lambda^*})$, where \n",
    "${ s^{x*}} = (s_1^{x*},\\ldots,s_M^{x*})\\in (\\mathcal{K}_{\\mathbb{Z}_{+}} )^M$, \n",
    "${ s^{y*}} = (s_1^{y*},\\ldots,s_S^{y*})\\in (\\mathcal{K}_{\\mathbb{Z}_{+}} )^S$, and\n",
    "${ \\lambda^*} = (\\lambda_1^*,\\ldots,\\lambda_N^*)\\in (\\mathbb{R})^N$.\n",
    "\n",
    "\n"
   ]
  },
  {
   "cell_type": "markdown",
   "metadata": {},
   "source": [
    "## Example: \n"
   ]
  },
  {
   "cell_type": "code",
   "execution_count": 247,
   "metadata": {},
   "outputs": [],
   "source": [
    "K = 2 # interval DEA: [a-,a+]\n",
    "N = 5 # DMUs\n",
    "M = 2 # inputs X\n",
    "S = 1 # outputs Y\n",
    "\n",
    "# DATA: based on the Hsiao et al (2011)'s example\n",
    "X <- array(c(11,13, 8,10, \n",
    "             14,15, 6,7, \n",
    "             16,17, 7,8,\n",
    "             18,20, 4,7,\n",
    "             19,20, 6,7), c(K,M,N)) \n",
    "#\n",
    "Y <- array(c(10,10, \n",
    "                   10,10,\n",
    "                   10,10,\n",
    "                   10,10,\n",
    "                   10,10),c(K,S,N)) \n",
    "\n"
   ]
  },
  {
   "cell_type": "code",
   "execution_count": 248,
   "metadata": {},
   "outputs": [
    {
     "data": {
      "text/html": [
       "<table>\n",
       "<tbody>\n",
       "\t<tr><td>11</td><td>14</td><td>16</td><td>18</td><td>19</td></tr>\n",
       "\t<tr><td> 8</td><td> 6</td><td> 7</td><td> 4</td><td> 6</td></tr>\n",
       "</tbody>\n",
       "</table>\n"
      ],
      "text/latex": [
       "\\begin{tabular}{lllll}\n",
       "\t 11 & 14 & 16 & 18 & 19\\\\\n",
       "\t  8 &  6 &  7 &  4 &  6\\\\\n",
       "\\end{tabular}\n"
      ],
      "text/markdown": [
       "\n",
       "| 11 | 14 | 16 | 18 | 19 | \n",
       "|  8 |  6 |  7 |  4 |  6 | \n",
       "\n",
       "\n"
      ],
      "text/plain": [
       "     [,1] [,2] [,3] [,4] [,5]\n",
       "[1,] 11   14   16   18   19  \n",
       "[2,]  8    6    7    4    6  "
      ]
     },
     "metadata": {},
     "output_type": "display_data"
    }
   ],
   "source": [
    "# Understand the structure:\n",
    "# First fuzzy element for each input of each DMU:\n",
    "X[1,,]"
   ]
  },
  {
   "cell_type": "code",
   "execution_count": 249,
   "metadata": {},
   "outputs": [
    {
     "data": {
      "text/html": [
       "<table>\n",
       "<tbody>\n",
       "\t<tr><td>11</td><td> 8</td></tr>\n",
       "\t<tr><td>13</td><td>10</td></tr>\n",
       "</tbody>\n",
       "</table>\n"
      ],
      "text/latex": [
       "\\begin{tabular}{ll}\n",
       "\t 11 &  8\\\\\n",
       "\t 13 & 10\\\\\n",
       "\\end{tabular}\n"
      ],
      "text/markdown": [
       "\n",
       "| 11 |  8 | \n",
       "| 13 | 10 | \n",
       "\n",
       "\n"
      ],
      "text/plain": [
       "     [,1] [,2]\n",
       "[1,] 11    8  \n",
       "[2,] 13   10  "
      ]
     },
     "metadata": {},
     "output_type": "display_data"
    }
   ],
   "source": [
    "# First DMU:\n",
    "X[,,1]"
   ]
  },
  {
   "cell_type": "code",
   "execution_count": 250,
   "metadata": {},
   "outputs": [
    {
     "data": {
      "text/html": [
       "<table>\n",
       "<tbody>\n",
       "\t<tr><td> 8</td><td>6 </td><td>7 </td><td>4 </td><td>6 </td></tr>\n",
       "\t<tr><td>10</td><td>7 </td><td>8 </td><td>7 </td><td>7 </td></tr>\n",
       "</tbody>\n",
       "</table>\n"
      ],
      "text/latex": [
       "\\begin{tabular}{lllll}\n",
       "\t  8 & 6  & 7  & 4  & 6 \\\\\n",
       "\t 10 & 7  & 8  & 7  & 7 \\\\\n",
       "\\end{tabular}\n"
      ],
      "text/markdown": [
       "\n",
       "|  8 | 6  | 7  | 4  | 6  | \n",
       "| 10 | 7  | 8  | 7  | 7  | \n",
       "\n",
       "\n"
      ],
      "text/plain": [
       "     [,1] [,2] [,3] [,4] [,5]\n",
       "[1,]  8   6    7    4    6   \n",
       "[2,] 10   7    8    7    7   "
      ]
     },
     "metadata": {},
     "output_type": "display_data"
    }
   ],
   "source": [
    "# Second input for each DMU:\n",
    "X[,2,]"
   ]
  },
  {
   "cell_type": "markdown",
   "metadata": {},
   "source": [
    "**Notes:**\n",
    "<font color='blue'>For computational purposes, and to simplify notation, let use the equivalent one:</font>\n",
    "$\\color{blue}{\\tilde{a} = (\\underline{a},\\overline{a}) \\equiv  (a_1,a_2)}$\n",
    "\n"
   ]
  },
  {
   "cell_type": "markdown",
   "metadata": {},
   "source": [
    "# Parameterized (IIDEA) model,\n",
    "\n",
    "\\begin{eqnarray}\\label{prob: PIDEA}\n",
    "\\mbox{(PIDEA)}\\ \\ {I}(X_p, Y_p)= \n",
    "&\\mbox{Max} & {\\displaystyle\\sum_{i=1}^{M} \\frac{\\underline{s_i^x}+\\overline{s_i^x}}{\\underline{x_{ip}}+\\overline{x_{ip}}} +\n",
    "\\sum_{r=1}^{S} \\frac{\\underline{s_r^y}+\\overline{s_r^y}}{\\underline{y_{rp}}+\\overline{y_{rp}}}}\n",
    "\\\\[0.25em]\n",
    "&\\mbox{s.t.} & {\\displaystyle\\sum_{j=1}^{N}} \\lambda_j \\underline{x_{ij}} \\leq \\underline{x_{ip}} - \\underline{s_i^x} ,\\quad i=1,\\dots, M,\n",
    "\\nonumber\\\\[0.25em]\n",
    "&& {\\displaystyle\\sum_{j=1}^{N}} \\lambda_j \\overline{x_{ij}} \\leq \\overline{x_{ip}} - \\overline{s_i^x} ,\\quad i=1,\\dots, M,\n",
    "\\nonumber\\\\[0.25em]\n",
    "&& {\\displaystyle\\sum_{j=1}^{N}} \\lambda_j \\underline{y_{rj}} \\geq \\underline{y_{rp}} + \\underline{s_r^y} ,\\quad r=1,\\dots, S,\n",
    "\\nonumber\\\\[0.25em]\n",
    "&& {\\displaystyle\\sum_{j=1}^{N}} \\lambda_j \\overline{y_{rj}} \\geq \\overline{y_{rp}} + \\overline{s_r^y} ,\\quad r=1,\\dots, S,\n",
    "\\nonumber\\\\[0.25em]\n",
    "&& \\underline{s_i^x} \\leq \\overline{s_i^x} ,\\quad i=1,\\dots, M,\n",
    "\\nonumber\\\\[0.25em]\n",
    "&& \\underline{s_r^y} \\leq \\overline{s_r^y} ,\\quad r=1,\\dots, S,\n",
    "\\nonumber\\\\[0.25em]\n",
    "&& \\lambda_j \\geq 0 ,\\quad j=1,\\dots, N, \\nonumber \\\\[0.25em]\n",
    "&& \\underline{s_i^x},\\overline{s_i^x},\\underline{s_r^y},\\overline{s_r^y} \\in \\mathbb{Z}_+, \\quad i=1,\\dots, M, \\ \\ r=1,\\dots, S. \\nonumber\n",
    "\\end{eqnarray}\n",
    "\n",
    "\n",
    "\n",
    "There are $N+2(M+S)$ variables, and $3(M+S)$ constraints."
   ]
  },
  {
   "cell_type": "code",
   "execution_count": 251,
   "metadata": {},
   "outputs": [
    {
     "data": {
      "text/html": [
       "11"
      ],
      "text/latex": [
       "11"
      ],
      "text/markdown": [
       "11"
      ],
      "text/plain": [
       "[1] 11"
      ]
     },
     "metadata": {},
     "output_type": "display_data"
    },
    {
     "data": {
      "text/html": [
       "9"
      ],
      "text/latex": [
       "9"
      ],
      "text/markdown": [
       "9"
      ],
      "text/plain": [
       "[1] 9"
      ]
     },
     "metadata": {},
     "output_type": "display_data"
    }
   ],
   "source": [
    "# There are \n",
    "NV = N+(M+S)*2 # variables, and\n",
    "NC = 3*(M+S) # constraints\n",
    "\n",
    "NV; NC"
   ]
  },
  {
   "cell_type": "markdown",
   "metadata": {},
   "source": [
    "**NOTE:** To solve the above problem with lp (lpSolve package), we need to transform it in matrix notation:  \n",
    "\n",
    "\\begin{eqnarray*}\n",
    "\\ \\ &\\mbox{Max} & Cx  \\\\\n",
    "&s.t.& Ax \\leq b,  \\\\\n",
    "&& x\\geq 0\n",
    "\\end{eqnarray*}\n",
    "\n",
    "where, $x = (\\lambda_1,\\ldots,\\lambda_N,\n",
    "\\underline{s_1^x},\\overline{s_1^x},\\ldots,\\underline{s_M^x},\\overline{s_M^x},\n",
    "\\underline{s_1^y},\\overline{s_1^y},\\ldots,\\underline{s_S^y},\\overline{s_S^y})$\n",
    "\n",
    "### Example (continuation):\n",
    "\n",
    "PIIDEA for this example is, for DMU $p=1$\n",
    "\n",
    "\\begin{eqnarray}\n",
    "(PIIDEA)\\ \\ I(\\tilde{X}_1, \\tilde{Y}_1)= \\ \\ & {Max}\\ \\ & \\ \\ \n",
    "\\frac{\\underline{s_1^x}+\\overline{s_1^x}}{11+13} + \\frac{\\underline{s_2^x}+\\overline{s_2^x}}{8+10} +\n",
    "\\frac{\\underline{s_1^y}+\\overline{s_1^y}}{10+10}\n",
    "\\\\[1em]\n",
    "&\\mbox{s.t.} & \n",
    "\\left. \\begin{array}{lcr}\n",
    "11\\lambda_1 + 14\\lambda_2 + 16\\lambda_3 + 18\\lambda_4 + 19\\lambda_5 &\\leq& 11 - \\underline{s_1^x} \\\\\n",
    "13\\lambda_1 + 15\\lambda_2 + 17\\lambda_3 + 20\\lambda_4 + 20\\lambda_5 &\\leq& 13 - \\overline{s_1^x}\n",
    "\\end{array} \\right\\} \\ \\ i=1\n",
    "\\nonumber\\\\[1em]\n",
    "&&  \\left. \\begin{array}{lcr}\n",
    "8\\lambda_1 + 6\\lambda_2 + 7\\lambda_3 + 4\\lambda_4 + 6\\lambda_5 &\\leq& 8 - \\underline{s_2^x} \\\\\n",
    "10\\lambda_1 + 7\\lambda_2 + 8\\lambda_3 + 7\\lambda_4 + 7\\lambda_5 &\\leq& 10 - \\overline{s_2^x}\n",
    "\\end{array} \\right\\} \\ \\ i=2\n",
    "\\nonumber\\\\[1em]\n",
    "&& \\left. \\begin{array}{lcr}\n",
    "10\\lambda_1 + 10\\lambda_2 + 10\\lambda_3 + 10\\lambda_4 + 10\\lambda_5 &\\geq& 10 + \\underline{s_1^y} \\\\  \n",
    "10\\lambda_1 + 10\\lambda_2 + 10\\lambda_3 + 10\\lambda_4 + 10\\lambda_5 &\\geq& 10 + \\overline{s_1^y}\\\\  \n",
    "\\end{array} \\right\\} \\ \\ r=1\n",
    "\\nonumber\\\\[1em]\n",
    "&& \\underline{s_i^x} \\leq \\overline{s_i^x} \\quad i=1,2,\n",
    "\\nonumber\\\\\n",
    "&& \\underline{s_r^y} \\leq \\overline{s_r^y} \\quad r=1,\n",
    "\\nonumber\\\\\n",
    "&& \\lambda_j \\geq 0 ,\\quad j=1,\\dots, 5 \\nonumber\n",
    "\\end{eqnarray}\n",
    "\n"
   ]
  },
  {
   "cell_type": "markdown",
   "metadata": {},
   "source": [
    "To solve the above problem with lp (lpSolve package), we need to transform it in matrix notation:  \n",
    "\n",
    "\\begin{eqnarray*}\n",
    "\\ \\ &\\mbox{Max } & Cx \\\\\n",
    "&s.t.& Ax \\leq b,  \\\\\n",
    "&& x\\geq 0, \\ \\ x \\in \\mathbb{R}^{18}\n",
    "\\end{eqnarray*}\n",
    "\n",
    "where, \n",
    "\n",
    "$x = \\begin{pmatrix}\n",
    "      \\lambda_1 & \\lambda_2 & \\lambda_3 & \\lambda_4 & \\lambda_5 &\n",
    "      \\underline{s_1^x}&\\overline{s_1^x} &\\underline{s_2^x}&\\overline{s_2^x}&\n",
    "       \\underline{s_1^y}&\\overline{s_1^y}\n",
    "\\end{pmatrix}\n",
    "$\n",
    "\n",
    "$A = \\left(\\begin{array}{ccccc | cccccc}\n",
    "  \\lambda_1 & \\lambda_2 & \\lambda_3 & \\lambda_4 & \\lambda_5 &\n",
    "  \\underline{s_1^x}&\\overline{s_1^x} &\\underline{s_2^x}&\\overline{s_2^x}&\n",
    "       \\underline{s_1^y}&\\overline{s_1^y} \\\\\n",
    "       \\hline\n",
    "   11& 14& 16& 18& 19& 1& 0& 0& 0&0 &0 \\\\\n",
    "   13& 15& 17& 20& 20& 0& 1& 0& 0& 0& 0 \\\\\n",
    "   8& 6& 7& 4& 6& 0& 0& 1& 0& 0 & 0 \\\\\n",
    "   10& 7& 8& 7& 7& 0& 0& 0& 1& 0 & 0 \\\\\n",
    "   %\\hline\n",
    "   10&10 & 10&10 &10 & 0& 0& 0& 0& -1 & 0 \\\\\n",
    "    10&10 & 10&10 &10 & 0& 0& 0& 0& 0 & -1 \\\\\n",
    "   \\hline\n",
    "   0&0 &0 &0 &0 & 1&-1 &0 &0 & 0&0  \\\\\n",
    "   0&0 &0 &0 &0 & 0&0 &1&-1 & 0&0  \\\\\n",
    "   %\\hline\n",
    "   0&0 &0 &0 &0 & 0&0 &0 &0 &1&-1  \\\\\n",
    " \\end{array} \\right)\n",
    " \\begin{matrix}\n",
    "  \\\\ \\leq \\\\ \\leq \\\\ \\leq \\\\ \\leq \\\\ \n",
    " \\geq \\\\ \\geq \\\\ \n",
    " \\leq \\\\ \\leq \\\\ \\leq \n",
    " \\end{matrix}\n",
    " \\quad \n",
    " b = \\begin{pmatrix}\n",
    " \\\\ 11 \\\\ 13 \\\\ 8 \\\\ 10 \\\\ 10 \\\\ 10 \\\\\n",
    " 0 \\\\ 0 \\\\ 0 \n",
    "\\end{pmatrix}\n",
    "$\n",
    "\n",
    "and \n",
    "\n",
    "$\n",
    "C = \\begin{pmatrix}\n",
    "  0 & 0 & 0 & 0 & 0 &\n",
    "  \\frac{1}{24} &  \\frac{1}{24} & \\frac{1}{18} & \\frac{1}{18} & \n",
    "   \\frac{1}{20} &  \\frac{1}{20} \n",
    "\\end{pmatrix}\n",
    "$\n",
    "\n",
    "\n",
    "\n"
   ]
  },
  {
   "cell_type": "markdown",
   "metadata": {},
   "source": [
    "Column indexes: \n",
    "\n",
    "$\\lambda_j, \\ \\ j=1,\\ldots,N \\quad : A[,j]$ \n",
    "\n",
    "$\\underline{s^x_{i}}, \\ \\ i=1,\\ldots,M, \\ \\ : A[,N+2*(i-1)+1]$ \n",
    "\n",
    "$\\overline{s^x_{i}}, \\ \\ i=1,\\ldots,M, \\ \\ : A[,N+2*(i-1)+2]$ \n",
    "\n",
    "$\\underline{s^y_{r}}, \\ \\ r=1,\\ldots,S, \\ \\ : A[,N+2*M+2*(r-1)+1]$ \n",
    "\n",
    "$\\overline{s^y_{r}}, \\ \\ r=1,\\ldots,S, \\ \\ : A[,N+2*M+2*(r-1)+2]$ \n",
    "\n"
   ]
  },
  {
   "cell_type": "code",
   "execution_count": 266,
   "metadata": {},
   "outputs": [],
   "source": [
    "# Find the optimal solution for each DMU\n",
    "library(\"lpSolve\")\n",
    "library(\"MASS\")\n",
    "\n",
    "# Define variable arrays, for each DMU (N):\n",
    "IDEA = array(0,N)\n",
    "lambda = array(0,c(N,N))\n",
    "sx = array(0,c(N,M*2))\n",
    "sy = array(0,c(N,S*2))\n",
    "\n",
    "\n",
    "# Constraints matrix A, by blocks: (same matrix for each DMU --> outisde the loop)\n",
    "A = array(0,c(NC,NV))\n",
    "\n",
    "A[1:(2*M),1:N] = matrix(c(X[,1:M,]),ncol=N,nrow=2*M,byrow=FALSE)\n",
    "A[(2*M+1):(2*M+2*S),1:N] = matrix(c(Y[,1:S,]),ncol=N,nrow=2*S,byrow=FALSE)\n",
    "A[1:(2*M),(N+1):(N+2*M)] = diag(1,2*(M))\n",
    "A[(2*M+1):(2*M+2*S),(N+2*M+1):NV] = -diag(1,2*(S))\n",
    "                                  \n",
    "for(i in 1:M){\n",
    "    A[2*(M+S)+i,N+(i-1)*2+1] = 1\n",
    "    A[2*(M+S)+i,N+(i-1)*2+2] = -1\n",
    "} \n",
    "\n",
    "for(r in 1:S){\n",
    "    A[3*M+2*S+r,N+2*M+(r-1)*2+1] = 1\n",
    "    A[3*M+2*S+r,N+2*M+(r-1)*2+2] = -1\n",
    "} \n",
    "\n",
    "\n",
    "\n",
    "for(dmu in 1:N){\n",
    "    ## Set the coefficients of the decision variables -> C\n",
    "    C <- c(rep(0,N))\n",
    "    for(i in 1:M) C <- c(C,rep(1/sum(X[,i,dmu]),2))\n",
    "    for(r in 1:S) C <- c(C,rep(1/sum(Y[,r,dmu]),2))\n",
    "    \n",
    "    # Right hand side for the constraints\n",
    "    B <- c(X[,,dmu],Y[,,dmu],rep(0,M+S))\n",
    "    \n",
    "    # Direction of the constraints\n",
    "    constraints_direction  <- c(rep(\"<=\",M*2), rep(\">=\",S*2), \n",
    "                               rep(\"<=\",M+S)) \n",
    "    \n",
    "    optimum <-  lp(direction=\"max\",\n",
    "                 objective.in = C,\n",
    "                 const.mat = A,\n",
    "                 const.dir = constraints_direction,\n",
    "                 const.rhs = B, #,\n",
    "                 #all.int = TRUE,\n",
    "                 #int.vec = seq(N+1:NV)\n",
    "                  )\n",
    "\n",
    "    # LMFERM solution: \n",
    "    sol.IIDEA <- optimum$solution\n",
    "    \n",
    "    IDEA[dmu] = optimum$objval\n",
    "    lambda[dmu,] = sol.IIDEA[1:N]\n",
    "    sx[dmu,] = sol.IIDEA[(N+1):(N+M)]\n",
    "    sy[dmu,] = sol.IIDEA[(N+2*M+1):(NV)]\n",
    "    \n",
    "}\n",
    "\n",
    "\n",
    "### checking solutions:\n",
    "#fractions(IDEA)\n",
    "#lambda\n",
    "#sx \n",
    "#sy"
   ]
  },
  {
   "cell_type": "code",
   "execution_count": 265,
   "metadata": {},
   "outputs": [
    {
     "data": {
      "text/html": [
       "<table>\n",
       "<thead><tr><th scope=col>DMU</th><th scope=col>IDEA</th><th scope=col>lambda.1</th><th scope=col>lambda.2</th><th scope=col>lambda.3</th><th scope=col>lambda.4</th><th scope=col>lambda.5</th><th scope=col>sx1.1</th><th scope=col>sx1.2</th><th scope=col>sx2.1</th><th scope=col>sx2.2</th><th scope=col>sy.1</th><th scope=col>sy.2</th></tr></thead>\n",
       "<tbody>\n",
       "\t<tr><td>1        </td><td>0.0000000</td><td>1        </td><td>0        </td><td>0        </td><td>0        </td><td>0        </td><td>0        </td><td>0        </td><td>0        </td><td>0        </td><td>0        </td><td>0        </td></tr>\n",
       "\t<tr><td>2        </td><td>0.0000000</td><td>0        </td><td>1        </td><td>0        </td><td>0        </td><td>0        </td><td>0        </td><td>0        </td><td>0        </td><td>0        </td><td>0        </td><td>0        </td></tr>\n",
       "\t<tr><td>3        </td><td>0.2545455</td><td>0        </td><td>1        </td><td>0        </td><td>0        </td><td>0        </td><td>2        </td><td>2        </td><td>2        </td><td>2        </td><td>0        </td><td>0        </td></tr>\n",
       "\t<tr><td>4        </td><td>0.0000000</td><td>0        </td><td>0        </td><td>0        </td><td>1        </td><td>0        </td><td>0        </td><td>0        </td><td>0        </td><td>0        </td><td>0        </td><td>0        </td></tr>\n",
       "\t<tr><td>5        </td><td>0.2564103</td><td>0        </td><td>1        </td><td>0        </td><td>0        </td><td>0        </td><td>5        </td><td>5        </td><td>5        </td><td>5        </td><td>0        </td><td>0        </td></tr>\n",
       "</tbody>\n",
       "</table>\n"
      ],
      "text/latex": [
       "\\begin{tabular}{r|lllllllllllll}\n",
       " DMU & IDEA & lambda.1 & lambda.2 & lambda.3 & lambda.4 & lambda.5 & sx1.1 & sx1.2 & sx2.1 & sx2.2 & sy.1 & sy.2\\\\\n",
       "\\hline\n",
       "\t 1         & 0.0000000 & 1         & 0         & 0         & 0         & 0         & 0         & 0         & 0         & 0         & 0         & 0        \\\\\n",
       "\t 2         & 0.0000000 & 0         & 1         & 0         & 0         & 0         & 0         & 0         & 0         & 0         & 0         & 0        \\\\\n",
       "\t 3         & 0.2545455 & 0         & 1         & 0         & 0         & 0         & 2         & 2         & 2         & 2         & 0         & 0        \\\\\n",
       "\t 4         & 0.0000000 & 0         & 0         & 0         & 1         & 0         & 0         & 0         & 0         & 0         & 0         & 0        \\\\\n",
       "\t 5         & 0.2564103 & 0         & 1         & 0         & 0         & 0         & 5         & 5         & 5         & 5         & 0         & 0        \\\\\n",
       "\\end{tabular}\n"
      ],
      "text/markdown": [
       "\n",
       "DMU | IDEA | lambda.1 | lambda.2 | lambda.3 | lambda.4 | lambda.5 | sx1.1 | sx1.2 | sx2.1 | sx2.2 | sy.1 | sy.2 | \n",
       "|---|---|---|---|---|\n",
       "| 1         | 0.0000000 | 1         | 0         | 0         | 0         | 0         | 0         | 0         | 0         | 0         | 0         | 0         | \n",
       "| 2         | 0.0000000 | 0         | 1         | 0         | 0         | 0         | 0         | 0         | 0         | 0         | 0         | 0         | \n",
       "| 3         | 0.2545455 | 0         | 1         | 0         | 0         | 0         | 2         | 2         | 2         | 2         | 0         | 0         | \n",
       "| 4         | 0.0000000 | 0         | 0         | 0         | 1         | 0         | 0         | 0         | 0         | 0         | 0         | 0         | \n",
       "| 5         | 0.2564103 | 0         | 1         | 0         | 0         | 0         | 5         | 5         | 5         | 5         | 0         | 0         | \n",
       "\n",
       "\n"
      ],
      "text/plain": [
       "  DMU IDEA      lambda.1 lambda.2 lambda.3 lambda.4 lambda.5 sx1.1 sx1.2 sx2.1\n",
       "1 1   0.0000000 1        0        0        0        0        0     0     0    \n",
       "2 2   0.0000000 0        1        0        0        0        0     0     0    \n",
       "3 3   0.2545455 0        1        0        0        0        2     2     2    \n",
       "4 4   0.0000000 0        0        0        1        0        0     0     0    \n",
       "5 5   0.2564103 0        1        0        0        0        5     5     5    \n",
       "  sx2.2 sy.1 sy.2\n",
       "1 0     0    0   \n",
       "2 0     0    0   \n",
       "3 2     0    0   \n",
       "4 0     0    0   \n",
       "5 5     0    0   "
      ]
     },
     "metadata": {},
     "output_type": "display_data"
    }
   ],
   "source": [
    "# Giving the RESULTS all togthere into a dataframe: \n",
    "data.frame(DMU = seq(1:N),IDEA=IDEA,lambda=lambda,sx1=sx[,1:2],sx2=sx[,3:4],sy=sy)"
   ]
  },
  {
   "cell_type": "markdown",
   "metadata": {},
   "source": [
    "### PLOTTING the Example:"
   ]
  },
  {
   "cell_type": "code",
   "execution_count": 246,
   "metadata": {},
   "outputs": [
    {
     "data": {
      "image/png": "[encoded data removed]",
      "text/plain": [
       "plot without title"
      ]
     },
     "metadata": {},
     "output_type": "display_data"
    }
   ],
   "source": [
    "# X : array c(K,M,N); Y array c(K,S,N)\n",
    "midX = (X[1,1,]+X[2,1,])/2\n",
    "midY = (X[1,2,]+X[2,2,])/2\n",
    "\n",
    "plot(midX,midY, pch='',\n",
    "     xlim=range(X[,1,]),ylim=range(X[,2,]),\n",
    "     asp=1, #same aspect(scale) both axis,\n",
    "     xlab = \"Input 1\",ylab=\"Input 2\")\n",
    "axis(side=1, at=seq(min(X[,1,]),max(X[,1,])))\n",
    "axis(side=2, at=seq(min(X[,2,]),max(X[,2,])))\n",
    "arrows(x0=X[1,1,], y0=midY, x1=X[2,1,], y1=midY, code=3, angle=90, length=0.05, col=\"blue\", lwd=2)\n",
    "arrows(x0=midX, y0=X[1,2,], x1=midX, y1=X[2,2,], code=3, angle=90, length=0.05, col=\"red\", lwd=2)\n",
    "text(midX+0.2, midY+0.1, labels=seq(1:N), cex= 1,pos=3)\n",
    "#lines(midX[which(IDEA==0)],midY[which(IDEA==0)])\n",
    "lines(X[1,1,which(IDEA==0)],X[1,2,which(IDEA==0)])\n",
    "lines(X[2,1,which(IDEA==0)],X[2,2,which(IDEA==0)])\n",
    "for(n in 1:length(which(IDEA==0))){\n",
    "    polygon(c(X[,1,which(IDEA==0)[n]],rev(X[,1,which(IDEA==0)[n]])),\n",
    "            rep(X[,2,which(IDEA==0)[n]],each=2), lty=2)\n",
    "}\n",
    "\n",
    "#grid()\n",
    "abline(v=seq(min(X[,1,]),max(X[,1,])), col=\"grey\", lty=\"dotted\")\n",
    "abline(h=seq(min(X[,2,]),max(X[,2,])), col=\"grey\", lty=\"dotted\") "
   ]
  },
  {
   "cell_type": "code",
   "execution_count": 217,
   "metadata": {},
   "outputs": [],
   "source": [
    "# TRY WITH ANOTHER EXAMPLE: ...\n",
    "\n",
    "X <- array(c(11,13, 8,10, \n",
    "             14,15, 6,7, \n",
    "             16,17, 7,8,\n",
    "             18,20, 5,6,\n",
    "             17,19, 6,7), c(K,M,N)) "
   ]
  },
  {
   "cell_type": "code",
   "execution_count": null,
   "metadata": {},
   "outputs": [],
   "source": [
    "# PHASE II"
   ]
  }
 ],
 "metadata": {
  "kernelspec": {
   "display_name": "R",
   "language": "R",
   "name": "ir"
  },
  "language_info": {
   "codemirror_mode": "r",
   "file_extension": ".r",
   "mimetype": "text/x-r-source",
   "name": "R",
   "pygments_lexer": "r",
   "version": "3.5.1"
  }
 },
 "nbformat": 4,
 "nbformat_minor": 2
}
