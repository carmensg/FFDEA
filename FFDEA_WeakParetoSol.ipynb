{
 "cells": [
  {
   "cell_type": "markdown",
   "metadata": {},
   "source": [
    "$\\begin{array}{lcl}\n",
    "\\mbox{(FFLP)}\\, &\\mbox{Min} & \\tilde{z}=(-1,0,2)\\tilde{x}_1+(1,2,3)\\tilde{x}_2 \\in\\mathcal{F}_C \\\\\n",
    "&\\mbox{s.t.} & (2,5,8)\\tilde{x}_1+(3,4,10)\\tilde{x}_2 <\\simeq (1,3,6)\\\\\n",
    "&& (4,5,7)\\tilde{x}_1+(0,5,15)\\tilde{x}_2<\\simeq (2,3,6)\\\\\n",
    "&& \\tilde{x}_1, \\tilde{x}_2 >\\simeq 0\n",
    "\\end{array}\n",
    "$\n",
    "\n",
    "There are two fuzzy variables, and two constraints with triangular fuzzy numbers,  this is a  $1-$polygonal case.\n"
   ]
  },
  {
   "cell_type": "code",
   "execution_count": 1,
   "metadata": {},
   "outputs": [
    {
     "name": "stdout",
     "output_type": "stream",
     "text": [
      "[1] \"Objective function\"\n"
     ]
    },
    {
     "data": {
      "text/html": [
       "<table>\n",
       "<tbody>\n",
       "\t<tr><td>-1</td><td>1 </td></tr>\n",
       "\t<tr><td> 0</td><td>2 </td></tr>\n",
       "\t<tr><td> 2</td><td>3 </td></tr>\n",
       "</tbody>\n",
       "</table>\n"
      ],
      "text/latex": [
       "\\begin{tabular}{ll}\n",
       "\t -1 & 1 \\\\\n",
       "\t  0 & 2 \\\\\n",
       "\t  2 & 3 \\\\\n",
       "\\end{tabular}\n"
      ],
      "text/markdown": [
       "\n",
       "| -1 | 1  | \n",
       "|  0 | 2  | \n",
       "|  2 | 3  | \n",
       "\n",
       "\n"
      ],
      "text/plain": [
       "     [,1] [,2]\n",
       "[1,] -1   1   \n",
       "[2,]  0   2   \n",
       "[3,]  2   3   "
      ]
     },
     "metadata": {},
     "output_type": "display_data"
    },
    {
     "name": "stdout",
     "output_type": "stream",
     "text": [
      "[1] \"Matrix of coeff., 1st component\"\n"
     ]
    },
    {
     "data": {
      "text/html": [
       "<table>\n",
       "<tbody>\n",
       "\t<tr><td>2</td><td>3</td></tr>\n",
       "\t<tr><td>4</td><td>0</td></tr>\n",
       "</tbody>\n",
       "</table>\n"
      ],
      "text/latex": [
       "\\begin{tabular}{ll}\n",
       "\t 2 & 3\\\\\n",
       "\t 4 & 0\\\\\n",
       "\\end{tabular}\n"
      ],
      "text/markdown": [
       "\n",
       "| 2 | 3 | \n",
       "| 4 | 0 | \n",
       "\n",
       "\n"
      ],
      "text/plain": [
       "     [,1] [,2]\n",
       "[1,] 2    3   \n",
       "[2,] 4    0   "
      ]
     },
     "metadata": {},
     "output_type": "display_data"
    },
    {
     "name": "stdout",
     "output_type": "stream",
     "text": [
      "[1] \"Matrix of coeff., 2nd component\"\n"
     ]
    },
    {
     "data": {
      "text/html": [
       "<table>\n",
       "<tbody>\n",
       "\t<tr><td>5</td><td>4</td></tr>\n",
       "\t<tr><td>5</td><td>5</td></tr>\n",
       "</tbody>\n",
       "</table>\n"
      ],
      "text/latex": [
       "\\begin{tabular}{ll}\n",
       "\t 5 & 4\\\\\n",
       "\t 5 & 5\\\\\n",
       "\\end{tabular}\n"
      ],
      "text/markdown": [
       "\n",
       "| 5 | 4 | \n",
       "| 5 | 5 | \n",
       "\n",
       "\n"
      ],
      "text/plain": [
       "     [,1] [,2]\n",
       "[1,] 5    4   \n",
       "[2,] 5    5   "
      ]
     },
     "metadata": {},
     "output_type": "display_data"
    },
    {
     "name": "stdout",
     "output_type": "stream",
     "text": [
      "[1] \"Matrix of coeff., 3rd component\"\n"
     ]
    },
    {
     "data": {
      "text/html": [
       "<table>\n",
       "<tbody>\n",
       "\t<tr><td>8 </td><td>10</td></tr>\n",
       "\t<tr><td>7 </td><td>15</td></tr>\n",
       "</tbody>\n",
       "</table>\n"
      ],
      "text/latex": [
       "\\begin{tabular}{ll}\n",
       "\t 8  & 10\\\\\n",
       "\t 7  & 15\\\\\n",
       "\\end{tabular}\n"
      ],
      "text/markdown": [
       "\n",
       "| 8  | 10 | \n",
       "| 7  | 15 | \n",
       "\n",
       "\n"
      ],
      "text/plain": [
       "     [,1] [,2]\n",
       "[1,] 8    10  \n",
       "[2,] 7    15  "
      ]
     },
     "metadata": {},
     "output_type": "display_data"
    },
    {
     "name": "stdout",
     "output_type": "stream",
     "text": [
      "[1] \"Vector of coefficients\"\n"
     ]
    },
    {
     "data": {
      "text/html": [
       "<table>\n",
       "<tbody>\n",
       "\t<tr><td>1</td><td>3</td><td>6</td></tr>\n",
       "\t<tr><td>2</td><td>3</td><td>6</td></tr>\n",
       "</tbody>\n",
       "</table>\n"
      ],
      "text/latex": [
       "\\begin{tabular}{lll}\n",
       "\t 1 & 3 & 6\\\\\n",
       "\t 2 & 3 & 6\\\\\n",
       "\\end{tabular}\n"
      ],
      "text/markdown": [
       "\n",
       "| 1 | 3 | 6 | \n",
       "| 2 | 3 | 6 | \n",
       "\n",
       "\n"
      ],
      "text/plain": [
       "     [,1] [,2] [,3]\n",
       "[1,] 1    3    6   \n",
       "[2,] 2    3    6   "
      ]
     },
     "metadata": {},
     "output_type": "display_data"
    }
   ],
   "source": [
    "M = 2 # no. constraints\n",
    "N = 2 # no. fuzzy variables\n",
    "K = 3 # fuzzy \"size\" (triangular)\n",
    "\n",
    "# Objective function (costs vector)\n",
    "C1 = array(c(-1,0,2,1,2,3),c(K,N))\n",
    "print(\"Objective function\")\n",
    "C1\n",
    "\n",
    "# Constraints (matrix of coeff.):\n",
    "A1= array(c(2,4,5,5,8,7,\n",
    "            3,0,4,5,10,15),c(M,K,N))\n",
    "print(\"Matrix of coeff., 1st component\")\n",
    "# First component of the Triangular Fuzzy Number\n",
    "A1[,1,]\n",
    "# Second component of the Triangular Fuzzy Number\n",
    "print(\"Matrix of coeff., 2nd component\")\n",
    "A1[,2,]\n",
    "# Third component of the Triangular Fuzzy Number\n",
    "print(\"Matrix of coeff., 3rd component\")\n",
    "A1[,3,]\n",
    "\n",
    "\n",
    "\n",
    "\n",
    "\n",
    "# another simple option is to define them as a matrix,\n",
    "# but, for algorithm purposes, this structure suits better\n",
    "\n",
    "# RHS (right hand side), or Vector of coefficients:\n",
    "B1 = matrix(c(1,3,6,\n",
    "              2,3,6),\n",
    "            nrow=M,ncol=K,\n",
    "            byrow = TRUE)\n",
    "\n",
    "print(\"Vector of coefficients\")\n",
    "B1"
   ]
  },
  {
   "cell_type": "markdown",
   "metadata": {},
   "source": [
    "Following the multiobjective linear problem (MOLP) associated is formulated, where the multiobjective function $f=(f_1,f_2,f_3):\\mathbb{R}^6\\rightarrow \\mathbb{R}^3$ is a  vector-valued function, evaluated on \n",
    "$x=(x^-_1,\\hat{x}^{}_1,x^+_1, x^-_2,\\hat{x}^{}_2,x^+_2)\\in \\mathbb{R}^6$,\n",
    "\n",
    "$\\begin{array}{rcl}\n",
    "\\mbox{(MOLP)}\\ \\ \\mbox{Min } \\ \\ f(x) & = & (-x^+_1+x^-_2, 2\\hat{x}^{}_2, 2x^+_1+3x^+_2)\\in \\mathbb{R}^3 \\\\\n",
    "&s.t.& \\\\\n",
    "&& \\begin{array}{rcl}\n",
    "2x^-_1+3x^-_2 &\\leq& 1,\\\\%[1ex]\n",
    " 5\\hat{x}^{}_1+4\\hat{x}^{}_2 &\\leq& 3,\\\\%[1ex]\n",
    " 8x^+_1+10x^+_2 &\\leq& 6,\\\\%[1ex]\n",
    "4x^-_1 &\\leq& 2,\\\\%[1ex]\n",
    "5\\hat{x}^{}_1 +5\\hat{x}^{}_2&\\leq& 3,\\\\%[1ex]\n",
    "7x^+_1+15x^+_2 &\\leq& 6,\\\\%[1ex]\n",
    "x^-_n-\\hat{x}^{}_n &\\leq& 0,\\quad n=1,2\\\\%[1ex]\n",
    "\\hat{x}^{}_n-x^+_n &\\leq& 0,\\quad n=1,2 \\\\%[1ex]\n",
    "x^-_n,\\hat{x}^{}_n ,x^+_n &\\geq& 0,  \\quad n=1,2\n",
    "\\end{array}\n",
    "\\end{array}\n",
    "$\n",
    "\n",
    "There are $M_2=3M + 3N = 10$ constraints, and $N_2=3N=6$ variables. "
   ]
  },
  {
   "cell_type": "code",
   "execution_count": 2,
   "metadata": {},
   "outputs": [],
   "source": [
    "# MOLP associated\n",
    "M2 = M*K+N*(K-1) # total no. of constraints\n",
    "N2 = N*K # total no. of vars"
   ]
  },
  {
   "cell_type": "markdown",
   "metadata": {},
   "source": [
    "Equivalently, the above problem in matrix notation results as \n",
    "\n",
    "\\begin{eqnarray*}\n",
    "\\mbox{(MOLP)}\\ \\ &\\mbox{Min } & Cx \\in \\mathbb{R}^{3} \\\\\n",
    "&s.t.& Ax \\leq b,  \\\\\n",
    "&& x\\geq 0\n",
    "\\end{eqnarray*}\n",
    "\n",
    "where, \n",
    "\n",
    "$\n",
    "C = \\left( \\begin{array}{cccccc}\n",
    "%1    &0    &0  &  1  &  0   & 0  \\\\\n",
    "0    &0    &-1  &  1  &  0   & 0  \\\\\n",
    " 0   &0  &  0 &   0  &  2 &   0 \\\\\n",
    " 0   & 0  &  2  &  0 &   0  &  3 \n",
    "\\end{array} \\right),\n",
    "\\qquad \n",
    "A = \\left( \\begin{array}{cccccc}\n",
    "2  &  0  &  0  &  3  &  0  &  0  \\\\%[-0.5ex]\n",
    "0  &  5  &  0 &   0 &   4   & 0   \\\\%[-0.5ex]\n",
    "0  &  0  &  8  &  0  &  0  & 10   \\\\%[-0.5ex]\n",
    "4  &  0  &  0 &  0  &  0  &  0   \\\\%[-0.5ex]\n",
    "0  &  5  & 0  &  0   & 5   & 0   \\\\%[-0.5ex]\n",
    "0  &  0  &  7 &   0 &   0  & 15  \\\\%[-0.5ex]\n",
    "1  & -1  &  0 &   0  &  0  &  0  \\\\%[-0.5ex]\n",
    "0  &  1  & -1  &  0  &  0 &   0   \\\\%[-0.5ex]\n",
    "0  &  0  &  0  &  1  & -1  &  0   \\\\%[-0.5ex]\n",
    "0 &   0  &  0  &  0  &  1  & -1  \n",
    "\\end{array} \\right),\n",
    "\\quad\n",
    "b =\n",
    "\\begin{pmatrix}\n",
    "1 \\\\ 3 \\\\ 6 \\\\ 2 \\\\ 3 \\\\ 6 \\\\0\\\\0\\\\0\\\\0 \n",
    "\\end{pmatrix},\n",
    "\\quad \n",
    "\\text{ and }\n",
    "\\quad\n",
    "x = \\begin{pmatrix}\n",
    "x^-_1 \\\\ \\hat{x}^{}_1 \\\\ x^+_1 \\\\ x^-_2 \\\\ \\hat{x}^{}_2 \\\\ x^+_2\n",
    "\\end{pmatrix}\n",
    "\\in \\mathbb{R}^{6}\n",
    "$\n"
   ]
  },
  {
   "cell_type": "code",
   "execution_count": 3,
   "metadata": {},
   "outputs": [
    {
     "data": {
      "text/html": [
       "<table>\n",
       "<tbody>\n",
       "\t<tr><td>2 </td><td> 0</td><td> 0</td><td>3 </td><td> 0</td><td> 0</td></tr>\n",
       "\t<tr><td>0 </td><td> 5</td><td> 0</td><td>0 </td><td> 4</td><td> 0</td></tr>\n",
       "\t<tr><td>0 </td><td> 0</td><td> 8</td><td>0 </td><td> 0</td><td>10</td></tr>\n",
       "\t<tr><td>4 </td><td> 0</td><td> 0</td><td>0 </td><td> 0</td><td> 0</td></tr>\n",
       "\t<tr><td>0 </td><td> 5</td><td> 0</td><td>0 </td><td> 5</td><td> 0</td></tr>\n",
       "\t<tr><td>0 </td><td> 0</td><td> 7</td><td>0 </td><td> 0</td><td>15</td></tr>\n",
       "\t<tr><td>1 </td><td>-1</td><td> 0</td><td>0 </td><td> 0</td><td> 0</td></tr>\n",
       "\t<tr><td>0 </td><td> 1</td><td>-1</td><td>0 </td><td> 0</td><td> 0</td></tr>\n",
       "\t<tr><td>0 </td><td> 0</td><td> 0</td><td>1 </td><td>-1</td><td> 0</td></tr>\n",
       "\t<tr><td>0 </td><td> 0</td><td> 0</td><td>0 </td><td> 1</td><td>-1</td></tr>\n",
       "</tbody>\n",
       "</table>\n"
      ],
      "text/latex": [
       "\\begin{tabular}{llllll}\n",
       "\t 2  &  0 &  0 & 3  &  0 &  0\\\\\n",
       "\t 0  &  5 &  0 & 0  &  4 &  0\\\\\n",
       "\t 0  &  0 &  8 & 0  &  0 & 10\\\\\n",
       "\t 4  &  0 &  0 & 0  &  0 &  0\\\\\n",
       "\t 0  &  5 &  0 & 0  &  5 &  0\\\\\n",
       "\t 0  &  0 &  7 & 0  &  0 & 15\\\\\n",
       "\t 1  & -1 &  0 & 0  &  0 &  0\\\\\n",
       "\t 0  &  1 & -1 & 0  &  0 &  0\\\\\n",
       "\t 0  &  0 &  0 & 1  & -1 &  0\\\\\n",
       "\t 0  &  0 &  0 & 0  &  1 & -1\\\\\n",
       "\\end{tabular}\n"
      ],
      "text/markdown": [
       "\n",
       "| 2  |  0 |  0 | 3  |  0 |  0 | \n",
       "| 0  |  5 |  0 | 0  |  4 |  0 | \n",
       "| 0  |  0 |  8 | 0  |  0 | 10 | \n",
       "| 4  |  0 |  0 | 0  |  0 |  0 | \n",
       "| 0  |  5 |  0 | 0  |  5 |  0 | \n",
       "| 0  |  0 |  7 | 0  |  0 | 15 | \n",
       "| 1  | -1 |  0 | 0  |  0 |  0 | \n",
       "| 0  |  1 | -1 | 0  |  0 |  0 | \n",
       "| 0  |  0 |  0 | 1  | -1 |  0 | \n",
       "| 0  |  0 |  0 | 0  |  1 | -1 | \n",
       "\n",
       "\n"
      ],
      "text/plain": [
       "      [,1] [,2] [,3] [,4] [,5] [,6]\n",
       " [1,] 2     0    0   3     0    0  \n",
       " [2,] 0     5    0   0     4    0  \n",
       " [3,] 0     0    8   0     0   10  \n",
       " [4,] 4     0    0   0     0    0  \n",
       " [5,] 0     5    0   0     5    0  \n",
       " [6,] 0     0    7   0     0   15  \n",
       " [7,] 1    -1    0   0     0    0  \n",
       " [8,] 0     1   -1   0     0    0  \n",
       " [9,] 0     0    0   1    -1    0  \n",
       "[10,] 0     0    0   0     1   -1  "
      ]
     },
     "metadata": {},
     "output_type": "display_data"
    }
   ],
   "source": [
    "## MULTIOBJECTIVE LP associated:\n",
    "\n",
    "# Matrix of coefficients\n",
    "\n",
    "\n",
    "# simplest way: direct manually definition of the matrix\n",
    "#A2 = matrix( c(2 ,   0  ,  0  ,  3  ,  0  ,  0  \n",
    "#                0    5  ,  0 ,   0 ,   4   , 0   \n",
    "#                0    0  ,  8  ,  0  ,  0  , 10   \n",
    "#                4    0  ,  0 ,  0  ,  0  ,  0  \n",
    "#                0    5  , 0  ,  0   , 5   , 0   \n",
    "#                0  ,  0  ,  7 ,   0 ,   0  , 15  \n",
    "#                1  , -1  ,  0 ,   0  ,  0  ,  0  \n",
    "#                0  ,  1  , -1  ,  0  ,  0 ,   0  \n",
    "#                0  ,  0  ,  0  ,  1  , -1  ,  0   \n",
    "#                0 ,   0  ,  0  ,  0  ,  1  , -1),\n",
    "#            nrow = M2,ncol=N2,byrow=TRUE)\n",
    "\n",
    "# Or automatic definition, which requires some programming\n",
    "A2 = matrix(0,nrow = M2,ncol=N2)\n",
    "# See Eq.(19) + Remark 3\n",
    "for(m in 1:M){\n",
    "  # M*K equivalent constraints \n",
    "  for(n in 1:N){\n",
    "    if(K%%2==0){ # gral. k-polygonal Fuzzy Numbers\n",
    "      for(k in 1:(K/2)){ # see Remark 3\n",
    "        ifelse(A1[m,k,n]>=0, A2[K*(m-1)+k,K*(n-1)+k] <- A1[m,k,n], A2[K*m+1-k,K*n+1-k] <- A1[m,k,n])\n",
    "      }\n",
    "      for(k in (K/2+1):K){ \n",
    "        ifelse(A1[m,k,n]<=0, A2[K*m+1-k,K*n+1-k] <- A1[m,k,n] , A2[K*(m-1)+k,K*(n-1)+k] <- A1[m,k,n])\n",
    "      }\n",
    "    }\n",
    "    else{ # k-polygonal Fuzzy Numbers when a^{-}_k = a^{+}_k (i.e. triangular, etc)\n",
    "      for(k in 1:((K-1)/2)){ # see Remark 3\n",
    "        ifelse(A1[m,k,n]>=0, A2[K*(m-1)+k,K*(n-1)+k] <- A1[m,k,n], A2[K*m+1-k,K*n+1-k] <- A1[m,k,n])\n",
    "      }\n",
    "      A2[K*(m-1)+(K+1)/2,K*(n-1)+(K+1)/2] = A1[m,(K+1)/2,n]\n",
    "      for(k in ((K+3)/2):K){ \n",
    "        ifelse(A1[m,k,n]<=0, A2[K*m+1-k,K*n+1-k] <- A1[m,k,n] , A2[K*(m-1)+k,K*(n-1)+k] <- A1[m,k,n])\n",
    "      }\n",
    "    }\n",
    "    # N*(K-1) constraints to ensure fuzzy numbers (ordering between components)\n",
    "    for(k in 1:(K-1)){\n",
    "      A2[M*K + (K-1)*(n-1)+k,K*(n-1)+k] = 1 # k=i\n",
    "      A2[M*K + (K-1)*(n-1)+k,K*(n-1)+k+1] = -1 # k=i+1\n",
    "    } \n",
    "  }\n",
    "}\n",
    "\n",
    "\n",
    "# check it \n",
    "A2\n"
   ]
  },
  {
   "cell_type": "code",
   "execution_count": 4,
   "metadata": {},
   "outputs": [
    {
     "data": {
      "text/html": [
       "<table>\n",
       "<tbody>\n",
       "\t<tr><td>1</td></tr>\n",
       "\t<tr><td>3</td></tr>\n",
       "\t<tr><td>6</td></tr>\n",
       "\t<tr><td>2</td></tr>\n",
       "\t<tr><td>3</td></tr>\n",
       "\t<tr><td>6</td></tr>\n",
       "\t<tr><td>0</td></tr>\n",
       "\t<tr><td>0</td></tr>\n",
       "\t<tr><td>0</td></tr>\n",
       "\t<tr><td>0</td></tr>\n",
       "</tbody>\n",
       "</table>\n"
      ],
      "text/latex": [
       "\\begin{tabular}{l}\n",
       "\t 1\\\\\n",
       "\t 3\\\\\n",
       "\t 6\\\\\n",
       "\t 2\\\\\n",
       "\t 3\\\\\n",
       "\t 6\\\\\n",
       "\t 0\\\\\n",
       "\t 0\\\\\n",
       "\t 0\\\\\n",
       "\t 0\\\\\n",
       "\\end{tabular}\n"
      ],
      "text/markdown": [
       "\n",
       "| 1 | \n",
       "| 3 | \n",
       "| 6 | \n",
       "| 2 | \n",
       "| 3 | \n",
       "| 6 | \n",
       "| 0 | \n",
       "| 0 | \n",
       "| 0 | \n",
       "| 0 | \n",
       "\n",
       "\n"
      ],
      "text/plain": [
       "      [,1]\n",
       " [1,] 1   \n",
       " [2,] 3   \n",
       " [3,] 6   \n",
       " [4,] 2   \n",
       " [5,] 3   \n",
       " [6,] 6   \n",
       " [7,] 0   \n",
       " [8,] 0   \n",
       " [9,] 0   \n",
       "[10,] 0   "
      ]
     },
     "metadata": {},
     "output_type": "display_data"
    }
   ],
   "source": [
    "# Vector of coefficients\n",
    "B2 = rbind(matrix(t(B1)),matrix(0,N*(K-1)))\n",
    "\n",
    "# check it \n",
    "B2\n"
   ]
  },
  {
   "cell_type": "code",
   "execution_count": 5,
   "metadata": {},
   "outputs": [
    {
     "data": {
      "text/html": [
       "<table>\n",
       "<tbody>\n",
       "\t<tr><td>0 </td><td>0 </td><td>-1</td><td>1 </td><td>0 </td><td>0 </td></tr>\n",
       "\t<tr><td>0 </td><td>0 </td><td> 0</td><td>0 </td><td>2 </td><td>0 </td></tr>\n",
       "\t<tr><td>0 </td><td>0 </td><td> 2</td><td>0 </td><td>0 </td><td>3 </td></tr>\n",
       "</tbody>\n",
       "</table>\n"
      ],
      "text/latex": [
       "\\begin{tabular}{llllll}\n",
       "\t 0  & 0  & -1 & 1  & 0  & 0 \\\\\n",
       "\t 0  & 0  &  0 & 0  & 2  & 0 \\\\\n",
       "\t 0  & 0  &  2 & 0  & 0  & 3 \\\\\n",
       "\\end{tabular}\n"
      ],
      "text/markdown": [
       "\n",
       "| 0  | 0  | -1 | 1  | 0  | 0  | \n",
       "| 0  | 0  |  0 | 0  | 2  | 0  | \n",
       "| 0  | 0  |  2 | 0  | 0  | 3  | \n",
       "\n",
       "\n"
      ],
      "text/plain": [
       "     [,1] [,2] [,3] [,4] [,5] [,6]\n",
       "[1,] 0    0    -1   1    0    0   \n",
       "[2,] 0    0     0   0    2    0   \n",
       "[3,] 0    0     2   0    0    3   "
      ]
     },
     "metadata": {},
     "output_type": "display_data"
    }
   ],
   "source": [
    "# Coefficient function, or costs vector associated\n",
    "C2 = matrix(0,nrow=K,ncol = N*K)\n",
    "# See Eq.(18) + Remark 3\n",
    "for(n in 1:N){\n",
    "  if(K%%2==0){ # gral. k-polygonal Fuzzy Numbers\n",
    "    for(k in 1:(K/2)){ \n",
    "      ifelse(C1[k,n]>=0, C2[k,K*(n-1)+k] <- C1[k,n], C2[K+1-k,K*n+1-k] <- C1[k,n])\n",
    "    }\n",
    "    for(k in (K/2+1):K){ \n",
    "      ifelse(C1[k,n]<=0, C2[K+1-k,K*n+1-k] <- C1[k,n], C2[k,K*(n-1)+k] <- C1[k,n])\n",
    "    }\n",
    "  }\n",
    "  else{ # k-polygonal Fuzzy Numbers when a^{-}_k = a^{+}_k (i.e. triangular, etc)\n",
    "    for(k in 1:((K-1)/2)){ \n",
    "      ifelse(C1[k,n]>=0, C2[k,K*(n-1)+k] <- C1[k,n], C2[k,K*n+1-k] <- C1[k,n])\n",
    "    }\n",
    "    C2[(K+1)/2,K*(n-1)+(K+1)/2] = C1[(K+1)/2,n]\n",
    "    for(k in ((K+3)/2):K){ \n",
    "      ifelse(C1[k,n]<=0, C2[k,K*n+1-k] <- C1[k,n], C2[k,K*(n-1)+k] <- C1[k,n])\n",
    "    }\n",
    "  }\n",
    "}\n",
    "\n",
    "# check it \n",
    "C2"
   ]
  },
  {
   "cell_type": "code",
   "execution_count": 6,
   "metadata": {},
   "outputs": [
    {
     "data": {
      "text/html": [
       "<ol class=list-inline>\n",
       "\t<li>1</li>\n",
       "\t<li>0</li>\n",
       "\t<li>0</li>\n",
       "</ol>\n"
      ],
      "text/latex": [
       "\\begin{enumerate*}\n",
       "\\item 1\n",
       "\\item 0\n",
       "\\item 0\n",
       "\\end{enumerate*}\n"
      ],
      "text/markdown": [
       "1. 1\n",
       "2. 0\n",
       "3. 0\n",
       "\n",
       "\n"
      ],
      "text/plain": [
       "[1] 1 0 0"
      ]
     },
     "metadata": {},
     "output_type": "display_data"
    },
    {
     "data": {
      "text/html": [
       "<table>\n",
       "<tbody>\n",
       "\t<tr><td>0 </td><td>0 </td><td>-1</td><td>1 </td><td>0 </td><td>0 </td></tr>\n",
       "</tbody>\n",
       "</table>\n"
      ],
      "text/latex": [
       "\\begin{tabular}{llllll}\n",
       "\t 0  & 0  & -1 & 1  & 0  & 0 \\\\\n",
       "\\end{tabular}\n"
      ],
      "text/markdown": [
       "\n",
       "| 0  | 0  | -1 | 1  | 0  | 0  | \n",
       "\n",
       "\n"
      ],
      "text/plain": [
       "     [,1] [,2] [,3] [,4] [,5] [,6]\n",
       "[1,] 0    0    -1   1    0    0   "
      ]
     },
     "metadata": {},
     "output_type": "display_data"
    },
    {
     "name": "stdout",
     "output_type": "stream",
     "text": [
      "[1] \"Weak Pareto Solution (WPS)\"\n"
     ]
    },
    {
     "data": {
      "text/html": [
       "<ol class=list-inline>\n",
       "\t<li>0</li>\n",
       "\t<li>0</li>\n",
       "\t<li>0.75</li>\n",
       "\t<li>0</li>\n",
       "\t<li>0</li>\n",
       "\t<li>0</li>\n",
       "</ol>\n"
      ],
      "text/latex": [
       "\\begin{enumerate*}\n",
       "\\item 0\n",
       "\\item 0\n",
       "\\item 0.75\n",
       "\\item 0\n",
       "\\item 0\n",
       "\\item 0\n",
       "\\end{enumerate*}\n"
      ],
      "text/markdown": [
       "1. 0\n",
       "2. 0\n",
       "3. 0.75\n",
       "4. 0\n",
       "5. 0\n",
       "6. 0\n",
       "\n",
       "\n"
      ],
      "text/plain": [
       "[1] 0.00 0.00 0.75 0.00 0.00 0.00"
      ]
     },
     "metadata": {},
     "output_type": "display_data"
    },
    {
     "name": "stdout",
     "output_type": "stream",
     "text": [
      "[1] \"WPS objective value\"\n"
     ]
    },
    {
     "data": {
      "text/html": [
       "-0.75"
      ],
      "text/latex": [
       "-0.75"
      ],
      "text/markdown": [
       "-0.75"
      ],
      "text/plain": [
       "[1] -0.75"
      ]
     },
     "metadata": {},
     "output_type": "display_data"
    },
    {
     "data": {
      "text/html": [
       "<table>\n",
       "<tbody>\n",
       "\t<tr><td>-0.75</td></tr>\n",
       "</tbody>\n",
       "</table>\n"
      ],
      "text/latex": [
       "\\begin{tabular}{l}\n",
       "\t -0.75\\\\\n",
       "\\end{tabular}\n"
      ],
      "text/markdown": [
       "\n",
       "| -0.75 | \n",
       "\n",
       "\n"
      ],
      "text/plain": [
       "     [,1] \n",
       "[1,] -0.75"
      ]
     },
     "metadata": {},
     "output_type": "display_data"
    }
   ],
   "source": [
    "# # Weak Pareto Solution for (MOLP)\n",
    "\n",
    "# install.packages(\"lpSolve\")\n",
    "library(\"lpSolve\")\n",
    "\n",
    "# Some weight (arbitrary)\n",
    "W = c(1,0,0) #rep(1,times=K)\n",
    "W\n",
    "W%*%C2 \n",
    "f.obj = W%*%C2 #c(t(C2))\n",
    "f.con = A2\n",
    "f.rhs = B2\n",
    "f.dir <- rep(\"<=\",times=M2)\n",
    "# Now run.\n",
    "WP.Sol = lp (\"min\", f.obj, f.con, f.dir, f.rhs)\n",
    "#WP.Sol = array(lp (\"min\", f.obj, f.con, f.dir, f.rhs)$solution,c(Fu,N))\n",
    "\n",
    "print(\"Weak Pareto Solution (WPS)\")\n",
    "WP.Sol$solution\n",
    "\n",
    "print(\"WPS objective value\")\n",
    "WP.Sol$objval\n",
    "\n",
    "#check it \n",
    "f.obj%*%WP.Sol$solution"
   ]
  },
  {
   "cell_type": "code",
   "execution_count": 7,
   "metadata": {},
   "outputs": [
    {
     "data": {
      "text/html": [
       "<ol class=list-inline>\n",
       "\t<li>0</li>\n",
       "\t<li>0</li>\n",
       "\t<li>0.75</li>\n",
       "</ol>\n"
      ],
      "text/latex": [
       "\\begin{enumerate*}\n",
       "\\item 0\n",
       "\\item 0\n",
       "\\item 0.75\n",
       "\\end{enumerate*}\n"
      ],
      "text/markdown": [
       "1. 0\n",
       "2. 0\n",
       "3. 0.75\n",
       "\n",
       "\n"
      ],
      "text/plain": [
       "[1] 0.00 0.00 0.75"
      ]
     },
     "metadata": {},
     "output_type": "display_data"
    },
    {
     "data": {
      "text/html": [
       "<ol class=list-inline>\n",
       "\t<li>0</li>\n",
       "\t<li>0</li>\n",
       "\t<li>0</li>\n",
       "</ol>\n"
      ],
      "text/latex": [
       "\\begin{enumerate*}\n",
       "\\item 0\n",
       "\\item 0\n",
       "\\item 0\n",
       "\\end{enumerate*}\n"
      ],
      "text/markdown": [
       "1. 0\n",
       "2. 0\n",
       "3. 0\n",
       "\n",
       "\n"
      ],
      "text/plain": [
       "[1] 0 0 0"
      ]
     },
     "metadata": {},
     "output_type": "display_data"
    }
   ],
   "source": [
    "# Corresponding non dominated Fuzzy Solution for (FFLP)\n",
    "x1.fsol = WP.Sol$solution[1:3]\n",
    "x2.fsol = WP.Sol$solution[4:6]\n",
    "\n",
    "x1.fsol\n",
    "x2.fsol"
   ]
  },
  {
   "cell_type": "code",
   "execution_count": 8,
   "metadata": {},
   "outputs": [
    {
     "data": {
      "image/png": "[encoded data removed]",
      "text/plain": [
       "Plot with title “Fuzzy Numbers”"
      ]
     },
     "metadata": {},
     "output_type": "display_data"
    }
   ],
   "source": [
    "#Example of plotting Fuzzy Numbers\n",
    "\n",
    "# Objective function (costs vector)\n",
    "plot(C1[1:3],c(0,1,0),type = \"l\",lwd=2,col=\"black\" ,\n",
    "       xlim = c(-1,3),\n",
    "       main=\"Fuzzy Numbers\", ylab=\"\",\n",
    "       xlab = \"x\",\n",
    "       cex.lab=2,cex.axis=1.5,cex.main=2)\n",
    "# adding new points/lines (fuzzy number representation) to the previous plot\n",
    "points(C1[1:3],c(0,1,0),lwd=2,#linewidth\n",
    "       col= \"black\",# define color\n",
    "       pch=15) # point character \n",
    "\n",
    "lines(C1[4:6],c(0,1,0),lty=2,#line type\n",
    "      lwd=2,col= \"magenta\") \n",
    "points(C1[4:6],c(0,1,0),lwd=2,col= \"magenta\",pch=16) \n",
    "\n",
    "# Fuzzy solutions: \n",
    "lines(x1.fsol,c(0,1,0),lty=3,lwd=2,col= \"blue\") \n",
    "points(x1.fsol,c(0,1,0),lwd=2,col= \"blue\",pch=17) \n",
    "\n",
    "#lines(x2.fsol,c(0,1,0),lty=4,lwd=2,col= \"cyan\") \n",
    "points(x2.fsol,c(0,1,0),lwd=2,col= \"cyan\",pch=18) \n",
    "\n",
    "\n",
    "\n",
    "\n"
   ]
  },
  {
   "cell_type": "code",
   "execution_count": null,
   "metadata": {},
   "outputs": [],
   "source": []
  }
 ],
 "metadata": {
  "kernelspec": {
   "display_name": "R",
   "language": "R",
   "name": "ir"
  },
  "language_info": {
   "codemirror_mode": "r",
   "file_extension": ".r",
   "mimetype": "text/x-r-source",
   "name": "R",
   "pygments_lexer": "r",
   "version": "3.5.1"
  }
 },
 "nbformat": 4,
 "nbformat_minor": 2
}
